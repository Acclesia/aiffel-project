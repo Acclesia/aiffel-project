{
  "nbformat": 4,
  "nbformat_minor": 0,
  "metadata": {
    "kernelspec": {
      "display_name": "aiffel",
      "language": "python",
      "name": "aiffel"
    },
    "language_info": {
      "codemirror_mode": {
        "name": "ipython",
        "version": 3
      },
      "file_extension": ".py",
      "mimetype": "text/x-python",
      "name": "python",
      "nbconvert_exporter": "python",
      "pygments_lexer": "ipython3",
      "version": "3.7.9"
    },
    "colab": {
      "name": "[E-5] Spectrogram classification_true.ipynb",
      "provenance": [],
      "collapsed_sections": [],
      "include_colab_link": true
    }
  },
  "cells": [
    {
      "cell_type": "markdown",
      "metadata": {
        "id": "view-in-github",
        "colab_type": "text"
      },
      "source": [
        "<a href=\"https://colab.research.google.com/github/Acclesia/aiffel-project/blob/master/%5BE_5%5D_Spectrogram_classification_colab.ipynb\" target=\"_parent\"><img src=\"https://colab.research.google.com/assets/colab-badge.svg\" alt=\"Open In Colab\"/></a>"
      ]
    },
    {
      "cell_type": "markdown",
      "metadata": {
        "id": "ZL_qhkH-wNdD"
      },
      "source": [
        "# E-5] Spectrogram classification"
      ]
    },
    {
      "cell_type": "markdown",
      "metadata": {
        "id": "TuTZ_RlcwNdH"
      },
      "source": [
        "* 2차원 Spectrogram 데이터 받아 기본버전과 skip-connection버전으로 학습"
      ]
    },
    {
      "cell_type": "markdown",
      "metadata": {
        "id": "-Oaq9WAOwNdH"
      },
      "source": [
        "## 루브릭 평가 기준\n",
        "1. 음성데이터를 2차원 Spectrogram 으로 변환하여 데이터셋을 구성하였다.\n",
        " * 스펙트로그램 시각화 및 train/test 데이터셋 구성이 정상진행되었다.\n",
        "= yes!! \n",
        "\n",
        "2. 1,2차원 데이터를 처리하는 음성인식 모델이 정상 작동한다.\n",
        " * 스펙트로그램을 입력받은 모델이 학습과정에서 안정적으로 수렴하며, evaluation/test 단계를 무리없이 진행가능하다.\n",
        "= yes!\n",
        "\n",
        "3. 테스트셋 수행결과 음성인식 모델의 Accuracy가 일정 수준에 도달하였다.\n",
        " * evaluation 결과 75% 이상의 정확도를 달성하는 모델이 하나 이상 존재한다\n",
        " = 정확도는 83% 나왔다. 다른 모델로도 해보고 싶은데 학습하는데만 밤새 걸려서 엄두가 안난다....ㅎ"
      ]
    },
    {
      "cell_type": "markdown",
      "metadata": {
        "id": "zK7K_aMhwNdI"
      },
      "source": [
        "### 1. 데이터 처리와 분류\n",
        "\n",
        "    라벨 데이터 처리하기\n",
        "    sklearn의 train_test_split함수를 이용하여 train, test 분리\n"
      ]
    },
    {
      "cell_type": "code",
      "metadata": {
        "id": "4eMoq7rrwNdI",
        "outputId": "8c65a265-403c-4d2b-9efc-bf05aa9faff8"
      },
      "source": [
        "import numpy as np\n",
        "import os\n",
        "\n",
        "data_path = os.getenv(\"HOME\")+'/aiffel/speech_recognition/data/speech_wav_8000.npz'\n",
        "speech_data = np.load(data_path)\n",
        "\n",
        "print(\"✅\")"
      ],
      "execution_count": null,
      "outputs": [
        {
          "output_type": "stream",
          "text": [
            "✅\n"
          ],
          "name": "stdout"
        }
      ]
    },
    {
      "cell_type": "code",
      "metadata": {
        "id": "g9bjh30bwNdI",
        "outputId": "b6ebdbbc-0d3a-41ed-e370-c7cbd783dd41"
      },
      "source": [
        "#데이터셋은 1초 길이의 오디오 음성데이터가 50620개 \n",
        "print(\"Wave data shape : \", speech_data[\"wav_vals\"].shape)\n",
        "print(\"Label data shape : \", speech_data[\"label_vals\"].shape)\n",
        "print(type(speech_data['label_vals']))\n",
        "print(\"✅\")"
      ],
      "execution_count": null,
      "outputs": [
        {
          "output_type": "stream",
          "text": [
            "Wave data shape :  (50620, 8000)\n",
            "Label data shape :  (50620, 1)\n",
            "<class 'numpy.ndarray'>\n",
            "✅\n"
          ],
          "name": "stdout"
        }
      ]
    },
    {
      "cell_type": "code",
      "metadata": {
        "id": "kKwpcHOqwNdJ",
        "outputId": "a5e6aa07-324d-426d-92d3-b6417d899929"
      },
      "source": [
        "import numpy as np \n",
        "np.unique(speech_data['label_vals']).tolist()"
      ],
      "execution_count": null,
      "outputs": [
        {
          "output_type": "execute_result",
          "data": {
            "text/plain": [
              "['down',\n",
              " 'go',\n",
              " 'left',\n",
              " 'no',\n",
              " 'off',\n",
              " 'on',\n",
              " 'right',\n",
              " 'silence',\n",
              " 'stop',\n",
              " 'unknown',\n",
              " 'up',\n",
              " 'yes']"
            ]
          },
          "metadata": {
            "tags": []
          },
          "execution_count": 3
        }
      ]
    },
    {
      "cell_type": "code",
      "metadata": {
        "id": "z9xGG9m0wNdJ",
        "outputId": "56f22ad3-4ac5-4e36-eed6-e0875bcb2c3e"
      },
      "source": [
        "import IPython.display as ipd\n",
        "import random\n",
        "\n",
        "# 데이터 선택 (랜덤하게 선택하고 있으니, 여러번 실행해 보세요)\n",
        "rand = random.randint(3, len(speech_data[\"wav_vals\"]))\n",
        "print(\"rand num : \", rand)\n",
        "\n",
        "sr = 8000 # 1초동안 재생되는 샘플의 갯수\n",
        "data = speech_data[\"wav_vals\"][rand]\n",
        "print(\"Wave data shape : \", data.shape)\n",
        "print(\"label : \", speech_data[\"label_vals\"][rand])\n",
        "\n",
        "ipd.Audio(data, rate=sr)"
      ],
      "execution_count": null,
      "outputs": [
        {
          "output_type": "stream",
          "text": [
            "rand num :  46987\n",
            "Wave data shape :  (8000,)\n",
            "label :  ['silence']\n"
          ],
          "name": "stdout"
        },
        {
          "output_type": "execute_result",
          "data": {
            "text/html": [
              "\n",
              "                <audio  controls=\"controls\" >\n",
              "                    <source src=\"data:audio/wav;base64,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\" type=\"audio/wav\" />\n",
              "                    Your browser does not support the audio element.\n",
              "                </audio>\n",
              "              "
            ],
            "text/plain": [
              "<IPython.lib.display.Audio object>"
            ]
          },
          "metadata": {
            "tags": []
          },
          "execution_count": 4
        }
      ]
    },
    {
      "cell_type": "code",
      "metadata": {
        "id": "s4EF6sNtwNdK",
        "outputId": "ecac8d4c-708a-49e8-b11f-51f61d0d74ee"
      },
      "source": [
        "#1차원 데이터 2차원의 spectrogram 데이터로 변경\n",
        "import librosa\n",
        "\n",
        "def wav2spec(wav, fft_size=258): # spectrogram shape을 맞추기위해서 size 변형\n",
        "    D = np.abs(librosa.stft(wav, n_fft=fft_size))\n",
        "    return D\n",
        "print(\"✅\")"
      ],
      "execution_count": null,
      "outputs": [
        {
          "output_type": "stream",
          "text": [
            "✅\n"
          ],
          "name": "stdout"
        }
      ]
    },
    {
      "cell_type": "code",
      "metadata": {
        "id": "Mw5NwnpTwNdK",
        "outputId": "fe84557d-24b7-464b-a100-9a720073539a"
      },
      "source": [
        "# 위에서 뽑았던 sample data\n",
        "spec = wav2spec(data)\n",
        "print(\"Waveform shape : \",data.shape)\n",
        "print(\"Spectrogram shape : \",spec.shape)"
      ],
      "execution_count": null,
      "outputs": [
        {
          "output_type": "stream",
          "text": [
            "Waveform shape :  (8000,)\n",
            "Spectrogram shape :  (130, 126)\n"
          ],
          "name": "stdout"
        }
      ]
    },
    {
      "cell_type": "markdown",
      "metadata": {
        "id": "xeiG5wTOykV7"
      },
      "source": [
        "!!! 목요일 오후) 현재..랜덤으로 뽑은 데이터만 2차원으로 바뀐거 같다..\n",
        "전체 데이터를 for문으로 돌려서 2차원 spectogram으로 만들어야 하는거 같다..\n",
        "하지만 나는 지금 gpu가 이상하고 아나콘다도 없어져서 커널이랑 가상환경도 못한다...\n",
        "코드를 바꿔도 epoch하는데만 반나절 걸리기 때문에 이 상태로 제출..흑ㅠㅠ"
      ]
    },
    {
      "cell_type": "code",
      "metadata": {
        "id": "tfduPoDMwNdK",
        "outputId": "0d0a162e-ff0f-42f2-decc-a4c5041d942f"
      },
      "source": [
        "#label data 처리 \n",
        "#텍스트로 된 라벨데이터를 index로 바꾸는 작업\n",
        "target_list = np.unique(speech_data['label_vals']).tolist()\n",
        "\n",
        "label_value = target_list\n",
        "print('LABEL:',label_value)\n",
        "\n",
        "new_label_value = dict()\n",
        "for i,l in enumerate(label_value): \n",
        "    new_label_value[l]=i\n",
        "label_value = new_label_value\n",
        "\n",
        "print('Indexed LABEL:',new_label_value)"
      ],
      "execution_count": null,
      "outputs": [
        {
          "output_type": "stream",
          "text": [
            "LABEL: ['down', 'go', 'left', 'no', 'off', 'on', 'right', 'silence', 'stop', 'unknown', 'up', 'yes']\n",
            "Indexed LABEL: {'down': 0, 'go': 1, 'left': 2, 'no': 3, 'off': 4, 'on': 5, 'right': 6, 'silence': 7, 'stop': 8, 'unknown': 9, 'up': 10, 'yes': 11}\n"
          ],
          "name": "stdout"
        }
      ]
    },
    {
      "cell_type": "code",
      "metadata": {
        "id": "m_nSSDrpwNdL",
        "outputId": "d5b76372-2e02-46b7-d8db-deb08b3a9e73"
      },
      "source": [
        "temp = []\n",
        "for v in speech_data[\"label_vals\"]:\n",
        "    temp.append(label_value[v[0]])\n",
        "label_data = np.array(temp)\n",
        "\n",
        "label_data"
      ],
      "execution_count": null,
      "outputs": [
        {
          "output_type": "execute_result",
          "data": {
            "text/plain": [
              "array([0, 0, 0, ..., 7, 7, 7])"
            ]
          },
          "metadata": {
            "tags": []
          },
          "execution_count": 8
        }
      ]
    },
    {
      "cell_type": "code",
      "metadata": {
        "id": "VVT2X9UEwNdL",
        "outputId": "f24947fe-f2dc-473e-940d-e017a437b54e"
      },
      "source": [
        "#데이터 분리\n",
        "from sklearn.model_selection import train_test_split\n",
        "\n",
        "sr = 8000\n",
        "train_wav, test_wav, train_label, test_label = train_test_split(speech_data[\"wav_vals\"], \n",
        "                                                                label_data, \n",
        "                                                                test_size=0.2,\n",
        "                                                                shuffle=True)\n",
        "print(train_wav)\n",
        "\n",
        "train_wav = train_wav.reshape([-1, sr, 1]) # add channel for CNN\n",
        "test_wav = test_wav.reshape([-1, sr, 1])                                                    "
      ],
      "execution_count": null,
      "outputs": [
        {
          "output_type": "stream",
          "text": [
            "[[ 1.00075779e-03  1.73614006e-02  4.10028100e-02 ... -1.82687435e-02\n",
            "  -3.35108256e-03 -1.32366419e-02]\n",
            " [ 4.17793356e-02 -6.42028451e-02  1.20232284e-01 ... -2.43684966e-02\n",
            "  -1.44415060e-02 -5.88012394e-03]\n",
            " [-3.24792485e-03 -5.92566608e-03 -4.83857142e-03 ... -2.38697045e-04\n",
            "  -7.78569665e-05 -8.65458918e-04]\n",
            " ...\n",
            " [ 3.47291680e-05  8.66069677e-05  1.13667338e-05 ... -2.19892354e-05\n",
            "  -3.12858174e-05 -5.31450278e-05]\n",
            " [-4.29282751e-04 -5.81529108e-04 -5.38978085e-04 ... -5.20958216e-04\n",
            "  -5.23725001e-04 -6.15365396e-04]\n",
            " [ 9.90237808e-04 -6.52900722e-04 -2.69066379e-03 ...  8.42041103e-04\n",
            "  -3.21515166e-04 -1.10193924e-03]]\n"
          ],
          "name": "stdout"
        }
      ]
    },
    {
      "cell_type": "code",
      "metadata": {
        "id": "6H5vHPu9wNdL",
        "outputId": "1b3a18b7-6e61-4741-845c-ff8505537e24"
      },
      "source": [
        "print(\"train data : \", train_wav.shape)\n",
        "print(\"train labels : \", train_label.shape)\n",
        "print(\"test data : \", test_wav.shape)\n",
        "print(\"test labels : \", test_label.shape)"
      ],
      "execution_count": null,
      "outputs": [
        {
          "output_type": "stream",
          "text": [
            "train data :  (40496, 8000, 1)\n",
            "train labels :  (40496,)\n",
            "test data :  (10124, 8000, 1)\n",
            "test labels :  (10124,)\n"
          ],
          "name": "stdout"
        }
      ]
    },
    {
      "cell_type": "markdown",
      "metadata": {
        "id": "yO16Z5KNwNdL"
      },
      "source": [
        "# Hyper-parameters setting"
      ]
    },
    {
      "cell_type": "code",
      "metadata": {
        "id": "LOlUBOj9wNdM",
        "outputId": "e8e8a977-6be8-404a-f674-cbb8a8dbc0c2"
      },
      "source": [
        "batch_size = 16\n",
        "max_epochs = 5\n",
        "\n",
        "# the save point\n",
        "checkpoint_dir = os.getenv(\"HOME\")+'/aiffel/speech_recognition/data/speech_wav_8000.npz'\n",
        "checkpoint_dir"
      ],
      "execution_count": null,
      "outputs": [
        {
          "output_type": "execute_result",
          "data": {
            "text/plain": [
              "'/home/aiffel-dj54/aiffel/speech_recognition/data/speech_wav_8000.npz'"
            ]
          },
          "metadata": {
            "tags": []
          },
          "execution_count": 11
        }
      ]
    },
    {
      "cell_type": "markdown",
      "metadata": {
        "id": "vBNGU0GTwNdM"
      },
      "source": [
        "# Data setting\n",
        "- tf. data,dataset을 사용해서 데이터셋을 구성한다. \n",
        "- tf.data.Dataset.from_tensor_slices 함수에 return 받길 원하는 데이터를 넣는다"
      ]
    },
    {
      "cell_type": "code",
      "metadata": {
        "id": "JVdyI70ZwNdM"
      },
      "source": [
        "#map 함수에 넘겨줄 데이터 전처리 함수 \n",
        "#one-hot-encoding\n",
        "\n",
        "def one_hot_label(wav, label):\n",
        "    label = tf.one_hot(label, depth=12)\n",
        "    return wav, label"
      ],
      "execution_count": null,
      "outputs": []
    },
    {
      "cell_type": "code",
      "metadata": {
        "id": "NOmG6PlVwNdM",
        "outputId": "e6992405-29ec-4500-dc93-abb46e8268d1"
      },
      "source": [
        "# tf. data. dataset. 함수구성\n",
        "import tensorflow as tf\n",
        "\n",
        "# for train \n",
        "# return 받길 원하는 데이터는 train_wav, train_label\n",
        "# tensor slice 함수를 통해 데이터를 정리해준다\n",
        "train_dataset = tf.data.Dataset.from_tensor_slices((train_wav, train_label))\n",
        "train_dataset = train_dataset.map(one_hot_label) # train_wav, train_label를 받으면 return으로 무엇을 반환할지 결정\n",
        "train_dataset = train_dataset.repeat().batch(batch_size=batch_size)\n",
        "print(train_dataset)"
      ],
      "execution_count": null,
      "outputs": [
        {
          "output_type": "stream",
          "text": [
            "<BatchDataset shapes: ((None, 8000, 1), (None, 12)), types: (tf.float32, tf.float32)>\n"
          ],
          "name": "stdout"
        }
      ]
    },
    {
      "cell_type": "markdown",
      "metadata": {
        "id": "DuCSNP0lwNdN"
      },
      "source": [
        "값을 해석해보면 batctdataset shape 에는 wav 가 없고 label 이 8000(?), depth = 1 / train label: none label이 12???? (????)"
      ]
    },
    {
      "cell_type": "code",
      "metadata": {
        "id": "yumkaCXNwNdN",
        "outputId": "2d2fd82c-699f-4391-e0de-f185d50af521"
      },
      "source": [
        "\n",
        "# for test\n",
        "test_dataset = tf.data.Dataset.from_tensor_slices((test_wav, test_label))\n",
        "test_dataset = test_dataset.map(one_hot_label)\n",
        "test_dataset = test_dataset.batch(batch_size=batch_size)\n",
        "print(test_dataset)\n",
        "print(\"✅\")"
      ],
      "execution_count": null,
      "outputs": [
        {
          "output_type": "stream",
          "text": [
            "<BatchDataset shapes: ((None, 8000, 1), (None, 12)), types: (tf.float32, tf.float32)>\n",
            "✅\n"
          ],
          "name": "stdout"
        }
      ]
    },
    {
      "cell_type": "markdown",
      "metadata": {
        "id": "D0lNsDNPwNdN"
      },
      "source": [
        "#  2차원 Spectrogram 데이터를 처리하는 모델 구성\n",
        "* 자연어 처리 분야에서 사용하는 합성곱의 경우 각 단어 벡터의 차원 전체에 대해 필터를 적용시키기 위해 주로 conv1D를 사용한다\n",
        "* padding 은 same(입력 사이즈가 같아지게 하는거) or valid(padding을 안하는 것)\n",
        "* activation은 활성화 함수 넣는 것- relu 넣음 \n",
        "* maxpool1D() : 맥스풀링은 특징 맵에서 최대값만 뽑아내는 방식이다. \n",
        "* pooling은 featue map 크기를 줄이거나 주요한 특징을 뽑아내기 위해서 적용된다.\n",
        "* 종류는 MaxPool1D, MaxPool2D, MaxPool3D으로 나눠진다."
      ]
    },
    {
      "cell_type": "code",
      "metadata": {
        "id": "UnYvUryEwNdN"
      },
      "source": [
        "\n",
        "from tensorflow.keras import layers\n",
        "\n",
        "input_tensor = layers.Input(shape=(sr, 1))\n",
        "\n",
        "x = layers.Conv1D(32, 9, padding='same', activation='relu')(input_tensor)\n",
        "x = layers.Conv1D(32, 9, padding='same', activation='relu')(x)\n",
        "x = layers.MaxPool1D()(x)\n",
        "\n",
        "x = layers.Conv1D(64, 9, padding='same', activation='relu')(x)\n",
        "x = layers.Conv1D(64, 9, padding='same', activation='relu')(x)\n",
        "x = layers.MaxPool1D()(x)\n",
        "\n",
        "x = layers.Conv1D(128, 9, padding='same', activation='relu')(x)\n",
        "x = layers.Conv1D(128, 9, padding='same', activation='relu')(x)\n",
        "x = layers.Conv1D(128, 9, padding='same', activation='relu')(x)\n",
        "x = layers.MaxPool1D()(x)\n",
        "\n",
        "x = layers.Conv1D(256, 9, padding='same', activation='relu')(x)\n",
        "x = layers.Conv1D(256, 9, padding='same', activation='relu')(x)\n",
        "x = layers.Conv1D(256, 9, padding='same', activation='relu')(x)\n",
        "x = layers.MaxPool1D()(x)\n",
        "x = layers.Dropout(0.3)(x)\n",
        "\n",
        "#dropout 레이어는 과적합을 방지하기 위해서 특정 확률만큼 노드의 값을 0으로 만든다.\n",
        "#drop out(0.3)(입력값) 전체 입력값 중에서 30%를 0으로 만든다."
      ],
      "execution_count": null,
      "outputs": []
    },
    {
      "cell_type": "code",
      "metadata": {
        "id": "Cn9R9dF_wNdO",
        "outputId": "a0042d03-2545-4bd9-a5b1-52915ad41a5f"
      },
      "source": [
        "x = layers.Flatten()(x)\n",
        "x = layers.Dense(256)(x)\n",
        "x = layers.BatchNormalization()(x)\n",
        "x = layers.Activation('relu')(x)\n",
        "\n",
        "output_tensor = layers.Dense(12)(x)\n",
        "\n",
        "model_wav = tf.keras.Model(input_tensor, output_tensor)\n",
        "\n",
        "model_wav.summary()"
      ],
      "execution_count": null,
      "outputs": [
        {
          "output_type": "stream",
          "text": [
            "Model: \"model\"\n",
            "_________________________________________________________________\n",
            "Layer (type)                 Output Shape              Param #   \n",
            "=================================================================\n",
            "input_1 (InputLayer)         [(None, 8000, 1)]         0         \n",
            "_________________________________________________________________\n",
            "conv1d (Conv1D)              (None, 8000, 32)          320       \n",
            "_________________________________________________________________\n",
            "conv1d_1 (Conv1D)            (None, 8000, 32)          9248      \n",
            "_________________________________________________________________\n",
            "max_pooling1d (MaxPooling1D) (None, 4000, 32)          0         \n",
            "_________________________________________________________________\n",
            "conv1d_2 (Conv1D)            (None, 4000, 64)          18496     \n",
            "_________________________________________________________________\n",
            "conv1d_3 (Conv1D)            (None, 4000, 64)          36928     \n",
            "_________________________________________________________________\n",
            "max_pooling1d_1 (MaxPooling1 (None, 2000, 64)          0         \n",
            "_________________________________________________________________\n",
            "conv1d_4 (Conv1D)            (None, 2000, 128)         73856     \n",
            "_________________________________________________________________\n",
            "conv1d_5 (Conv1D)            (None, 2000, 128)         147584    \n",
            "_________________________________________________________________\n",
            "conv1d_6 (Conv1D)            (None, 2000, 128)         147584    \n",
            "_________________________________________________________________\n",
            "max_pooling1d_2 (MaxPooling1 (None, 1000, 128)         0         \n",
            "_________________________________________________________________\n",
            "conv1d_7 (Conv1D)            (None, 1000, 256)         295168    \n",
            "_________________________________________________________________\n",
            "conv1d_8 (Conv1D)            (None, 1000, 256)         590080    \n",
            "_________________________________________________________________\n",
            "conv1d_9 (Conv1D)            (None, 1000, 256)         590080    \n",
            "_________________________________________________________________\n",
            "max_pooling1d_3 (MaxPooling1 (None, 500, 256)          0         \n",
            "_________________________________________________________________\n",
            "dropout (Dropout)            (None, 500, 256)          0         \n",
            "_________________________________________________________________\n",
            "flatten (Flatten)            (None, 128000)            0         \n",
            "_________________________________________________________________\n",
            "dense (Dense)                (None, 256)               32768256  \n",
            "_________________________________________________________________\n",
            "batch_normalization (BatchNo (None, 256)               1024      \n",
            "_________________________________________________________________\n",
            "activation (Activation)      (None, 256)               0         \n",
            "_________________________________________________________________\n",
            "dense_1 (Dense)              (None, 12)                3084      \n",
            "=================================================================\n",
            "Total params: 34,681,708\n",
            "Trainable params: 34,681,196\n",
            "Non-trainable params: 512\n",
            "_________________________________________________________________\n"
          ],
          "name": "stdout"
        }
      ]
    },
    {
      "cell_type": "markdown",
      "metadata": {
        "id": "mqdi5rnywNdO"
      },
      "source": [
        "conv 1d layer 속성을 이해하면 2d를 이해할 수 , conv 2d 차이 \n",
        "3차원 입력이 들어오면 1차원으로 연산을 처리는 1d, 2차원으로 연산하면 2d  \n",
        "batch 32 epoch 10\n"
      ]
    },
    {
      "cell_type": "code",
      "metadata": {
        "id": "LQbhf2hUwNdO",
        "outputId": "a2c9b6d6-83d1-434b-edc1-66a23b14e2c8"
      },
      "source": [
        "# loss \n",
        "optimizer=tf.keras.optimizers.Adam(1e-4)\n",
        "model_wav.compile(loss=tf.keras.losses.CategoricalCrossentropy(from_logits=True),\n",
        "             optimizer=optimizer,\n",
        "             metrics=['accuracy'])\n",
        "print(\"✅\")"
      ],
      "execution_count": null,
      "outputs": [
        {
          "output_type": "stream",
          "text": [
            "✅\n"
          ],
          "name": "stdout"
        }
      ]
    },
    {
      "cell_type": "code",
      "metadata": {
        "id": "hHets97cwNdO"
      },
      "source": [
        "# call back: 학습 중간에 원하는 동작 할 수 있다./ 모델 가중치를 저장한다.\n",
        "cp_callback = tf.keras.callbacks.ModelCheckpoint(checkpoint_dir,\n",
        "                                               save_weights_only=True,\n",
        "                                                 monitor='val_loss', #val_loss를 모니터해서 loss가 낮아지면 모델 파라미터를 저장\n",
        "                                                 mode='auto',\n",
        "                                                 save_best_only=True,\n",
        "                                                 verbose=1)"
      ],
      "execution_count": null,
      "outputs": []
    },
    {
      "cell_type": "code",
      "metadata": {
        "id": "XFrM19bxwNdP",
        "outputId": "984d5867-839e-419c-a0bd-6e62bf310793"
      },
      "source": [
        "# 모델 학습\n",
        "history_wav = model_wav.fit(train_dataset,epochs=max_epochs,\n",
        "                           steps_per_epoch=len(train_wav)//batch_size,\n",
        "                           validation_data=test_dataset,\n",
        "                           validation_steps=len(test_wav)//batch_size,\n",
        "                           callbacks=[cp_callback]\n",
        "                           )\n",
        "print(\"ok\")"
      ],
      "execution_count": null,
      "outputs": [
        {
          "output_type": "stream",
          "text": [
            "Epoch 1/5\n",
            "2531/2531 [==============================] - ETA: 0s - loss: 1.6669 - accuracy: 0.4332\n",
            "Epoch 00001: val_loss improved from inf to 1.13983, saving model to /home/aiffel-dj54/aiffel/speech_recognition/data/speech_wav_8000.npz\n",
            "2531/2531 [==============================] - 3377s 1s/step - loss: 1.6669 - accuracy: 0.4332 - val_loss: 1.1398 - val_accuracy: 0.6305\n",
            "Epoch 2/5\n",
            "2531/2531 [==============================] - ETA: 0s - loss: 0.9886 - accuracy: 0.6861\n",
            "Epoch 00002: val_loss improved from 1.13983 to 0.78361, saving model to /home/aiffel-dj54/aiffel/speech_recognition/data/speech_wav_8000.npz\n",
            "2531/2531 [==============================] - 3368s 1s/step - loss: 0.9886 - accuracy: 0.6861 - val_loss: 0.7836 - val_accuracy: 0.7524\n",
            "Epoch 3/5\n",
            "2531/2531 [==============================] - ETA: 0s - loss: 0.7068 - accuracy: 0.7835\n",
            "Epoch 00003: val_loss improved from 0.78361 to 0.61224, saving model to /home/aiffel-dj54/aiffel/speech_recognition/data/speech_wav_8000.npz\n",
            "2531/2531 [==============================] - 3363s 1s/step - loss: 0.7068 - accuracy: 0.7835 - val_loss: 0.6122 - val_accuracy: 0.8026\n",
            "Epoch 4/5\n",
            "2531/2531 [==============================] - ETA: 0s - loss: 0.5213 - accuracy: 0.8444\n",
            "Epoch 00004: val_loss improved from 0.61224 to 0.52049, saving model to /home/aiffel-dj54/aiffel/speech_recognition/data/speech_wav_8000.npz\n",
            "2531/2531 [==============================] - 3374s 1s/step - loss: 0.5213 - accuracy: 0.8444 - val_loss: 0.5205 - val_accuracy: 0.8314\n",
            "Epoch 5/5\n",
            "2531/2531 [==============================] - ETA: 0s - loss: 0.3672 - accuracy: 0.8973\n",
            "Epoch 00005: val_loss improved from 0.52049 to 0.50783, saving model to /home/aiffel-dj54/aiffel/speech_recognition/data/speech_wav_8000.npz\n",
            "2531/2531 [==============================] - 3379s 1s/step - loss: 0.3672 - accuracy: 0.8973 - val_loss: 0.5078 - val_accuracy: 0.8312\n",
            "ok\n"
          ],
          "name": "stdout"
        }
      ]
    },
    {
      "cell_type": "code",
      "metadata": {
        "id": "PNaIW_wVwNdP",
        "outputId": "526eec72-ca27-46d0-c87f-0ed2857957a3"
      },
      "source": [
        "# 학습결과 그래프\n",
        "# 모델 학습한 결과를 기반으로 loss 와 accuracy 그래프 표현\n",
        "\n",
        "import matplotlib.pyplot as plt\n",
        "\n",
        "acc= history_wav.history['accuracy'] #정확도 \n",
        "val_acc=history_wav.history['val_accuracy'] #학습한 모델의 정확도 \n",
        "\n",
        "loss=history_wav.history['loss'] #loss\n",
        "val_loss=history_wav.history['val_loss'] #학습한 모델의 손실\n",
        "\n",
        "epochs_range = range(len(acc))\n",
        "\n",
        "plt.figure(figsize=(8,8)) #그래프 그리기 \n",
        "plt.subplot(1,2,1)\n",
        "plt.plot(epochs_range,acc,label='Training Accuracy')\n",
        "plt.plot(epochs_range,val_acc,label='Validation Accuracy')\n",
        "plt.legend(loc='lower right') #범례는 오른쪽 아래 \n",
        "plt.title('Training and Validation Accuracy')\n",
        "\n",
        "plt.subplot(1, 2, 2)\n",
        "plt.plot(epochs_range, loss, label='Training Loss')\n",
        "plt.plot(epochs_range, val_loss, label='Validation Loss')\n",
        "plt.legend(loc='upper right')\n",
        "plt.title('Training and Validation Loss')\n",
        "plt.show()"
      ],
      "execution_count": null,
      "outputs": [
        {
          "output_type": "display_data",
          "data": {
            "image/png": "[encoded data removed]",
            "text/plain": [
              "<Figure size 576x576 with 2 Axes>"
            ]
          },
          "metadata": {
            "tags": [],
            "needs_background": "light"
          }
        }
      ]
    },
    {
      "cell_type": "code",
      "metadata": {
        "id": "i_V8mOgywNdP",
        "outputId": "0e77394b-062c-4133-b43b-1ea55872d0ea"
      },
      "source": [
        "# 성능평가\n",
        "model_wav.load_weights(checkpoint_dir)\n",
        "print(\"✅\")"
      ],
      "execution_count": null,
      "outputs": [
        {
          "output_type": "stream",
          "text": [
            "✅\n"
          ],
          "name": "stdout"
        }
      ]
    },
    {
      "cell_type": "code",
      "metadata": {
        "id": "mQ-y1ZdIwNdQ",
        "outputId": "5271485f-94aa-4d2d-f618-066ae2be86f9"
      },
      "source": [
        "#테스트 데이터 이용해서 예측값과 실제값을 비교\n",
        "results = model_wav.evaluate(test_dataset)\n",
        "\n",
        "#loss\n",
        "print(\"loss valu:{:.3f}\".format(results[0]))\n",
        "\n",
        "#accuracy\n",
        "print(\"accuracy value:{:.4f}%\".format(results[1]*100))"
      ],
      "execution_count": null,
      "outputs": [
        {
          "output_type": "stream",
          "text": [
            "633/633 [==============================] - 232s 366ms/step - loss: 0.5077 - accuracy: 0.8312\n",
            "loss valu:0.508\n",
            "accuracy value:83.1193%\n"
          ],
          "name": "stdout"
        }
      ]
    },
    {
      "cell_type": "code",
      "metadata": {
        "id": "dncOUIg3wNdQ",
        "outputId": "64eb9488-0389-4965-d367-9ab1ae9b9db0"
      },
      "source": [
        "# 모델 test\n",
        "inv_label_value = {v:k for k,v in label_value.items()}\n",
        "batch_index = np.random.choice(len(test_wav),size=1,replace=False)\n",
        "\n",
        "batch_xs = test_wav[batch_index]\n",
        "batch_ys = test_label[batch_index]\n",
        "y_pred_=model_wav(batch_xs,training=False)\n",
        "\n",
        "print(\"label:\",str(inv_label_value[batch_ys[0]]))\n",
        "\n",
        "ipd.Audio(batch_xs.reshape(8000,),rate=8000)"
      ],
      "execution_count": null,
      "outputs": [
        {
          "output_type": "stream",
          "text": [
            "label: off\n"
          ],
          "name": "stdout"
        },
        {
          "output_type": "execute_result",
          "data": {
            "text/html": [
              "\n",
              "                <audio  controls=\"controls\" >\n",
              "                    <source src=\"data:audio/wav;base64,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\" type=\"audio/wav\" />\n",
              "                    Your browser does not support the audio element.\n",
              "                </audio>\n",
              "              "
            ],
            "text/plain": [
              "<IPython.lib.display.Audio object>"
            ]
          },
          "metadata": {
            "tags": []
          },
          "execution_count": 25
        }
      ]
    },
    {
      "cell_type": "code",
      "metadata": {
        "id": "jSEPbG_rwNdQ",
        "outputId": "01186731-853d-44a4-d4c1-06c24b62a86e"
      },
      "source": [
        "#테스트 셋 라벨과 실제와 비교해보기!\n",
        "if np.argmax(y_pred_) == batch_ys[0]:\n",
        "    print(\"y_pred: \" + str(inv_label_value[np.argmax(y_pred_)]) + '(Correct!)')\n",
        "else:\n",
        "    print(\"y_pred: \" + str(inv_label_value[np.argmax(y_pred_)]) + '(Incorrect!)')"
      ],
      "execution_count": null,
      "outputs": [
        {
          "output_type": "stream",
          "text": [
            "y_pred: off(Correct!)\n"
          ],
          "name": "stdout"
        }
      ]
    },
    {
      "cell_type": "code",
      "metadata": {
        "id": "nSrAsRJdwNdQ"
      },
      "source": [
        "def spec2wav(wav):\n",
        "    D = np.abs(librosa.istft(wav))\n",
        "    return D\n",
        "data_wav = []\n",
        "for spec in test_spec:\n",
        "    wav = spec2wav(spec)\n",
        "    data_wav.append(wav)\n",
        "data_wav = np.array(data_wav)\n",
        "data_wav.shape"
      ],
      "execution_count": null,
      "outputs": []
    },
    {
      "cell_type": "markdown",
      "metadata": {
        "id": "QeJArQwQwNdR"
      },
      "source": [
        "# 회고"
      ]
    },
    {
      "cell_type": "markdown",
      "metadata": {
        "id": "Hl7iQQ8SwNdR"
      },
      "source": [
        "1. 자연어에 익숙해지다.\n",
        "- 처음에 자연어를 접했을땐 복잡하고 흐름이 잘 보이지 않았다. 용어도 헷갈리고 대충 이해만하고 넘어갔 이번 프로젝트를 진행하면서 흐름을 익힐 수 있었다. \n"
      ]
    }
  ]
}