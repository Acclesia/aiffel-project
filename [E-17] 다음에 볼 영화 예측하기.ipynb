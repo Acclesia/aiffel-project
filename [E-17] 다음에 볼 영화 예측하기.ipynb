{
 "cells": [
  {
   "cell_type": "markdown",
   "id": "essential-virtue",
   "metadata": {},
   "source": [
    "# 루브릭\n",
    "\n",
    "아래의 기준을 바탕으로 프로젝트를 평가합니다. 평가문항 상세기준\n",
    "\n",
    "1. Movielens 데이터셋을 session based recommendation 관점으로 전처리하는 과정이 체계적으로 진행되었다. 데이터셋의 면밀한 분석을 토대로 세션단위 정의 과정(길이분석, 시간분석)을 합리적으로 수행한 과정이 기술되었다.\n",
    "\n",
    "2. RNN 기반의 예측 모델이 정상적으로 구성되어 안정적으로 훈련이 진행되었다. 적절한 epoch만큼의 학습이 진행되는 과정에서 train loss가 안정적으로 감소하고, validation 단계에서의 Recall, MRR이 개선되는 것이 확인된다.\n",
    "\n",
    "3. 세션정의, 모델구조, 하이퍼파라미터 등을 변경해서 실험하여 Recall, MRR 등의 변화추이를 관찰하였다. 3가지 이상의 변화를 시도하고 그 실험결과를 체계적으로 분석하였다."
   ]
  },
  {
   "cell_type": "code",
   "execution_count": 1,
   "id": "taken-wound",
   "metadata": {},
   "outputs": [],
   "source": [
    "import datetime as dt\n",
    "from pathlib import Path\n",
    "import os\n",
    "\n",
    "import numpy as np\n",
    "import pandas as pd\n",
    "import warnings\n",
    "warnings.filterwarnings('ignore')\n",
    "import tensorflow as tf\n",
    "from tensorflow.keras.layers import Input, Dense, Dropout, GRU\n",
    "from tensorflow.keras.losses import categorical_crossentropy\n",
    "from tensorflow.keras.models import Model\n",
    "from tensorflow.keras.optimizers import Adam\n",
    "from tensorflow.keras.utils import to_categorical\n",
    "from tqdm import tqdm"
   ]
  },
  {
   "cell_type": "markdown",
   "id": "pointed-clone",
   "metadata": {},
   "source": [
    "# Step 1. 데이터의 전처리\n",
    "\n",
    "* sessionid = user id \n",
    "* rating - 낮은 평가 어떻게 할지 고민\n",
    "* time - 1970년 1월 1일부터 경과된 초단위 시간이 기재되어 있습니다."
   ]
  },
  {
   "cell_type": "code",
   "execution_count": 2,
   "id": "hollow-lighter",
   "metadata": {},
   "outputs": [
    {
     "data": {
      "text/html": [
       "<div>\n",
       "<style scoped>\n",
       "    .dataframe tbody tr th:only-of-type {\n",
       "        vertical-align: middle;\n",
       "    }\n",
       "\n",
       "    .dataframe tbody tr th {\n",
       "        vertical-align: top;\n",
       "    }\n",
       "\n",
       "    .dataframe thead th {\n",
       "        text-align: right;\n",
       "    }\n",
       "</style>\n",
       "<table border=\"1\" class=\"dataframe\">\n",
       "  <thead>\n",
       "    <tr style=\"text-align: right;\">\n",
       "      <th></th>\n",
       "      <th>UserId</th>\n",
       "      <th>ItemId</th>\n",
       "      <th>Rating</th>\n",
       "      <th>Time</th>\n",
       "    </tr>\n",
       "  </thead>\n",
       "  <tbody>\n",
       "    <tr>\n",
       "      <th>31</th>\n",
       "      <td>1</td>\n",
       "      <td>3186</td>\n",
       "      <td>4</td>\n",
       "      <td>978300019</td>\n",
       "    </tr>\n",
       "    <tr>\n",
       "      <th>22</th>\n",
       "      <td>1</td>\n",
       "      <td>1270</td>\n",
       "      <td>5</td>\n",
       "      <td>978300055</td>\n",
       "    </tr>\n",
       "    <tr>\n",
       "      <th>27</th>\n",
       "      <td>1</td>\n",
       "      <td>1721</td>\n",
       "      <td>4</td>\n",
       "      <td>978300055</td>\n",
       "    </tr>\n",
       "    <tr>\n",
       "      <th>37</th>\n",
       "      <td>1</td>\n",
       "      <td>1022</td>\n",
       "      <td>5</td>\n",
       "      <td>978300055</td>\n",
       "    </tr>\n",
       "    <tr>\n",
       "      <th>24</th>\n",
       "      <td>1</td>\n",
       "      <td>2340</td>\n",
       "      <td>3</td>\n",
       "      <td>978300103</td>\n",
       "    </tr>\n",
       "    <tr>\n",
       "      <th>...</th>\n",
       "      <td>...</td>\n",
       "      <td>...</td>\n",
       "      <td>...</td>\n",
       "      <td>...</td>\n",
       "    </tr>\n",
       "    <tr>\n",
       "      <th>1000019</th>\n",
       "      <td>6040</td>\n",
       "      <td>2917</td>\n",
       "      <td>4</td>\n",
       "      <td>997454429</td>\n",
       "    </tr>\n",
       "    <tr>\n",
       "      <th>999988</th>\n",
       "      <td>6040</td>\n",
       "      <td>1921</td>\n",
       "      <td>4</td>\n",
       "      <td>997454464</td>\n",
       "    </tr>\n",
       "    <tr>\n",
       "      <th>1000172</th>\n",
       "      <td>6040</td>\n",
       "      <td>1784</td>\n",
       "      <td>3</td>\n",
       "      <td>997454464</td>\n",
       "    </tr>\n",
       "    <tr>\n",
       "      <th>1000167</th>\n",
       "      <td>6040</td>\n",
       "      <td>161</td>\n",
       "      <td>3</td>\n",
       "      <td>997454486</td>\n",
       "    </tr>\n",
       "    <tr>\n",
       "      <th>1000042</th>\n",
       "      <td>6040</td>\n",
       "      <td>1221</td>\n",
       "      <td>4</td>\n",
       "      <td>998315055</td>\n",
       "    </tr>\n",
       "  </tbody>\n",
       "</table>\n",
       "<p>1000209 rows × 4 columns</p>\n",
       "</div>"
      ],
      "text/plain": [
       "         UserId  ItemId  Rating       Time\n",
       "31            1    3186       4  978300019\n",
       "22            1    1270       5  978300055\n",
       "27            1    1721       4  978300055\n",
       "37            1    1022       5  978300055\n",
       "24            1    2340       3  978300103\n",
       "...         ...     ...     ...        ...\n",
       "1000019    6040    2917       4  997454429\n",
       "999988     6040    1921       4  997454464\n",
       "1000172    6040    1784       3  997454464\n",
       "1000167    6040     161       3  997454486\n",
       "1000042    6040    1221       4  998315055\n",
       "\n",
       "[1000209 rows x 4 columns]"
      ]
     },
     "execution_count": 2,
     "metadata": {},
     "output_type": "execute_result"
    }
   ],
   "source": [
    "# 데이터 불러오기\n",
    "data_path = Path(os.getenv('HOME')+'/aiffel/aiffel_exp_data/yoochoose-data/ml-1m') \n",
    "train_path = data_path / 'ratings.dat'\n",
    "\n",
    "def load_data(data_path: Path, nrows=None):\n",
    "    data = pd.read_csv(data_path, sep='::', header=None, usecols=[0, 1, 2, 3], dtype={0: np.int32, 1: np.int32, 2: np.int32}, nrows=nrows)\n",
    "    data.columns = ['UserId', 'ItemId', 'Rating', 'Time']\n",
    "    return data\n",
    "\n",
    "data = load_data(train_path, None)\n",
    "data.sort_values(['UserId', 'Time'], inplace=True)  # data를 id와 시간 순서로 정렬해줍니다.\n",
    "data"
   ]
  },
  {
   "cell_type": "markdown",
   "id": "upset-fairy",
   "metadata": {},
   "source": [
    "위와 같이 간단히 구성해 본 데이터셋을 꼼꼼이 살펴보면서 항목별 기본분석, session length, session time, cleaning 등의 작업을 진행합니다.\n",
    "특히, 이 데이터셋에서는 Session이 아닌 UserID 단위로 데이터가 생성되어 있으므로, 이를 Session 단위로 어떻게 해석할지에 주의합니다. "
   ]
  },
  {
   "cell_type": "code",
   "execution_count": 4,
   "id": "proved-joseph",
   "metadata": {},
   "outputs": [
    {
     "data": {
      "text/html": [
       "<div>\n",
       "<style scoped>\n",
       "    .dataframe tbody tr th:only-of-type {\n",
       "        vertical-align: middle;\n",
       "    }\n",
       "\n",
       "    .dataframe tbody tr th {\n",
       "        vertical-align: top;\n",
       "    }\n",
       "\n",
       "    .dataframe thead th {\n",
       "        text-align: right;\n",
       "    }\n",
       "</style>\n",
       "<table border=\"1\" class=\"dataframe\">\n",
       "  <thead>\n",
       "    <tr style=\"text-align: right;\">\n",
       "      <th></th>\n",
       "      <th>UserId</th>\n",
       "      <th>ItemId</th>\n",
       "      <th>Rating</th>\n",
       "      <th>Time</th>\n",
       "    </tr>\n",
       "  </thead>\n",
       "  <tbody>\n",
       "    <tr>\n",
       "      <th>31</th>\n",
       "      <td>1</td>\n",
       "      <td>3186</td>\n",
       "      <td>4</td>\n",
       "      <td>978300019</td>\n",
       "    </tr>\n",
       "    <tr>\n",
       "      <th>22</th>\n",
       "      <td>1</td>\n",
       "      <td>1270</td>\n",
       "      <td>5</td>\n",
       "      <td>978300055</td>\n",
       "    </tr>\n",
       "    <tr>\n",
       "      <th>27</th>\n",
       "      <td>1</td>\n",
       "      <td>1721</td>\n",
       "      <td>4</td>\n",
       "      <td>978300055</td>\n",
       "    </tr>\n",
       "    <tr>\n",
       "      <th>37</th>\n",
       "      <td>1</td>\n",
       "      <td>1022</td>\n",
       "      <td>5</td>\n",
       "      <td>978300055</td>\n",
       "    </tr>\n",
       "    <tr>\n",
       "      <th>24</th>\n",
       "      <td>1</td>\n",
       "      <td>2340</td>\n",
       "      <td>3</td>\n",
       "      <td>978300103</td>\n",
       "    </tr>\n",
       "    <tr>\n",
       "      <th>...</th>\n",
       "      <td>...</td>\n",
       "      <td>...</td>\n",
       "      <td>...</td>\n",
       "      <td>...</td>\n",
       "    </tr>\n",
       "    <tr>\n",
       "      <th>1000019</th>\n",
       "      <td>6040</td>\n",
       "      <td>2917</td>\n",
       "      <td>4</td>\n",
       "      <td>997454429</td>\n",
       "    </tr>\n",
       "    <tr>\n",
       "      <th>999988</th>\n",
       "      <td>6040</td>\n",
       "      <td>1921</td>\n",
       "      <td>4</td>\n",
       "      <td>997454464</td>\n",
       "    </tr>\n",
       "    <tr>\n",
       "      <th>1000172</th>\n",
       "      <td>6040</td>\n",
       "      <td>1784</td>\n",
       "      <td>3</td>\n",
       "      <td>997454464</td>\n",
       "    </tr>\n",
       "    <tr>\n",
       "      <th>1000167</th>\n",
       "      <td>6040</td>\n",
       "      <td>161</td>\n",
       "      <td>3</td>\n",
       "      <td>997454486</td>\n",
       "    </tr>\n",
       "    <tr>\n",
       "      <th>1000042</th>\n",
       "      <td>6040</td>\n",
       "      <td>1221</td>\n",
       "      <td>4</td>\n",
       "      <td>998315055</td>\n",
       "    </tr>\n",
       "  </tbody>\n",
       "</table>\n",
       "<p>836478 rows × 4 columns</p>\n",
       "</div>"
      ],
      "text/plain": [
       "         UserId  ItemId  Rating       Time\n",
       "31            1    3186       4  978300019\n",
       "22            1    1270       5  978300055\n",
       "27            1    1721       4  978300055\n",
       "37            1    1022       5  978300055\n",
       "24            1    2340       3  978300103\n",
       "...         ...     ...     ...        ...\n",
       "1000019    6040    2917       4  997454429\n",
       "999988     6040    1921       4  997454464\n",
       "1000172    6040    1784       3  997454464\n",
       "1000167    6040     161       3  997454486\n",
       "1000042    6040    1221       4  998315055\n",
       "\n",
       "[836478 rows x 4 columns]"
      ]
     },
     "execution_count": 4,
     "metadata": {},
     "output_type": "execute_result"
    }
   ],
   "source": [
    "# 평점이 3점 이상인것만 남긴다.\n",
    "data= data[data['Rating']>=3]\n",
    "data"
   ]
  },
  {
   "cell_type": "code",
   "execution_count": 5,
   "id": "young-commander",
   "metadata": {},
   "outputs": [
    {
     "data": {
      "text/plain": [
       "(6039, 3628)"
      ]
     },
     "execution_count": 5,
     "metadata": {},
     "output_type": "execute_result"
    }
   ],
   "source": [
    "# 유저 id: 영화 평점 쓴 사람, item id:영화 제목\n",
    "\n",
    "data['UserId'].nunique(), data['ItemId'].nunique()"
   ]
  },
  {
   "cell_type": "code",
   "execution_count": 6,
   "id": "bulgarian-asset",
   "metadata": {},
   "outputs": [
    {
     "data": {
      "text/plain": [
       "UserId\n",
       "1        53\n",
       "2       116\n",
       "3        46\n",
       "4        19\n",
       "5       143\n",
       "       ... \n",
       "6036    708\n",
       "6037    189\n",
       "6038     18\n",
       "6039    119\n",
       "6040    276\n",
       "Length: 6039, dtype: int64"
      ]
     },
     "execution_count": 6,
     "metadata": {},
     "output_type": "execute_result"
    }
   ],
   "source": [
    "# 영화 갯수 1번이 53개의 영화를 봄\n",
    "UserId_length = data.groupby('UserId').size()\n",
    "UserId_length"
   ]
  },
  {
   "cell_type": "code",
   "execution_count": 7,
   "id": "specific-brazilian",
   "metadata": {},
   "outputs": [
    {
     "data": {
      "text/plain": [
       "(81.0, 138.51266766020865)"
      ]
     },
     "execution_count": 7,
     "metadata": {},
     "output_type": "execute_result"
    }
   ],
   "source": [
    "# 평점이 3점 이상인 사람은 한명당 평균 138번의 영화를 봤다. \n",
    "UserId_length.median(), UserId_length.mean() "
   ]
  },
  {
   "cell_type": "code",
   "execution_count": 8,
   "id": "continued-georgia",
   "metadata": {},
   "outputs": [
    {
     "data": {
      "text/plain": [
       "(1, 1968)"
      ]
     },
     "execution_count": 8,
     "metadata": {},
     "output_type": "execute_result"
    }
   ],
   "source": [
    "UserId_length.min(), UserId_length.max()"
   ]
  },
  {
   "cell_type": "code",
   "execution_count": 9,
   "id": "insured-address",
   "metadata": {},
   "outputs": [
    {
     "data": {
      "text/plain": [
       "1118.8860000000013"
      ]
     },
     "execution_count": 9,
     "metadata": {},
     "output_type": "execute_result"
    }
   ],
   "source": [
    "#99.9% 세션은 길이가 1118. 길이가 1968인 세션이 있다. \n",
    "UserId_length.quantile(0.999)"
   ]
  },
  {
   "cell_type": "code",
   "execution_count": 10,
   "id": "herbal-zimbabwe",
   "metadata": {},
   "outputs": [
    {
     "data": {
      "text/html": [
       "<div>\n",
       "<style scoped>\n",
       "    .dataframe tbody tr th:only-of-type {\n",
       "        vertical-align: middle;\n",
       "    }\n",
       "\n",
       "    .dataframe tbody tr th {\n",
       "        vertical-align: top;\n",
       "    }\n",
       "\n",
       "    .dataframe thead th {\n",
       "        text-align: right;\n",
       "    }\n",
       "</style>\n",
       "<table border=\"1\" class=\"dataframe\">\n",
       "  <thead>\n",
       "    <tr style=\"text-align: right;\">\n",
       "      <th></th>\n",
       "      <th>UserId</th>\n",
       "      <th>ItemId</th>\n",
       "      <th>Rating</th>\n",
       "      <th>Time</th>\n",
       "    </tr>\n",
       "  </thead>\n",
       "  <tbody>\n",
       "    <tr>\n",
       "      <th>696969</th>\n",
       "      <td>4169</td>\n",
       "      <td>1268</td>\n",
       "      <td>5</td>\n",
       "      <td>965333392</td>\n",
       "    </tr>\n",
       "    <tr>\n",
       "      <th>697168</th>\n",
       "      <td>4169</td>\n",
       "      <td>2617</td>\n",
       "      <td>4</td>\n",
       "      <td>965333392</td>\n",
       "    </tr>\n",
       "    <tr>\n",
       "      <th>697185</th>\n",
       "      <td>4169</td>\n",
       "      <td>2628</td>\n",
       "      <td>4</td>\n",
       "      <td>965333392</td>\n",
       "    </tr>\n",
       "    <tr>\n",
       "      <th>697219</th>\n",
       "      <td>4169</td>\n",
       "      <td>2653</td>\n",
       "      <td>4</td>\n",
       "      <td>965333392</td>\n",
       "    </tr>\n",
       "    <tr>\n",
       "      <th>697275</th>\n",
       "      <td>4169</td>\n",
       "      <td>423</td>\n",
       "      <td>3</td>\n",
       "      <td>965333392</td>\n",
       "    </tr>\n",
       "    <tr>\n",
       "      <th>...</th>\n",
       "      <td>...</td>\n",
       "      <td>...</td>\n",
       "      <td>...</td>\n",
       "      <td>...</td>\n",
       "    </tr>\n",
       "    <tr>\n",
       "      <th>697055</th>\n",
       "      <td>4169</td>\n",
       "      <td>3207</td>\n",
       "      <td>3</td>\n",
       "      <td>1024172606</td>\n",
       "    </tr>\n",
       "    <tr>\n",
       "      <th>695958</th>\n",
       "      <td>4169</td>\n",
       "      <td>3413</td>\n",
       "      <td>3</td>\n",
       "      <td>1024173191</td>\n",
       "    </tr>\n",
       "    <tr>\n",
       "      <th>695702</th>\n",
       "      <td>4169</td>\n",
       "      <td>1413</td>\n",
       "      <td>3</td>\n",
       "      <td>1024175031</td>\n",
       "    </tr>\n",
       "    <tr>\n",
       "      <th>697358</th>\n",
       "      <td>4169</td>\n",
       "      <td>494</td>\n",
       "      <td>4</td>\n",
       "      <td>1024175760</td>\n",
       "    </tr>\n",
       "    <tr>\n",
       "      <th>696446</th>\n",
       "      <td>4169</td>\n",
       "      <td>1548</td>\n",
       "      <td>3</td>\n",
       "      <td>1024176337</td>\n",
       "    </tr>\n",
       "  </tbody>\n",
       "</table>\n",
       "<p>1968 rows × 4 columns</p>\n",
       "</div>"
      ],
      "text/plain": [
       "        UserId  ItemId  Rating        Time\n",
       "696969    4169    1268       5   965333392\n",
       "697168    4169    2617       4   965333392\n",
       "697185    4169    2628       4   965333392\n",
       "697219    4169    2653       4   965333392\n",
       "697275    4169     423       3   965333392\n",
       "...        ...     ...     ...         ...\n",
       "697055    4169    3207       3  1024172606\n",
       "695958    4169    3413       3  1024173191\n",
       "695702    4169    1413       3  1024175031\n",
       "697358    4169     494       4  1024175760\n",
       "696446    4169    1548       3  1024176337\n",
       "\n",
       "[1968 rows x 4 columns]"
      ]
     },
     "execution_count": 10,
     "metadata": {},
     "output_type": "execute_result"
    }
   ],
   "source": [
    "# 긴 세션 확인 \n",
    "long_session = UserId_length[UserId_length==1968].index[0]\n",
    "data[data['UserId']==long_session]"
   ]
  },
  {
   "cell_type": "code",
   "execution_count": 70,
   "id": "north-queen",
   "metadata": {},
   "outputs": [
    {
     "data": {
      "text/plain": [
       "1      0.000166\n",
       "7      0.000331\n",
       "9      0.000994\n",
       "10     0.001159\n",
       "11     0.001987\n",
       "         ...   \n",
       "725    0.989237\n",
       "726    0.989402\n",
       "728    0.989568\n",
       "731    0.989733\n",
       "734    0.989899\n",
       "Length: 584, dtype: float64"
      ]
     },
     "execution_count": 70,
     "metadata": {},
     "output_type": "execute_result"
    }
   ],
   "source": [
    "#대부분의 세션 길이를 시각화 \n",
    "length_count = UserId_length.groupby(UserId_length).size()\n",
    "length_percent_cumsum = length_count.cumsum() / length_count.sum()\n",
    "length_percent_cumsum_999 = length_percent_cumsum[length_percent_cumsum < 0.99]\n",
    "\n",
    "length_percent_cumsum_999"
   ]
  },
  {
   "cell_type": "code",
   "execution_count": 71,
   "id": "fitting-devon",
   "metadata": {},
   "outputs": [
    {
     "data": {
      "image/png": "[encoded data removed]",
      "text/plain": [
       "<Figure size 1440x720 with 1 Axes>"
      ]
     },
     "metadata": {
      "needs_background": "light"
     },
     "output_type": "display_data"
    }
   ],
   "source": [
    "import matplotlib.pyplot as plt\n",
    "\n",
    "plt.figure(figsize=(20, 10))\n",
    "plt.bar(x=length_percent_cumsum_999.index,\n",
    "        height=length_percent_cumsum_999, color='red')\n",
    "plt.xticks(length_percent_cumsum_999.index)\n",
    "plt.yticks(np.arange(0, 1.01, 0.05))\n",
    "plt.title('Cumsum Percentage Until 0.99', size=20)\n",
    "plt.show()"
   ]
  },
  {
   "cell_type": "markdown",
   "id": "indonesian-trout",
   "metadata": {},
   "source": [
    "# Session Time"
   ]
  },
  {
   "cell_type": "code",
   "execution_count": 73,
   "id": "national-director",
   "metadata": {},
   "outputs": [
    {
     "name": "stdout",
     "output_type": "stream",
     "text": [
      "1015352875\n",
      "1046454590\n"
     ]
    }
   ],
   "source": [
    "# 데이터가 발생한 시간\n",
    "oldest, latest = data['Time'].min(), data['Time'].max()\n",
    "print(oldest) \n",
    "print(latest)"
   ]
  },
  {
   "cell_type": "code",
   "execution_count": 74,
   "id": "moved-poetry",
   "metadata": {},
   "outputs": [
    {
     "data": {
      "text/plain": [
       "numpy.int64"
      ]
     },
     "execution_count": 74,
     "metadata": {},
     "output_type": "execute_result"
    }
   ],
   "source": [
    "type(latest) #가장 최근 데이터 "
   ]
  },
  {
   "cell_type": "code",
   "execution_count": 75,
   "id": "balanced-circular",
   "metadata": {},
   "outputs": [
    {
     "data": {
      "text/html": [
       "<div>\n",
       "<style scoped>\n",
       "    .dataframe tbody tr th:only-of-type {\n",
       "        vertical-align: middle;\n",
       "    }\n",
       "\n",
       "    .dataframe tbody tr th {\n",
       "        vertical-align: top;\n",
       "    }\n",
       "\n",
       "    .dataframe thead th {\n",
       "        text-align: right;\n",
       "    }\n",
       "</style>\n",
       "<table border=\"1\" class=\"dataframe\">\n",
       "  <thead>\n",
       "    <tr style=\"text-align: right;\">\n",
       "      <th></th>\n",
       "      <th>UserId</th>\n",
       "      <th>ItemId</th>\n",
       "      <th>Rating</th>\n",
       "      <th>Time</th>\n",
       "    </tr>\n",
       "  </thead>\n",
       "  <tbody>\n",
       "    <tr>\n",
       "      <th>5170</th>\n",
       "      <td>36</td>\n",
       "      <td>1387</td>\n",
       "      <td>5</td>\n",
       "      <td>1015904819</td>\n",
       "    </tr>\n",
       "    <tr>\n",
       "      <th>5267</th>\n",
       "      <td>36</td>\n",
       "      <td>1201</td>\n",
       "      <td>4</td>\n",
       "      <td>1015904819</td>\n",
       "    </tr>\n",
       "    <tr>\n",
       "      <th>5122</th>\n",
       "      <td>36</td>\n",
       "      <td>1291</td>\n",
       "      <td>5</td>\n",
       "      <td>1015904836</td>\n",
       "    </tr>\n",
       "    <tr>\n",
       "      <th>5123</th>\n",
       "      <td>36</td>\n",
       "      <td>2167</td>\n",
       "      <td>5</td>\n",
       "      <td>1015904905</td>\n",
       "    </tr>\n",
       "    <tr>\n",
       "      <th>5290</th>\n",
       "      <td>36</td>\n",
       "      <td>2951</td>\n",
       "      <td>4</td>\n",
       "      <td>1015904905</td>\n",
       "    </tr>\n",
       "    <tr>\n",
       "      <th>...</th>\n",
       "      <td>...</td>\n",
       "      <td>...</td>\n",
       "      <td>...</td>\n",
       "      <td>...</td>\n",
       "    </tr>\n",
       "    <tr>\n",
       "      <th>992358</th>\n",
       "      <td>5996</td>\n",
       "      <td>3835</td>\n",
       "      <td>3</td>\n",
       "      <td>1020113184</td>\n",
       "    </tr>\n",
       "    <tr>\n",
       "      <th>992279</th>\n",
       "      <td>5996</td>\n",
       "      <td>2422</td>\n",
       "      <td>3</td>\n",
       "      <td>1020113225</td>\n",
       "    </tr>\n",
       "    <tr>\n",
       "      <th>992702</th>\n",
       "      <td>5996</td>\n",
       "      <td>168</td>\n",
       "      <td>3</td>\n",
       "      <td>1031058746</td>\n",
       "    </tr>\n",
       "    <tr>\n",
       "      <th>992459</th>\n",
       "      <td>5996</td>\n",
       "      <td>339</td>\n",
       "      <td>4</td>\n",
       "      <td>1033997079</td>\n",
       "    </tr>\n",
       "    <tr>\n",
       "      <th>992387</th>\n",
       "      <td>5996</td>\n",
       "      <td>3882</td>\n",
       "      <td>3</td>\n",
       "      <td>1036428955</td>\n",
       "    </tr>\n",
       "  </tbody>\n",
       "</table>\n",
       "<p>17095 rows × 4 columns</p>\n",
       "</div>"
      ],
      "text/plain": [
       "        UserId  ItemId  Rating        Time\n",
       "5170        36    1387       5  1015904819\n",
       "5267        36    1201       4  1015904819\n",
       "5122        36    1291       5  1015904836\n",
       "5123        36    2167       5  1015904905\n",
       "5290        36    2951       4  1015904905\n",
       "...        ...     ...     ...         ...\n",
       "992358    5996    3835       3  1020113184\n",
       "992279    5996    2422       3  1020113225\n",
       "992702    5996     168       3  1031058746\n",
       "992459    5996     339       4  1033997079\n",
       "992387    5996    3882       3  1036428955\n",
       "\n",
       "[17095 rows x 4 columns]"
      ]
     },
     "execution_count": 75,
     "metadata": {},
     "output_type": "execute_result"
    }
   ],
   "source": [
    "month_ago = latest - 12*30*3600*24     # 최근 1년 데이터를 구한다.  \n",
    "data = data[data['Time'] > month_ago]   # 방금 구한 날짜 이후의 데이터만 모은다. \n",
    "data #이 데이터는 lastest 부터 1년까지의 데이터"
   ]
  },
  {
   "cell_type": "markdown",
   "id": "opposite-senior",
   "metadata": {},
   "source": [
    "# Train/ Valid/ Test split"
   ]
  },
  {
   "cell_type": "code",
   "execution_count": 77,
   "id": "literary-circumstances",
   "metadata": {},
   "outputs": [
    {
     "data": {
      "text/plain": [
       "(956703932, 1046454590)"
      ]
     },
     "execution_count": 77,
     "metadata": {},
     "output_type": "execute_result"
    }
   ],
   "source": [
    "test_path = data_path / 'ratings.dat'\n",
    "test= load_data(test_path)\n",
    "test['Time'].min(), test['Time'].max()"
   ]
  },
  {
   "cell_type": "code",
   "execution_count": 76,
   "id": "explicit-deposit",
   "metadata": {},
   "outputs": [],
   "source": [
    "def split_by_date(data: pd.DataFrame, monts: int):\n",
    "    final_time = data['Time'].max()\n",
    "    session_last_time = data.groupby('UserId')['Time'].max()\n",
    "    session_in_train = session_last_time[session_last_time < (final_time - monts*30*3600*24)].index\n",
    "    session_in_test = session_last_time[session_last_time >= (final_time - monts*30*3600*24)].index\n",
    "\n",
    "    before_date = data[data['UserId'].isin(session_in_train)]\n",
    "    after_date = data[data['UserId'].isin(session_in_test)]\n",
    "    after_date = after_date[after_date['ItemId'].isin(before_date['ItemId'])]\n",
    "    return before_date, after_date"
   ]
  },
  {
   "cell_type": "code",
   "execution_count": 78,
   "id": "compressed-donna",
   "metadata": {},
   "outputs": [],
   "source": [
    "tr, test = split_by_date(data, monts=1)\n",
    "tr, val = split_by_date(tr, monts=1)"
   ]
  },
  {
   "cell_type": "code",
   "execution_count": 79,
   "id": "necessary-factor",
   "metadata": {},
   "outputs": [],
   "source": [
    "# data에 대한 정보를 살펴봅니다.\n",
    "def stats_info(data: pd.DataFrame, status: str):\n",
    "    print(f'* {status} Set Stats Info\\n'\n",
    "          f'\\t Events: {len(data)}\\n'\n",
    "          f'\\t users: {data[\"UserId\"].nunique()}\\n'\n",
    "          f'\\t Items: {data[\"ItemId\"].nunique()}\\n'\n",
    "          f'\\t First Time : {data[\"Time\"].min()}\\n'\n",
    "          f'\\t Last Time : {data[\"Time\"].max()}\\n')"
   ]
  },
  {
   "cell_type": "code",
   "execution_count": 80,
   "id": "removable-tongue",
   "metadata": {},
   "outputs": [
    {
     "name": "stdout",
     "output_type": "stream",
     "text": [
      "* train Set Stats Info\n",
      "\t Events: 8597\n",
      "\t users: 305\n",
      "\t Items: 2165\n",
      "\t First Time : 1015352875\n",
      "\t Last Time : 1041215174\n",
      "\n",
      "* valid Set Stats Info\n",
      "\t Events: 2476\n",
      "\t users: 81\n",
      "\t Items: 1176\n",
      "\t First Time : 1015374516\n",
      "\t Last Time : 1043809240\n",
      "\n",
      "* test Set Stats Info\n",
      "\t Events: 5363\n",
      "\t users: 98\n",
      "\t Items: 1772\n",
      "\t First Time : 1015447061\n",
      "\t Last Time : 1046454590\n",
      "\n"
     ]
    }
   ],
   "source": [
    "stats_info(tr, 'train')\n",
    "stats_info(val, 'valid')\n",
    "stats_info(test, 'test')"
   ]
  },
  {
   "cell_type": "code",
   "execution_count": 81,
   "id": "international-bhutan",
   "metadata": {},
   "outputs": [
    {
     "name": "stdout",
     "output_type": "stream",
     "text": [
      "        UserId  ItemId  Rating        Time  item_idx\n",
      "5170        36    1387       5  1015904819         0\n",
      "5267        36    1201       4  1015904819         1\n",
      "5122        36    1291       5  1015904836         2\n",
      "5123        36    2167       5  1015904905         3\n",
      "5290        36    2951       4  1015904905         4\n",
      "...        ...     ...     ...         ...       ...\n",
      "992358    5996    3835       3  1020113184      2164\n",
      "992279    5996    2422       3  1020113225      1302\n",
      "992702    5996     168       3  1031058746      1416\n",
      "992459    5996     339       4  1033997079       621\n",
      "992387    5996    3882       3  1036428955       446\n",
      "\n",
      "[8597 rows x 5 columns]\n"
     ]
    }
   ],
   "source": [
    "id2idx = {item_id : index for index, item_id in enumerate(tr['ItemId'].unique())}\n",
    "\n",
    "def indexing(df, id2idx):\n",
    "    df['item_idx'] = df['ItemId'].map(lambda x: id2idx.get(x, -1))  # id2idx에 없는 아이템은 모르는 값(-1) 처리 해줍니다.\n",
    "    return df\n",
    "# itemidx 칼럼에는 item id(영화)에 대한 idex값을 갖고 있는 값\n",
    "tr = indexing(tr, id2idx)\n",
    "val = indexing(val, id2idx)\n",
    "test = indexing(test, id2idx)\n",
    "\n",
    "print(tr)"
   ]
  },
  {
   "cell_type": "markdown",
   "id": "happy-twenty",
   "metadata": {},
   "source": [
    "* train set에 없는 아이템이 val, test기간에 생길 수 있으므로 train data를 기준으로 인덱싱합니다.\n",
    "\n",
    "**enumerate** \n",
    "* 순서가 있는 자료형(list, set, tuplt,dictionary, string)을 입력으로 받아서 인덱스 값을 포함하는 객체 리턴\n",
    "* 리스트가 있는 경우 순서와 리스트 값을 전달한다. for 문과 주로 쓰인다. \n",
    "* 1.item id 칼럼에 있는 고유한 값을 입력으로 받는다. \n",
    "* 2.그 값안에 있는 item_id 순서(index)을 반복해서 iten_id:index 딕셔너리를 만든다. \n",
    "\n",
    "**get 함수** \n",
    "\n",
    "= 딕셔너리.get(key, 기본값): 딕셔너리에 key 값이 있으면 key 반환, 없으면 기본값으로 지정한 값을 반환한다. \n",
    "* id2inx(딕셔너리)에 x(아이템)를 넣고 없으면 -1 반환\n",
    "\n",
    "**map 함수**\n",
    "\n",
    "= map(적용시킬 함수, 적용할 요소들)\n",
    "* map(add,target)- target요소에 add함수를 적용한다.\n",
    "* add를 반복해서 사용하지 않는다면, lambda함수 적용\n",
    "\n",
    "= map(lambda x:x+1,target): x입력값에 +1을 해서 target에 적용\n",
    "\n",
    "= df['ItemId'].map(lambda x: id2idx.get(x, -1))\n",
    "* 칼럼 itemid값 = x\n",
    "* 적용시킬함수: get 함수\n",
    "* 적용할 요소는 get 함수 안에서 적용"
   ]
  },
  {
   "cell_type": "code",
   "execution_count": 82,
   "id": "suffering-tonight",
   "metadata": {},
   "outputs": [],
   "source": [
    "save_path = data_path / 'processed'\n",
    "save_path.mkdir(parents=True, exist_ok=True)\n",
    "\n",
    "tr.to_pickle(save_path / 'train.pkl')\n",
    "val.to_pickle(save_path / 'valid.pkl')\n",
    "test.to_pickle(save_path / 'test.pkl')"
   ]
  },
  {
   "cell_type": "markdown",
   "id": "placed-equity",
   "metadata": {},
   "source": [
    "# Step 2. 미니 배치의 구성\n",
    "실습코드 내역을 참고하여 데이터셋과 미니 배치를 구성해 봅시다. \n",
    "\n",
    "Session-Parallel Mini-Batch의 개념에 따라, 학습 속도의 저하가 최소화될 수 있도록 구성합니다. 단, 위 Step 1에서 Session 단위를 어떻게 정의했느냐에 따라서 Session-Parallel Mini-Batch이 굳이 필요하지 않을 수도 있습니다."
   ]
  },
  {
   "cell_type": "markdown",
   "id": "cellular-progressive",
   "metadata": {},
   "source": [
    "## SessionDataset"
   ]
  },
  {
   "cell_type": "code",
   "execution_count": 84,
   "id": "opposite-cross",
   "metadata": {},
   "outputs": [],
   "source": [
    "class UserIdDataset:\n",
    "  \n",
    "    def __init__(self, data):\n",
    "        self.df = data\n",
    "        self.click_offsets = self.get_click_offsets() #세션이 처음 누른 값의 인덱스\n",
    "        self.User_idx = np.arange(self.df['UserId'].nunique())  # 세션아이디를 인덱스한 np.array 값\n",
    "\n",
    "    def get_click_offsets(self):\n",
    "        offsets = np.zeros(self.df['UserId'].nunique() + 1, dtype=np.int32)\n",
    "        offsets[1:] = self.df.groupby('UserId').size().cumsum()\n",
    "        return offsets"
   ]
  },
  {
   "cell_type": "code",
   "execution_count": 85,
   "id": "interesting-christian",
   "metadata": {},
   "outputs": [
    {
     "data": {
      "text/html": [
       "<div>\n",
       "<style scoped>\n",
       "    .dataframe tbody tr th:only-of-type {\n",
       "        vertical-align: middle;\n",
       "    }\n",
       "\n",
       "    .dataframe tbody tr th {\n",
       "        vertical-align: top;\n",
       "    }\n",
       "\n",
       "    .dataframe thead th {\n",
       "        text-align: right;\n",
       "    }\n",
       "</style>\n",
       "<table border=\"1\" class=\"dataframe\">\n",
       "  <thead>\n",
       "    <tr style=\"text-align: right;\">\n",
       "      <th></th>\n",
       "      <th>UserId</th>\n",
       "      <th>ItemId</th>\n",
       "      <th>Rating</th>\n",
       "      <th>Time</th>\n",
       "      <th>item_idx</th>\n",
       "    </tr>\n",
       "  </thead>\n",
       "  <tbody>\n",
       "    <tr>\n",
       "      <th>5170</th>\n",
       "      <td>36</td>\n",
       "      <td>1387</td>\n",
       "      <td>5</td>\n",
       "      <td>1015904819</td>\n",
       "      <td>0</td>\n",
       "    </tr>\n",
       "    <tr>\n",
       "      <th>5267</th>\n",
       "      <td>36</td>\n",
       "      <td>1201</td>\n",
       "      <td>4</td>\n",
       "      <td>1015904819</td>\n",
       "      <td>1</td>\n",
       "    </tr>\n",
       "    <tr>\n",
       "      <th>5122</th>\n",
       "      <td>36</td>\n",
       "      <td>1291</td>\n",
       "      <td>5</td>\n",
       "      <td>1015904836</td>\n",
       "      <td>2</td>\n",
       "    </tr>\n",
       "    <tr>\n",
       "      <th>5123</th>\n",
       "      <td>36</td>\n",
       "      <td>2167</td>\n",
       "      <td>5</td>\n",
       "      <td>1015904905</td>\n",
       "      <td>3</td>\n",
       "    </tr>\n",
       "    <tr>\n",
       "      <th>5290</th>\n",
       "      <td>36</td>\n",
       "      <td>2951</td>\n",
       "      <td>4</td>\n",
       "      <td>1015904905</td>\n",
       "      <td>4</td>\n",
       "    </tr>\n",
       "    <tr>\n",
       "      <th>5359</th>\n",
       "      <td>36</td>\n",
       "      <td>2115</td>\n",
       "      <td>5</td>\n",
       "      <td>1015904905</td>\n",
       "      <td>5</td>\n",
       "    </tr>\n",
       "    <tr>\n",
       "      <th>5073</th>\n",
       "      <td>36</td>\n",
       "      <td>1912</td>\n",
       "      <td>5</td>\n",
       "      <td>1015904924</td>\n",
       "      <td>6</td>\n",
       "    </tr>\n",
       "    <tr>\n",
       "      <th>5113</th>\n",
       "      <td>36</td>\n",
       "      <td>2662</td>\n",
       "      <td>3</td>\n",
       "      <td>1015904924</td>\n",
       "      <td>7</td>\n",
       "    </tr>\n",
       "    <tr>\n",
       "      <th>5366</th>\n",
       "      <td>36</td>\n",
       "      <td>2985</td>\n",
       "      <td>4</td>\n",
       "      <td>1015904941</td>\n",
       "      <td>8</td>\n",
       "    </tr>\n",
       "    <tr>\n",
       "      <th>5305</th>\n",
       "      <td>36</td>\n",
       "      <td>2527</td>\n",
       "      <td>3</td>\n",
       "      <td>1015904957</td>\n",
       "      <td>9</td>\n",
       "    </tr>\n",
       "  </tbody>\n",
       "</table>\n",
       "</div>"
      ],
      "text/plain": [
       "      UserId  ItemId  Rating        Time  item_idx\n",
       "5170      36    1387       5  1015904819         0\n",
       "5267      36    1201       4  1015904819         1\n",
       "5122      36    1291       5  1015904836         2\n",
       "5123      36    2167       5  1015904905         3\n",
       "5290      36    2951       4  1015904905         4\n",
       "5359      36    2115       5  1015904905         5\n",
       "5073      36    1912       5  1015904924         6\n",
       "5113      36    2662       3  1015904924         7\n",
       "5366      36    2985       4  1015904941         8\n",
       "5305      36    2527       3  1015904957         9"
      ]
     },
     "execution_count": 85,
     "metadata": {},
     "output_type": "execute_result"
    }
   ],
   "source": [
    "tr_dataset = UserIdDataset(tr)\n",
    "tr_dataset.df.head(10)"
   ]
  },
  {
   "cell_type": "markdown",
   "id": "environmental-summit",
   "metadata": {},
   "source": [
    "## UserIdDataLoader\n",
    "UserIdDataset 객체를 받아서 UserId-Parallel mini-batch를 만드는 클래스를 만듭니다. \n",
    "\n",
    "iter 메소드는 모델 인풋, 라벨, 세션이 끝나는 곳의 위치를 yield합니다. mask는 후에 RNN Cell State를 초기화 하는데 사용할 것입니다.\n",
    "\n",
    "**iterator** \n",
    "\n",
    "값을 차례대로 꺼낼 수 있는 객체(object) =문자열, 리스트, 딕셔너리, 세트가 반복 가능한 객체입니다. 즉, 요소가 여러 개 들어있고, 한 번에 하나씩 꺼낼 수 있는 객체입니다"
   ]
  },
  {
   "cell_type": "code",
   "execution_count": 90,
   "id": "activated-worthy",
   "metadata": {},
   "outputs": [],
   "source": [
    "class UserIdDataLoader:\n",
    "    \"\"\"Credit to yhs-968/pyGRU4REC.\"\"\"\n",
    "\n",
    "    def __init__(self, dataset: UserIdDataset, batch_size=50):\n",
    "        self.dataset = dataset\n",
    "        self.batch_size = batch_size\n",
    "\n",
    "    def __iter__(self):\n",
    "        \"\"\" Returns the iterator for producing session-parallel training mini-batches.\n",
    "        Yields:\n",
    "            input (B,):  Item indices that will be encoded as one-hot vectors later.\n",
    "            target (B,): a Variable that stores the target item indices\n",
    "            masks: Numpy array indicating the positions of the sessions to be terminated\n",
    "        \"\"\"\n",
    "\n",
    "        start, end, mask, last_session, finished = self.initialize()  # initialize 메소드에서 확인해주세요.\n",
    "        \"\"\"\n",
    "        start : Index Where Session Start\n",
    "        end : Index Where Session End\n",
    "        mask : indicator for the sessions to be terminated\n",
    "        \"\"\"\n",
    "\n",
    "        while not finished:\n",
    "            min_len = (end - start).min() - 1  # Shortest Length Among Sessions\n",
    "            for i in range(min_len):\n",
    "                # Build inputs & targets\n",
    "                inp = self.dataset.df['item_idx'].values[start + i]\n",
    "                target = self.dataset.df['item_idx'].values[start + i + 1]\n",
    "                yield inp, target, mask\n",
    "\n",
    "            start, end, mask, last_session, finished = self.update_status(start, end, min_len, last_session, finished)\n",
    "\n",
    "    def initialize(self):\n",
    "        first_iters = np.arange(self.batch_size)    # 첫 배치에 사용할 세션 Index를 가져옵니다.\n",
    "        last_session = self.batch_size - 1    # 마지막으로 다루고 있는 세션 Index를 저장해둡니다.\n",
    "        start = self.dataset.click_offsets[self.dataset.User_idx[first_iters]]       # data 상에서 session이 시작된 위치를 가져옵니다.\n",
    "        end = self.dataset.click_offsets[self.dataset.User_idx[first_iters] + 1]  # session이 끝난 위치 바로 다음 위치를 가져옵니다.\n",
    "        mask = np.array([])   # session의 모든 아이템을 다 돌은 경우 mask에 추가해줄 것입니다.\n",
    "        finished = False         # data를 전부 돌았는지 기록하기 위한 변수입니다.\n",
    "        return start, end, mask, last_session, finished\n",
    "\n",
    "    def update_status(self, start: np.ndarray, end: np.ndarray, min_len: int, last_session: int, finished: bool):  \n",
    "        # 다음 배치 데이터를 생성하기 위해 상태를 update합니다.\n",
    "        \n",
    "        start += min_len   # __iter__에서 min_len 만큼 for문을 돌았으므로 start를 min_len 만큼 더해줍니다.\n",
    "        mask = np.arange(self.batch_size)[(end - start) == 1]  \n",
    "        # end는 다음 세션이 시작되는 위치인데 start와 한 칸 차이난다는 것은 session이 끝났다는 뜻입니다. mask에 기록해줍니다.\n",
    "\n",
    "        for i, idx in enumerate(mask, start=1):  # mask에 추가된 세션 개수만큼 새로운 세션을 돌것입니다.\n",
    "            new_session = last_session + i  \n",
    "            if new_session > self.dataset.User_idx[-1]:  # 만약 새로운 세션이 마지막 세션 index보다 크다면 모든 학습데이터를 돈 것입니다.\n",
    "                finished = True\n",
    "                break\n",
    "            # update the next starting/ending point\n",
    "            start[idx] = self.dataset.click_offsets[self.dataset.User_idx[new_session]]     # 종료된 세션 대신 새로운 세션의 시작점을 기록합니다.\n",
    "            end[idx] = self.dataset.click_offsets[self.dataset.User_idx[new_session] + 1]\n",
    "\n",
    "        last_session += len(mask)  # 마지막 세션의 위치를 기록해둡니다.\n",
    "        return start, end, mask, last_session, finished"
   ]
  },
  {
   "cell_type": "code",
   "execution_count": 91,
   "id": "agricultural-modeling",
   "metadata": {},
   "outputs": [
    {
     "data": {
      "text/html": [
       "<div>\n",
       "<style scoped>\n",
       "    .dataframe tbody tr th:only-of-type {\n",
       "        vertical-align: middle;\n",
       "    }\n",
       "\n",
       "    .dataframe tbody tr th {\n",
       "        vertical-align: top;\n",
       "    }\n",
       "\n",
       "    .dataframe thead th {\n",
       "        text-align: right;\n",
       "    }\n",
       "</style>\n",
       "<table border=\"1\" class=\"dataframe\">\n",
       "  <thead>\n",
       "    <tr style=\"text-align: right;\">\n",
       "      <th></th>\n",
       "      <th>UserId</th>\n",
       "      <th>ItemId</th>\n",
       "      <th>Rating</th>\n",
       "      <th>Time</th>\n",
       "      <th>item_idx</th>\n",
       "    </tr>\n",
       "  </thead>\n",
       "  <tbody>\n",
       "    <tr>\n",
       "      <th>5170</th>\n",
       "      <td>36</td>\n",
       "      <td>1387</td>\n",
       "      <td>5</td>\n",
       "      <td>1015904819</td>\n",
       "      <td>0</td>\n",
       "    </tr>\n",
       "    <tr>\n",
       "      <th>5267</th>\n",
       "      <td>36</td>\n",
       "      <td>1201</td>\n",
       "      <td>4</td>\n",
       "      <td>1015904819</td>\n",
       "      <td>1</td>\n",
       "    </tr>\n",
       "    <tr>\n",
       "      <th>5122</th>\n",
       "      <td>36</td>\n",
       "      <td>1291</td>\n",
       "      <td>5</td>\n",
       "      <td>1015904836</td>\n",
       "      <td>2</td>\n",
       "    </tr>\n",
       "    <tr>\n",
       "      <th>5123</th>\n",
       "      <td>36</td>\n",
       "      <td>2167</td>\n",
       "      <td>5</td>\n",
       "      <td>1015904905</td>\n",
       "      <td>3</td>\n",
       "    </tr>\n",
       "    <tr>\n",
       "      <th>5290</th>\n",
       "      <td>36</td>\n",
       "      <td>2951</td>\n",
       "      <td>4</td>\n",
       "      <td>1015904905</td>\n",
       "      <td>4</td>\n",
       "    </tr>\n",
       "    <tr>\n",
       "      <th>5359</th>\n",
       "      <td>36</td>\n",
       "      <td>2115</td>\n",
       "      <td>5</td>\n",
       "      <td>1015904905</td>\n",
       "      <td>5</td>\n",
       "    </tr>\n",
       "    <tr>\n",
       "      <th>5073</th>\n",
       "      <td>36</td>\n",
       "      <td>1912</td>\n",
       "      <td>5</td>\n",
       "      <td>1015904924</td>\n",
       "      <td>6</td>\n",
       "    </tr>\n",
       "    <tr>\n",
       "      <th>5113</th>\n",
       "      <td>36</td>\n",
       "      <td>2662</td>\n",
       "      <td>3</td>\n",
       "      <td>1015904924</td>\n",
       "      <td>7</td>\n",
       "    </tr>\n",
       "    <tr>\n",
       "      <th>5366</th>\n",
       "      <td>36</td>\n",
       "      <td>2985</td>\n",
       "      <td>4</td>\n",
       "      <td>1015904941</td>\n",
       "      <td>8</td>\n",
       "    </tr>\n",
       "    <tr>\n",
       "      <th>5305</th>\n",
       "      <td>36</td>\n",
       "      <td>2527</td>\n",
       "      <td>3</td>\n",
       "      <td>1015904957</td>\n",
       "      <td>9</td>\n",
       "    </tr>\n",
       "    <tr>\n",
       "      <th>5145</th>\n",
       "      <td>36</td>\n",
       "      <td>198</td>\n",
       "      <td>5</td>\n",
       "      <td>1015904988</td>\n",
       "      <td>10</td>\n",
       "    </tr>\n",
       "    <tr>\n",
       "      <th>5296</th>\n",
       "      <td>36</td>\n",
       "      <td>1147</td>\n",
       "      <td>4</td>\n",
       "      <td>1015905111</td>\n",
       "      <td>11</td>\n",
       "    </tr>\n",
       "    <tr>\n",
       "      <th>5034</th>\n",
       "      <td>36</td>\n",
       "      <td>581</td>\n",
       "      <td>4</td>\n",
       "      <td>1015905127</td>\n",
       "      <td>12</td>\n",
       "    </tr>\n",
       "    <tr>\n",
       "      <th>5218</th>\n",
       "      <td>36</td>\n",
       "      <td>3142</td>\n",
       "      <td>4</td>\n",
       "      <td>1015905144</td>\n",
       "      <td>13</td>\n",
       "    </tr>\n",
       "    <tr>\n",
       "      <th>5328</th>\n",
       "      <td>36</td>\n",
       "      <td>556</td>\n",
       "      <td>5</td>\n",
       "      <td>1015905144</td>\n",
       "      <td>14</td>\n",
       "    </tr>\n",
       "  </tbody>\n",
       "</table>\n",
       "</div>"
      ],
      "text/plain": [
       "      UserId  ItemId  Rating        Time  item_idx\n",
       "5170      36    1387       5  1015904819         0\n",
       "5267      36    1201       4  1015904819         1\n",
       "5122      36    1291       5  1015904836         2\n",
       "5123      36    2167       5  1015904905         3\n",
       "5290      36    2951       4  1015904905         4\n",
       "5359      36    2115       5  1015904905         5\n",
       "5073      36    1912       5  1015904924         6\n",
       "5113      36    2662       3  1015904924         7\n",
       "5366      36    2985       4  1015904941         8\n",
       "5305      36    2527       3  1015904957         9\n",
       "5145      36     198       5  1015904988        10\n",
       "5296      36    1147       4  1015905111        11\n",
       "5034      36     581       4  1015905127        12\n",
       "5218      36    3142       4  1015905144        13\n",
       "5328      36     556       5  1015905144        14"
      ]
     },
     "execution_count": 91,
     "metadata": {},
     "output_type": "execute_result"
    }
   ],
   "source": [
    "tr_data_loader = UserIdDataLoader(tr_dataset, batch_size=4)\n",
    "tr_dataset.df.head(15)"
   ]
  },
  {
   "cell_type": "code",
   "execution_count": 92,
   "id": "level-search",
   "metadata": {},
   "outputs": [],
   "source": [
    "iter_ex = iter(tr_data_loader)"
   ]
  },
  {
   "cell_type": "code",
   "execution_count": 93,
   "id": "welcome-newman",
   "metadata": {},
   "outputs": [
    {
     "name": "stdout",
     "output_type": "stream",
     "text": [
      "Model Input Item Idx are : [ 0 33 39 49]\n",
      "Label Item Idx are :       [ 1 34 40 50]\n",
      "Previous Masked Input Idx are []\n"
     ]
    }
   ],
   "source": [
    "inputs, labels, mask =  next(iter_ex)\n",
    "print(f'Model Input Item Idx are : {inputs}')\n",
    "print(f'Label Item Idx are : {\"\":5} {labels}')\n",
    "print(f'Previous Masked Input Idx are {mask}')"
   ]
  },
  {
   "cell_type": "markdown",
   "id": "dominican-friendly",
   "metadata": {},
   "source": [
    "# Step 3. 모델 구성"
   ]
  },
  {
   "cell_type": "code",
   "execution_count": 94,
   "id": "endless-harbor",
   "metadata": {},
   "outputs": [],
   "source": [
    "def mrr_k(pred, truth: int, k: int):\n",
    "    indexing = np.where(pred[:k] == truth)[0]\n",
    "    if len(indexing) > 0:\n",
    "        return 1 / (indexing[0] + 1)\n",
    "    else:\n",
    "        return 0\n",
    "\n",
    "\n",
    "def recall_k(pred, truth: int, k: int) -> int:\n",
    "    answer = truth in pred[:k]\n",
    "    return int(answer)"
   ]
  },
  {
   "cell_type": "code",
   "execution_count": 95,
   "id": "disturbed-momentum",
   "metadata": {},
   "outputs": [],
   "source": [
    "def create_model(args):\n",
    "    inputs = Input(batch_shape=(args.batch_size, 1, args.num_items))\n",
    "    gru, _ = GRU(args.hsz, stateful=True, return_state=True, name='GRU')(inputs)\n",
    "    dropout = Dropout(args.drop_rate)(gru)\n",
    "    predictions = Dense(args.num_items, activation='softmax')(dropout)\n",
    "    model = Model(inputs=inputs, outputs=[predictions])\n",
    "    model.compile(loss=categorical_crossentropy, optimizer=Adam(args.lr), metrics=['accuracy'])\n",
    "    model.summary()\n",
    "    return model"
   ]
  },
  {
   "cell_type": "code",
   "execution_count": 135,
   "id": "complicated-parking",
   "metadata": {},
   "outputs": [],
   "source": [
    "class Args:\n",
    "    def __init__(self, tr, val, test, batch_size, hsz, drop_rate, lr, epochs, k):\n",
    "        self.tr = tr\n",
    "        self.val = val\n",
    "        self.test = test\n",
    "        self.num_items = tr['ItemId'].nunique()\n",
    "        self.num_sessions = tr['UserId'].nunique()\n",
    "        self.batch_size = batch_size\n",
    "        self.hsz = hsz\n",
    "        self.drop_rate = drop_rate\n",
    "        self.lr = lr\n",
    "        self.epochs = epochs\n",
    "        self.k = k\n",
    "\n",
    "args = Args(tr, val, test, batch_size=40, hsz=50, drop_rate=0.2, lr=0.002, epochs=30, k=40)"
   ]
  },
  {
   "cell_type": "code",
   "execution_count": 136,
   "id": "closing-outline",
   "metadata": {},
   "outputs": [
    {
     "name": "stdout",
     "output_type": "stream",
     "text": [
      "Model: \"model_12\"\n",
      "_________________________________________________________________\n",
      "Layer (type)                 Output Shape              Param #   \n",
      "=================================================================\n",
      "input_13 (InputLayer)        [(40, 1, 2165)]           0         \n",
      "_________________________________________________________________\n",
      "GRU (GRU)                    [(40, 50), (40, 50)]      332550    \n",
      "_________________________________________________________________\n",
      "dropout_12 (Dropout)         (40, 50)                  0         \n",
      "_________________________________________________________________\n",
      "dense_12 (Dense)             (40, 2165)                110415    \n",
      "=================================================================\n",
      "Total params: 442,965\n",
      "Trainable params: 442,965\n",
      "Non-trainable params: 0\n",
      "_________________________________________________________________\n"
     ]
    }
   ],
   "source": [
    "model = create_model(args)"
   ]
  },
  {
   "cell_type": "markdown",
   "id": "owned-context",
   "metadata": {},
   "source": [
    "# Step 4. 모델 학습"
   ]
  },
  {
   "cell_type": "code",
   "execution_count": 137,
   "id": "fitting-primary",
   "metadata": {},
   "outputs": [],
   "source": [
    "# train 셋으로 학습하면서 valid 셋으로 검증합니다.\n",
    "def train_model(model, args):\n",
    "    train_dataset = UserIdDataset(args.tr)\n",
    "    train_loader = UserIdDataLoader(train_dataset, batch_size=args.batch_size)\n",
    "\n",
    "    for epoch in range(1, args.epochs + 1):\n",
    "        total_step = len(args.tr) - args.tr['UserId'].nunique()\n",
    "        tr_loader = tqdm(train_loader, total=total_step // args.batch_size, desc='Train', mininterval=1)\n",
    "        for feat, target, mask in tr_loader:\n",
    "            reset_hidden_states(model, mask)  # 종료된 session은 hidden_state를 초기화합니다. 아래 메서드에서 확인해주세요.\n",
    "\n",
    "            input_ohe = to_categorical(feat, num_classes=args.num_items)\n",
    "            input_ohe = np.expand_dims(input_ohe, axis=1)\n",
    "            target_ohe = to_categorical(target, num_classes=args.num_items)\n",
    "\n",
    "            result = model.train_on_batch(input_ohe, target_ohe)\n",
    "            tr_loader.set_postfix(train_loss=result[0], accuracy = result[1])\n",
    "\n",
    "        val_recall, val_mrr = get_metrics(args.val, model, args, args.k)  # valid set에 대해 검증합니다.\n",
    "\n",
    "        print(f\"\\t - Recall@{args.k} epoch {epoch}: {val_recall:3f}\")\n",
    "        print(f\"\\t - MRR@{args.k}    epoch {epoch}: {val_mrr:3f}\\n\")\n",
    "\n",
    "\n",
    "def reset_hidden_states(model, mask):\n",
    "    gru_layer = model.get_layer(name='GRU')  # model에서 gru layer를 가져옵니다.\n",
    "    hidden_states = gru_layer.states[0].numpy()  # gru_layer의 parameter를 가져옵니다.\n",
    "    for elt in mask:  # mask된 인덱스 즉, 종료된 세션의 인덱스를 돌면서\n",
    "        hidden_states[elt, :] = 0  # parameter를 초기화 합니다.\n",
    "    gru_layer.reset_states(states=hidden_states)\n",
    "\n",
    "\n",
    "def get_metrics(data, model, args, k: int):  # valid셋과 test셋을 평가하는 코드입니다. \n",
    "                                             # train과 거의 같지만 mrr, recall을 구하는 라인이 있습니다.\n",
    "    dataset = UserIdDataset(data)\n",
    "    loader = UserIdDataLoader(dataset, batch_size=args.batch_size)\n",
    "    recall_list, mrr_list = [], []\n",
    "\n",
    "    total_step = len(data) - data['UserId'].nunique()\n",
    "    for inputs, label, mask in tqdm(loader, total=total_step // args.batch_size, desc='Evaluation', mininterval=1):\n",
    "        reset_hidden_states(model, mask)\n",
    "        input_ohe = to_categorical(inputs, num_classes=args.num_items)\n",
    "        input_ohe = np.expand_dims(input_ohe, axis=1)\n",
    "\n",
    "        pred = model.predict(input_ohe, batch_size=args.batch_size)\n",
    "        pred_arg = tf.argsort(pred, direction='DESCENDING')  # softmax 값이 큰 순서대로 sorting 합니다.\n",
    "\n",
    "        length = len(inputs)\n",
    "        recall_list.extend([recall_k(pred_arg[i], label[i], k) for i in range(length)])\n",
    "        mrr_list.extend([mrr_k(pred_arg[i], label[i], k) for i in range(length)])\n",
    "\n",
    "    recall, mrr = np.mean(recall_list), np.mean(mrr_list)\n",
    "    return recall, mrr"
   ]
  },
  {
   "cell_type": "code",
   "execution_count": 138,
   "id": "noticed-diary",
   "metadata": {},
   "outputs": [
    {
     "name": "stderr",
     "output_type": "stream",
     "text": [
      "Train:  76%|███████▋  | 158/207 [00:02<00:00, 61.87it/s, accuracy=0, train_loss=7.5]     \n",
      "Evaluation:  42%|████▏     | 25/59 [00:08<00:11,  2.94it/s]\n",
      "Train:   0%|          | 0/207 [00:00<?, ?it/s, accuracy=0, train_loss=7.5]     "
     ]
    },
    {
     "name": "stdout",
     "output_type": "stream",
     "text": [
      "\t - Recall@40 epoch 1: 0.100000\n",
      "\t - MRR@40    epoch 1: 0.012863\n",
      "\n"
     ]
    },
    {
     "name": "stderr",
     "output_type": "stream",
     "text": [
      "Train:  76%|███████▋  | 158/207 [00:01<00:00, 109.27it/s, accuracy=0.025, train_loss=7.36]\n",
      "Evaluation:  42%|████▏     | 25/59 [00:08<00:11,  2.96it/s]\n",
      "Train:   0%|          | 0/207 [00:00<?, ?it/s, accuracy=0.025, train_loss=7.12]"
     ]
    },
    {
     "name": "stdout",
     "output_type": "stream",
     "text": [
      "\t - Recall@40 epoch 2: 0.094000\n",
      "\t - MRR@40    epoch 2: 0.013290\n",
      "\n"
     ]
    },
    {
     "name": "stderr",
     "output_type": "stream",
     "text": [
      "Train:  76%|███████▋  | 158/207 [00:01<00:00, 100.39it/s, accuracy=0.025, train_loss=7.29]\n",
      "Evaluation:  42%|████▏     | 25/59 [00:08<00:11,  2.87it/s]\n",
      "Train:   0%|          | 0/207 [00:00<?, ?it/s, accuracy=0, train_loss=7.07]    "
     ]
    },
    {
     "name": "stdout",
     "output_type": "stream",
     "text": [
      "\t - Recall@40 epoch 3: 0.099000\n",
      "\t - MRR@40    epoch 3: 0.011242\n",
      "\n"
     ]
    },
    {
     "name": "stderr",
     "output_type": "stream",
     "text": [
      "Train:  76%|███████▋  | 158/207 [00:01<00:00, 104.30it/s, accuracy=0.025, train_loss=7.24]\n",
      "Evaluation:  42%|████▏     | 25/59 [00:08<00:10,  3.09it/s]\n",
      "Train:   0%|          | 0/207 [00:00<?, ?it/s, accuracy=0, train_loss=6.89]    "
     ]
    },
    {
     "name": "stdout",
     "output_type": "stream",
     "text": [
      "\t - Recall@40 epoch 4: 0.099000\n",
      "\t - MRR@40    epoch 4: 0.011792\n",
      "\n"
     ]
    },
    {
     "name": "stderr",
     "output_type": "stream",
     "text": [
      "Train:  76%|███████▋  | 158/207 [00:01<00:00, 111.40it/s, accuracy=0.025, train_loss=7.07]\n",
      "Evaluation:  42%|████▏     | 25/59 [00:08<00:11,  2.99it/s]\n",
      "Train:   0%|          | 0/207 [00:00<?, ?it/s, accuracy=0, train_loss=6.77]    "
     ]
    },
    {
     "name": "stdout",
     "output_type": "stream",
     "text": [
      "\t - Recall@40 epoch 5: 0.096000\n",
      "\t - MRR@40    epoch 5: 0.011357\n",
      "\n"
     ]
    },
    {
     "name": "stderr",
     "output_type": "stream",
     "text": [
      "Train:  76%|███████▋  | 158/207 [00:01<00:00, 117.46it/s, accuracy=0.025, train_loss=6.9] \n",
      "Evaluation:  42%|████▏     | 25/59 [00:08<00:11,  2.99it/s]\n",
      "Train:   0%|          | 0/207 [00:00<?, ?it/s, accuracy=0.025, train_loss=6.46]"
     ]
    },
    {
     "name": "stdout",
     "output_type": "stream",
     "text": [
      "\t - Recall@40 epoch 6: 0.094000\n",
      "\t - MRR@40    epoch 6: 0.011111\n",
      "\n"
     ]
    },
    {
     "name": "stderr",
     "output_type": "stream",
     "text": [
      "Train:  76%|███████▋  | 158/207 [00:01<00:00, 106.91it/s, accuracy=0.025, train_loss=6.67]\n",
      "Evaluation:  42%|████▏     | 25/59 [00:08<00:11,  2.96it/s]\n",
      "Train:   0%|          | 0/207 [00:00<?, ?it/s, accuracy=0.025, train_loss=6.26]"
     ]
    },
    {
     "name": "stdout",
     "output_type": "stream",
     "text": [
      "\t - Recall@40 epoch 7: 0.097000\n",
      "\t - MRR@40    epoch 7: 0.012628\n",
      "\n"
     ]
    },
    {
     "name": "stderr",
     "output_type": "stream",
     "text": [
      "Train:  76%|███████▋  | 158/207 [00:01<00:00, 110.61it/s, accuracy=0.025, train_loss=6.44]\n",
      "Evaluation:  42%|████▏     | 25/59 [00:08<00:11,  2.97it/s]\n",
      "Train:   0%|          | 0/207 [00:00<?, ?it/s, accuracy=0.075, train_loss=5.98]"
     ]
    },
    {
     "name": "stdout",
     "output_type": "stream",
     "text": [
      "\t - Recall@40 epoch 8: 0.088000\n",
      "\t - MRR@40    epoch 8: 0.014134\n",
      "\n"
     ]
    },
    {
     "name": "stderr",
     "output_type": "stream",
     "text": [
      "Train:  76%|███████▋  | 158/207 [00:01<00:00, 114.36it/s, accuracy=0.05, train_loss=6.27] \n",
      "Evaluation:  42%|████▏     | 25/59 [00:08<00:11,  3.05it/s]\n",
      "Train:   0%|          | 0/207 [00:00<?, ?it/s, accuracy=0.15, train_loss=5.75] "
     ]
    },
    {
     "name": "stdout",
     "output_type": "stream",
     "text": [
      "\t - Recall@40 epoch 9: 0.085000\n",
      "\t - MRR@40    epoch 9: 0.019207\n",
      "\n"
     ]
    },
    {
     "name": "stderr",
     "output_type": "stream",
     "text": [
      "Train:  76%|███████▋  | 158/207 [00:01<00:00, 108.28it/s, accuracy=0.075, train_loss=5.94]\n",
      "Evaluation:  42%|████▏     | 25/59 [00:08<00:11,  3.05it/s]\n",
      "Train:   0%|          | 0/207 [00:00<?, ?it/s, accuracy=0.175, train_loss=5.47]"
     ]
    },
    {
     "name": "stdout",
     "output_type": "stream",
     "text": [
      "\t - Recall@40 epoch 10: 0.081000\n",
      "\t - MRR@40    epoch 10: 0.021045\n",
      "\n"
     ]
    },
    {
     "name": "stderr",
     "output_type": "stream",
     "text": [
      "Train:  76%|███████▋  | 158/207 [00:01<00:00, 109.43it/s, accuracy=0.1, train_loss=5.61]  \n",
      "Evaluation:  42%|████▏     | 25/59 [00:08<00:11,  3.01it/s]\n",
      "Train:   0%|          | 0/207 [00:00<?, ?it/s, accuracy=0.175, train_loss=5.24]"
     ]
    },
    {
     "name": "stdout",
     "output_type": "stream",
     "text": [
      "\t - Recall@40 epoch 11: 0.082000\n",
      "\t - MRR@40    epoch 11: 0.020101\n",
      "\n"
     ]
    },
    {
     "name": "stderr",
     "output_type": "stream",
     "text": [
      "Train:  76%|███████▋  | 158/207 [00:01<00:00, 110.57it/s, accuracy=0.075, train_loss=5.3] \n",
      "Evaluation:  42%|████▏     | 25/59 [00:08<00:11,  3.06it/s]\n",
      "Train:   0%|          | 0/207 [00:00<?, ?it/s, accuracy=0.275, train_loss=4.77]"
     ]
    },
    {
     "name": "stdout",
     "output_type": "stream",
     "text": [
      "\t - Recall@40 epoch 12: 0.082000\n",
      "\t - MRR@40    epoch 12: 0.018982\n",
      "\n"
     ]
    },
    {
     "name": "stderr",
     "output_type": "stream",
     "text": [
      "Train:  76%|███████▋  | 158/207 [00:01<00:00, 94.55it/s, accuracy=0.125, train_loss=4.85] \n",
      "Evaluation:  42%|████▏     | 25/59 [00:08<00:11,  2.91it/s]\n",
      "Train:   0%|          | 0/207 [00:00<?, ?it/s, accuracy=0.475, train_loss=4.42]"
     ]
    },
    {
     "name": "stdout",
     "output_type": "stream",
     "text": [
      "\t - Recall@40 epoch 13: 0.080000\n",
      "\t - MRR@40    epoch 13: 0.018204\n",
      "\n"
     ]
    },
    {
     "name": "stderr",
     "output_type": "stream",
     "text": [
      "Train:  76%|███████▋  | 158/207 [00:01<00:00, 109.26it/s, accuracy=0.275, train_loss=4.46]\n",
      "Evaluation:  42%|████▏     | 25/59 [00:08<00:11,  2.94it/s]\n",
      "Train:   0%|          | 0/207 [00:00<?, ?it/s, accuracy=0.4, train_loss=3.94]  "
     ]
    },
    {
     "name": "stdout",
     "output_type": "stream",
     "text": [
      "\t - Recall@40 epoch 14: 0.082000\n",
      "\t - MRR@40    epoch 14: 0.018058\n",
      "\n"
     ]
    },
    {
     "name": "stderr",
     "output_type": "stream",
     "text": [
      "Train:  76%|███████▋  | 158/207 [00:01<00:00, 102.74it/s, accuracy=0.25, train_loss=4.21] \n",
      "Evaluation:  42%|████▏     | 25/59 [00:08<00:10,  3.10it/s]\n",
      "Train:   0%|          | 0/207 [00:00<?, ?it/s, accuracy=0.5, train_loss=3.48]  "
     ]
    },
    {
     "name": "stdout",
     "output_type": "stream",
     "text": [
      "\t - Recall@40 epoch 15: 0.082000\n",
      "\t - MRR@40    epoch 15: 0.017227\n",
      "\n"
     ]
    },
    {
     "name": "stderr",
     "output_type": "stream",
     "text": [
      "Train:  76%|███████▋  | 158/207 [00:01<00:00, 116.70it/s, accuracy=0.325, train_loss=3.65]\n",
      "Evaluation:  42%|████▏     | 25/59 [00:08<00:11,  3.03it/s]\n",
      "Train:   0%|          | 0/207 [00:00<?, ?it/s, accuracy=0.4, train_loss=3.06]  "
     ]
    },
    {
     "name": "stdout",
     "output_type": "stream",
     "text": [
      "\t - Recall@40 epoch 16: 0.080000\n",
      "\t - MRR@40    epoch 16: 0.017576\n",
      "\n"
     ]
    },
    {
     "name": "stderr",
     "output_type": "stream",
     "text": [
      "Train:  76%|███████▋  | 158/207 [00:01<00:00, 112.10it/s, accuracy=0.325, train_loss=3.38]\n",
      "Evaluation:  42%|████▏     | 25/59 [00:08<00:11,  3.05it/s]\n",
      "Train:   0%|          | 0/207 [00:00<?, ?it/s, accuracy=0.55, train_loss=2.99] "
     ]
    },
    {
     "name": "stdout",
     "output_type": "stream",
     "text": [
      "\t - Recall@40 epoch 17: 0.081000\n",
      "\t - MRR@40    epoch 17: 0.017370\n",
      "\n"
     ]
    },
    {
     "name": "stderr",
     "output_type": "stream",
     "text": [
      "Train:  76%|███████▋  | 158/207 [00:01<00:00, 111.54it/s, accuracy=0.325, train_loss=3.16]\n",
      "Evaluation:  42%|████▏     | 25/59 [00:08<00:11,  3.04it/s]\n",
      "Train:   0%|          | 0/207 [00:00<?, ?it/s, accuracy=0.625, train_loss=2.57]"
     ]
    },
    {
     "name": "stdout",
     "output_type": "stream",
     "text": [
      "\t - Recall@40 epoch 18: 0.084000\n",
      "\t - MRR@40    epoch 18: 0.017616\n",
      "\n"
     ]
    },
    {
     "name": "stderr",
     "output_type": "stream",
     "text": [
      "Train:  76%|███████▋  | 158/207 [00:01<00:00, 115.21it/s, accuracy=0.425, train_loss=2.99]\n",
      "Evaluation:  42%|████▏     | 25/59 [00:08<00:11,  3.03it/s]\n",
      "Train:   0%|          | 0/207 [00:00<?, ?it/s, accuracy=0.625, train_loss=2.31]"
     ]
    },
    {
     "name": "stdout",
     "output_type": "stream",
     "text": [
      "\t - Recall@40 epoch 19: 0.082000\n",
      "\t - MRR@40    epoch 19: 0.016842\n",
      "\n"
     ]
    },
    {
     "name": "stderr",
     "output_type": "stream",
     "text": [
      "Train:  76%|███████▋  | 158/207 [00:01<00:00, 112.61it/s, accuracy=0.525, train_loss=2.54]\n",
      "Evaluation:  42%|████▏     | 25/59 [00:08<00:11,  3.05it/s]\n",
      "Train:   0%|          | 0/207 [00:00<?, ?it/s, accuracy=0.6, train_loss=2]     "
     ]
    },
    {
     "name": "stdout",
     "output_type": "stream",
     "text": [
      "\t - Recall@40 epoch 20: 0.081000\n",
      "\t - MRR@40    epoch 20: 0.017204\n",
      "\n"
     ]
    },
    {
     "name": "stderr",
     "output_type": "stream",
     "text": [
      "Train:  76%|███████▋  | 158/207 [00:01<00:00, 114.85it/s, accuracy=0.55, train_loss=2.35] \n",
      "Evaluation:  42%|████▏     | 25/59 [00:08<00:11,  3.04it/s]\n",
      "Train:   0%|          | 0/207 [00:00<?, ?it/s, accuracy=0.625, train_loss=1.88]"
     ]
    },
    {
     "name": "stdout",
     "output_type": "stream",
     "text": [
      "\t - Recall@40 epoch 21: 0.082000\n",
      "\t - MRR@40    epoch 21: 0.017669\n",
      "\n"
     ]
    },
    {
     "name": "stderr",
     "output_type": "stream",
     "text": [
      "Train:  76%|███████▋  | 158/207 [00:01<00:00, 115.86it/s, accuracy=0.5, train_loss=2.09]  \n",
      "Evaluation:  42%|████▏     | 25/59 [00:08<00:11,  3.03it/s]\n",
      "Train:   0%|          | 0/207 [00:00<?, ?it/s, accuracy=0.6, train_loss=1.85]  "
     ]
    },
    {
     "name": "stdout",
     "output_type": "stream",
     "text": [
      "\t - Recall@40 epoch 22: 0.082000\n",
      "\t - MRR@40    epoch 22: 0.018749\n",
      "\n"
     ]
    },
    {
     "name": "stderr",
     "output_type": "stream",
     "text": [
      "Train:  76%|███████▋  | 158/207 [00:01<00:00, 117.43it/s, accuracy=0.575, train_loss=2]   \n",
      "Evaluation:  42%|████▏     | 25/59 [00:08<00:11,  3.02it/s]\n",
      "Train:   0%|          | 0/207 [00:00<?, ?it/s, accuracy=0.5, train_loss=1.84]  "
     ]
    },
    {
     "name": "stdout",
     "output_type": "stream",
     "text": [
      "\t - Recall@40 epoch 23: 0.077000\n",
      "\t - MRR@40    epoch 23: 0.017569\n",
      "\n"
     ]
    },
    {
     "name": "stderr",
     "output_type": "stream",
     "text": [
      "Train:  76%|███████▋  | 158/207 [00:01<00:00, 104.89it/s, accuracy=0.7, train_loss=1.87]  \n",
      "Evaluation:  42%|████▏     | 25/59 [00:08<00:11,  2.98it/s]\n",
      "Train:   0%|          | 0/207 [00:00<?, ?it/s, accuracy=0.65, train_loss=1.55] "
     ]
    },
    {
     "name": "stdout",
     "output_type": "stream",
     "text": [
      "\t - Recall@40 epoch 24: 0.078000\n",
      "\t - MRR@40    epoch 24: 0.017749\n",
      "\n"
     ]
    },
    {
     "name": "stderr",
     "output_type": "stream",
     "text": [
      "Train:  76%|███████▋  | 158/207 [00:01<00:00, 111.35it/s, accuracy=0.575, train_loss=1.63]\n",
      "Evaluation:  42%|████▏     | 25/59 [00:08<00:11,  2.99it/s]\n",
      "Train:   0%|          | 0/207 [00:00<?, ?it/s, accuracy=0.65, train_loss=1.59] "
     ]
    },
    {
     "name": "stdout",
     "output_type": "stream",
     "text": [
      "\t - Recall@40 epoch 25: 0.082000\n",
      "\t - MRR@40    epoch 25: 0.018738\n",
      "\n"
     ]
    },
    {
     "name": "stderr",
     "output_type": "stream",
     "text": [
      "Train:  76%|███████▋  | 158/207 [00:01<00:00, 114.67it/s, accuracy=0.55, train_loss=1.78] \n",
      "Evaluation:  42%|████▏     | 25/59 [00:08<00:11,  3.04it/s]\n",
      "Train:   0%|          | 0/207 [00:00<?, ?it/s, accuracy=0.675, train_loss=1.53]"
     ]
    },
    {
     "name": "stdout",
     "output_type": "stream",
     "text": [
      "\t - Recall@40 epoch 26: 0.085000\n",
      "\t - MRR@40    epoch 26: 0.019910\n",
      "\n"
     ]
    },
    {
     "name": "stderr",
     "output_type": "stream",
     "text": [
      "Train:  76%|███████▋  | 158/207 [00:01<00:00, 113.94it/s, accuracy=0.7, train_loss=1.41]  \n",
      "Evaluation:  42%|████▏     | 25/59 [00:08<00:11,  3.06it/s]\n",
      "Train:   0%|          | 0/207 [00:00<?, ?it/s, accuracy=0.6, train_loss=1.72]  "
     ]
    },
    {
     "name": "stdout",
     "output_type": "stream",
     "text": [
      "\t - Recall@40 epoch 27: 0.082000\n",
      "\t - MRR@40    epoch 27: 0.018681\n",
      "\n"
     ]
    },
    {
     "name": "stderr",
     "output_type": "stream",
     "text": [
      "Train:  76%|███████▋  | 158/207 [00:01<00:00, 113.76it/s, accuracy=0.575, train_loss=1.62] \n",
      "Evaluation:  42%|████▏     | 25/59 [00:08<00:11,  3.00it/s]\n",
      "Train:   0%|          | 0/207 [00:00<?, ?it/s, accuracy=0.75, train_loss=1.15] "
     ]
    },
    {
     "name": "stdout",
     "output_type": "stream",
     "text": [
      "\t - Recall@40 epoch 28: 0.085000\n",
      "\t - MRR@40    epoch 28: 0.018421\n",
      "\n"
     ]
    },
    {
     "name": "stderr",
     "output_type": "stream",
     "text": [
      "Train:  76%|███████▋  | 158/207 [00:01<00:00, 117.04it/s, accuracy=0.675, train_loss=1.33] \n",
      "Evaluation:  42%|████▏     | 25/59 [00:08<00:11,  2.99it/s]\n",
      "Train:   0%|          | 0/207 [00:00<?, ?it/s, accuracy=0.625, train_loss=1.33]"
     ]
    },
    {
     "name": "stdout",
     "output_type": "stream",
     "text": [
      "\t - Recall@40 epoch 29: 0.088000\n",
      "\t - MRR@40    epoch 29: 0.019163\n",
      "\n"
     ]
    },
    {
     "name": "stderr",
     "output_type": "stream",
     "text": [
      "Train:  76%|███████▋  | 158/207 [00:01<00:00, 117.19it/s, accuracy=0.525, train_loss=1.26] \n",
      "Evaluation:  42%|████▏     | 25/59 [00:08<00:11,  3.07it/s]"
     ]
    },
    {
     "name": "stdout",
     "output_type": "stream",
     "text": [
      "\t - Recall@40 epoch 30: 0.085000\n",
      "\t - MRR@40    epoch 30: 0.018687\n",
      "\n"
     ]
    },
    {
     "name": "stderr",
     "output_type": "stream",
     "text": [
      "\n"
     ]
    }
   ],
   "source": [
    "# 학습 시간이 다소 오래 소요됩니다. (예상시간 1시간)\n",
    "train_model(model, args)"
   ]
  },
  {
   "cell_type": "markdown",
   "id": "public-internet",
   "metadata": {},
   "source": [
    "# Step 5. 모델 테스트"
   ]
  },
  {
   "cell_type": "code",
   "execution_count": 140,
   "id": "interim-cooperation",
   "metadata": {},
   "outputs": [
    {
     "name": "stderr",
     "output_type": "stream",
     "text": [
      "Evaluation:  56%|█████▌    | 73/131 [00:24<00:19,  2.96it/s]"
     ]
    },
    {
     "name": "stdout",
     "output_type": "stream",
     "text": [
      "\t - Recall@40: 0.053082\n",
      "\t - MRR@40: 0.011838\n",
      "\n"
     ]
    },
    {
     "name": "stderr",
     "output_type": "stream",
     "text": [
      "\n"
     ]
    }
   ],
   "source": [
    "def test_model(model, args, test):\n",
    "    test_recall, test_mrr = get_metrics(test, model, args, 40)\n",
    "    print(f\"\\t - Recall@{args.k}: {test_recall:3f}\")\n",
    "    print(f\"\\t - MRR@{args.k}: {test_mrr:3f}\\n\")\n",
    "\n",
    "test_model(model, args, test)"
   ]
  },
  {
   "cell_type": "markdown",
   "id": "tested-lebanon",
   "metadata": {},
   "source": [
    "추천모델의 역할 : K번의 추천 기회가 있고 K번 중 몇번 실제 선호와 맞을 수 있는지 알아내는 모델\n",
    "\n",
    "MRR AND RECALL이 높을 수록 추천 정확도가 올라간다.\n",
    "\n",
    "MRR: K개 추천 중 실제 사용자 선호와 맞을 확률\n",
    "\n",
    "RECALL: 전체 영화 중 추천 영화가 속할 확률\n"
   ]
  },
  {
   "cell_type": "markdown",
   "id": "saving-guest",
   "metadata": {},
   "source": [
    "# 시도\n",
    "* 추천 기회가 많으면 정확도가 늘어나지 않을까 생각 -> batch_size=30, hsz=50, drop_rate=0.2, lr=0.002, epochs=5, k=35\n",
    "\n",
    "Recall@35: 0.029429,  MRR@35: 0.006080\n",
    "\n",
    "* EPOCH가 적어서 정확도가 시원찮은가 싶어서 10으로 늘림 -> batch_size=40, hsz=50, drop_rate=0.1, lr=0.002, epochs=10, k=20\n",
    "\n",
    "\n",
    "* batch_size=40, hsz=50, drop_rate=0.1, lr=0.002, epochs=10, k=40\n",
    "\n",
    "Recall@40: 0.052740, MRR@40: 0.009446\n",
    "\n",
    "* tr, val, test, batch_size=30, hsz=50, drop_rate=0.1, lr=0.002, epochs=20, k=35\n",
    "\n",
    "=  Recall@35: 0.049850, MRR@35: 0.011074\n",
    "\n",
    "* batch_size=40, hsz=50, drop_rate=0.2, lr=0.002, epochs=30, k=40\n",
    "\n",
    "= Recall@40: 0.053082 MRR@40: 0.011838"
   ]
  },
  {
   "cell_type": "markdown",
   "id": "coupled-principal",
   "metadata": {},
   "source": [
    "# 회고 \n",
    "\n",
    "* 데이터 양이 적어서 그런지 더 다양한 모델을 적용해봐야하는건지 파라미터만 바꿔서는 정확도가 높지 않다. \n",
    "* epoch와 k의 수를 높이니 그나마 정확도가 올라갔다. \n",
    "* 영화 추천 모델로는 사용 못할거 같다ㅋㅋㅋㅋ"
   ]
  }
 ],
 "metadata": {
  "kernelspec": {
   "display_name": "aiffel",
   "language": "python",
   "name": "aiffel"
  },
  "language_info": {
   "codemirror_mode": {
    "name": "ipython",
    "version": 3
   },
   "file_extension": ".py",
   "mimetype": "text/x-python",
   "name": "python",
   "nbconvert_exporter": "python",
   "pygments_lexer": "ipython3",
   "version": "3.7.9"
  }
 },
 "nbformat": 4,
 "nbformat_minor": 5
}
