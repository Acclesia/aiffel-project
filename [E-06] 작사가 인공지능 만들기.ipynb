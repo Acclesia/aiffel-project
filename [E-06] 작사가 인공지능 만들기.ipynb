{
 "cells": [
  {
   "cell_type": "markdown",
   "metadata": {},
   "source": [
    "# [E6-7] 작사가 인공지능 만들기\n",
    "\n",
    "# 루브릭 기준\n",
    "1. 가사 텍스트 생성 모델이 정상적으로 동작하는가?\n",
    " * 텍스트 제너레이션 결과가 그럴듯한 문장으로 생성되는가?\n",
    "\n",
    " = 그런거 같다...\n",
    "\n",
    "\n",
    "2. 데이터의 전처리와 데이터셋 구성 과정이 체계적으로 진행되었는가?\n",
    " * 특수문자 제거, 토크나이저 생성, 패딩처리 등의 과정이 빠짐없이 진행되었는가?\n",
    "\n",
    " = 진행됐다!! 토큰 길이 조절하는 부분이 어디에 어떤 함수를 사용해야하는지 몰라서 어려웠지만 해결했다. \n",
    "\n",
    "\n",
    "3. 텍스트 생성모델이 안정적으로 학습되었는가?\n",
    " * 텍스트 생성모델의 validation loss가 2.2 이하로 낮아졌는가?\n",
    "\n",
    " = loss는 1.08 정확도는 0.80 이다. 그래프를 보면 점점 loss는 줄고 정확도는 늘어나는걸 알 수 있다. \n",
    "\n",
    "## 진행 순서\n",
    "1. 데이터 다운로드\n",
    "2. 데이터 읽어오기\n",
    "3. 데이터 정제\n",
    "4. 데이터셋 내 길이 분포\n",
    "5. 데이터 토큰화\n",
    "6. 데이터 분리\n",
    "7. 데이터 셋 만들기\n",
    "8. 모델 구현\n",
    "9. 모델 평가\n",
    "10. 회고"
   ]
  },
  {
   "cell_type": "markdown",
   "metadata": {},
   "source": [
    "## Step 1. 데이터 다운로드\n",
    "\n",
    "* 명령어로 데이터 다운로드 완료!\n",
    "\n",
    "$ wget https://aiffelstaticprd.blob.core.windows.net/media/documents/song_lyrics.zip\n",
    "$ unzip song_lyrics.zip -d ~/aiffel/lyricist/data/lyrics  #lyrics 폴더에 압축풀기"
   ]
  },
  {
   "cell_type": "markdown",
   "metadata": {},
   "source": [
    "## Step 2. 데이터 읽어오기"
   ]
  },
  {
   "cell_type": "code",
   "execution_count": 2,
   "metadata": {},
   "outputs": [],
   "source": [
    "import re                  # 정규표현식을 위한 Regex 지원 모듈 (문장 데이터를 정돈하기 위해) \n",
    "import numpy as np         # 변환된 문장 데이터(행렬)을 편하게 처리하기 위해\n",
    "import tensorflow as tf    # 대망의 텐서플로우!\n",
    "import os"
   ]
  },
  {
   "cell_type": "code",
   "execution_count": 3,
   "metadata": {},
   "outputs": [
    {
     "name": "stdout",
     "output_type": "stream",
     "text": [
      "데이터 크기: 187088\n",
      "Examples:\n",
      " ['', '', '[Spoken Intro:]']\n"
     ]
    }
   ],
   "source": [
    "import glob #파일 읽기\n",
    "import os\n",
    "\n",
    "txt_file_path = os.getenv('HOME')+'/aiffel/lyricist/data/lyrics/*'\n",
    "\n",
    "txt_list = glob.glob(txt_file_path)\n",
    "\n",
    "raw_corpus = []\n",
    "\n",
    "# 여러개의 txt 파일을 모두 읽어서 raw_corpus 에 담습니다.\n",
    "for txt_file in txt_list:\n",
    "    with open(txt_file, \"r\") as f:\n",
    "        raw = f.read().splitlines() # 텍스트를 라인 단위로 끊어서 리스트 형태로 읽어오기  \n",
    "        raw_corpus.extend(raw) # 흩어진 덱스트를 변수에 집어 넣기\n",
    "\n",
    "print(\"데이터 크기:\", len(raw_corpus))\n",
    "print(\"Examples:\\n\", raw_corpus[:3])"
   ]
  },
  {
   "cell_type": "markdown",
   "metadata": {},
   "source": [
    "## Step 3. 데이터 정제"
   ]
  },
  {
   "cell_type": "code",
   "execution_count": 129,
   "metadata": {},
   "outputs": [
    {
     "name": "stdout",
     "output_type": "stream",
     "text": [
      "[Spoken Intro:]\n",
      "You ever want something \n",
      "that you know you shouldn't have \n",
      "The more you know you shouldn't have it, \n",
      "The more you want it \n",
      "And then one day you get it, \n",
      "It's so good too \n",
      "But it's just like my girl \n"
     ]
    }
   ],
   "source": [
    "#raw corpus 데이터에 길이가 없는것 제거, : 있는거 제거\n",
    "for idx, sentence in enumerate(raw_corpus): \n",
    "    if len(sentence) == 0: continue   \n",
    "    if sentence[-1] == \":\": continue  \n",
    "\n",
    "    if idx > 9: break   \n",
    "        \n",
    "    print(sentence)"
   ]
  },
  {
   "cell_type": "code",
   "execution_count": 5,
   "metadata": {},
   "outputs": [
    {
     "name": "stdout",
     "output_type": "stream",
     "text": [
      "<start> the more you know you shouldn t have it <end>\n"
     ]
    }
   ],
   "source": [
    "# 정규표현식\n",
    "def preprocess_sentence(sentence):\n",
    "    sentence = sentence.lower().strip()       # 소문자로 바꾸고 양쪽 공백을 삭제\n",
    "  \n",
    "    # 아래 3단계를 거쳐 sentence는 스페이스 1개를 delimeter로 하는 소문자 단어 시퀀스로 바뀝니다.\n",
    "    sentence = re.sub(r\"([?.!,¿])\", r\" \\1 \", sentence)      # 패턴의 특수문자를 만나면 특수문자 양쪽에 공백을 추가\n",
    "    sentence = re.sub(r'[\" \"]+', \" \", sentence)            # 공백 패턴을 만나면 스페이스 1개로 치환\n",
    "    sentence = re.sub(r\"[^a-zA-Z?.!,¿]+\", \" \", sentence)  # a-zA-Z?.!,¿ 패턴을 제외한 모든 문자(공백문자까지도)를 스페이스 1개로 치환\n",
    "\n",
    "    sentence = sentence.strip()\n",
    "\n",
    "    sentence = '<start> ' + sentence + ' <end>'      # 이전 스텝에서 본 것처럼 문장 앞뒤로 <start>와 <end>를 단어처럼 붙여 줍니다\n",
    "    \n",
    "    return sentence\n",
    "\n",
    "print(preprocess_sentence(\"The more you know you shouldn't have it\"))   # 이 문장이 어떻게 필터링되는지 확인해 보세요."
   ]
  },
  {
   "cell_type": "code",
   "execution_count": 6,
   "metadata": {},
   "outputs": [
    {
     "data": {
      "text/plain": [
       "['<start> spoken intro <end>',\n",
       " '<start> you ever want something <end>',\n",
       " '<start> that you know you shouldn t have <end>',\n",
       " '<start> the more you know you shouldn t have it , <end>',\n",
       " '<start> the more you want it <end>',\n",
       " '<start> and then one day you get it , <end>',\n",
       " '<start> it s so good too <end>',\n",
       " '<start> but it s just like my girl <end>',\n",
       " '<start> when she s around me <end>',\n",
       " '<start> i just feel so good , so good <end>']"
      ]
     },
     "execution_count": 6,
     "metadata": {},
     "output_type": "execute_result"
    }
   ],
   "source": [
    "# 정제 데이터 구축하기 정제하고 비어있는 문장이 있는지 확인하기 - 전처리하고 한번더 결측치 확인해야한다.\n",
    "corpus = []\n",
    "for sentence in raw_corpus:\n",
    "    if len(sentence) ==0: continue #빈공간 없애기\n",
    "    if sentence[-1] == \":\": continue    \n",
    "    corpus.append(preprocess_sentence(sentence))\n",
    "corpus[:10]"
   ]
  },
  {
   "cell_type": "markdown",
   "metadata": {},
   "source": [
    "# step 4. 데이터셋 내 길이 분포\n",
    "## * 데이터 내 길이 확인하기\n",
    "\n",
    "\n",
    "#### 첫번째 문제 : 토큰화 길이 조절\n",
    "* 여기서 너무 헤멨다. 노드에는 토큰 15이상은 없애라고 했는데 어떤걸 사용해야할지 헷갈렸다.\n",
    "* 처음엔 counter을 사용해서 문장 길이를 찾으려고 했지만 토큰 길이랑 상관없는거 같아서 다른 방법을 찾았다.\n",
    "* 문장 길이 조절을 토큰화 전에 적용해야 하는지 후에 적용해야 하는지 모르겠어서 토큰화를 더 자세히 공부하게 됐다. \n",
    "\n",
    "__ 해결책: 프로젝트 4번을 참고! 데이터를 정제한 후 문장의 길이 확인-적절한 문장 길이 지정- 토큰화"
   ]
  },
  {
   "cell_type": "code",
   "execution_count": 14,
   "metadata": {},
   "outputs": [
    {
     "name": "stdout",
     "output_type": "stream",
     "text": [
      "<start> that you know you shouldn t have <end>\n",
      "문자길이 26\n",
      "문자길이 37\n"
     ]
    }
   ],
   "source": [
    "print(corpus[2])\n",
    "print(\"문자길이\",len(corpus[0]))\n",
    "print(\"문자길이\",len(corpus[1]))"
   ]
  },
  {
   "cell_type": "code",
   "execution_count": 15,
   "metadata": {},
   "outputs": [
    {
     "name": "stdout",
     "output_type": "stream",
     "text": [
      "문장길이 평균 :  51.26072979078117\n",
      "문장길이 최대 :  1478\n",
      "문장길이 표준편차 :  20.555449915415117\n"
     ]
    }
   ],
   "source": [
    "num_tokens = [len(tokens) for tokens in corpus]\n",
    "num_tokens = np.array(num_tokens)\n",
    "# 문장길이의 평균값, 최대값, 표준편차를 계산해 본다. \n",
    "print('문장길이 평균 : ', np.mean(num_tokens))\n",
    "print('문장길이 최대 : ', np.max(num_tokens))\n",
    "print('문장길이 표준편차 : ', np.std(num_tokens))"
   ]
  },
  {
   "cell_type": "code",
   "execution_count": 19,
   "metadata": {},
   "outputs": [
    {
     "name": "stdout",
     "output_type": "stream",
     "text": [
      "최대 길이 : 1478\n",
      "평균 길이 : 51.26072979078117\n"
     ]
    },
    {
     "data": {
      "image/png": "[encoded data removed]",
      "text/plain": [
       "<Figure size 432x288 with 1 Axes>"
      ]
     },
     "metadata": {
      "needs_background": "light"
     },
     "output_type": "display_data"
    }
   ],
   "source": [
    "import matplotlib.pyplot as plt\n",
    "print('최대 길이 :', np.max(num_tokens))\n",
    "print('평균 길이 :', np.mean(num_tokens))\n",
    "plt.hist([len(s) for s in corpus], bins=50)\n",
    "plt.xlabel('length of samples')\n",
    "plt.ylabel('number of samples')\n",
    "plt.show()"
   ]
  },
  {
   "cell_type": "markdown",
   "metadata": {},
   "source": [
    "## * 적절한 최대 문장 길이 지정"
   ]
  },
  {
   "cell_type": "code",
   "execution_count": 133,
   "metadata": {},
   "outputs": [
    {
     "name": "stdout",
     "output_type": "stream",
     "text": [
      "pad_sequences maxlen :  15\n",
      "전체 문장의 0.9642330824072968%가 maxlen 설정값 이내에 포함됩니다. \n"
     ]
    }
   ],
   "source": [
    "max_len = 15 #여기서 토큰길이를 조절한다!\n",
    "\n",
    "print('pad_sequences maxlen : ', max_len)\n",
    "print('전체 문장의 {}%가 maxlen 설정값 이내에 포함됩니다. '.format(np.sum(num_tokens < max_tokens) / len(num_tokens)))"
   ]
  },
  {
   "cell_type": "code",
   "execution_count": 73,
   "metadata": {},
   "outputs": [
    {
     "data": {
      "text/plain": [
       "['<start> spoken intro <end>',\n",
       " '<start> you ever want something <end>',\n",
       " '<start> that you know you shouldn t have <end>',\n",
       " '<start> the more you know you shouldn t have it , <end>',\n",
       " '<start> the more you want it <end>',\n",
       " '<start> and then one day you get it , <end>',\n",
       " '<start> it s so good too <end>',\n",
       " '<start> but it s just like my girl <end>',\n",
       " '<start> when she s around me <end>',\n",
       " '<start> i just feel so good , so good <end>']"
      ]
     },
     "execution_count": 73,
     "metadata": {},
     "output_type": "execute_result"
    }
   ],
   "source": [
    "corpus_len = []\n",
    "for sentence in corpus:\n",
    "    if len(sentence) >40: continue #빈공간 없애기\n",
    "        \n",
    "    corpus.append(preprocess_sentence(sentence))\n",
    "corpus[:10]"
   ]
  },
  {
   "cell_type": "markdown",
   "metadata": {},
   "source": [
    "# step 5. 데이터 토큰화 하기 \n",
    "* 토큰화하기\n",
    "* 단어사전 만들기 \n",
    "* 정수인코딩(sequence 변환)\n",
    "* 패딩하기"
   ]
  },
  {
   "cell_type": "code",
   "execution_count": 134,
   "metadata": {},
   "outputs": [
    {
     "name": "stdout",
     "output_type": "stream",
     "text": [
      "[[   2 1704 1319 ...    0    0    0]\n",
      " [   2    8  171 ...    0    0    0]\n",
      " [   2   20    8 ...    0    0    0]\n",
      " ...\n",
      " [   2    5    5 ...    0    0    0]\n",
      " [   2    5    5 ...    0    0    0]\n",
      " [   2    5    5 ...    0    0    0]] <keras_preprocessing.text.Tokenizer object at 0x7f3eb5023d50>\n"
     ]
    }
   ],
   "source": [
    "\n",
    "def tokenize(corpus):\n",
    "    # 텐서플로우에서 제공하는 Tokenizer 패키지를 생성\n",
    "    tokenizer = tf.keras.preprocessing.text.Tokenizer(\n",
    "        num_words=12000,  # 전체 단어의 개수 \n",
    "        filters=' ',    \n",
    "        oov_token=\"<unk>\"  # out-of-vocabulary, 사전에 없었던 단어는 어떤 토큰으로 대체할지\n",
    "    )\n",
    "    tokenizer.fit_on_texts(corpus)   # corpus로부터 Tokenizer가 사전을 자동으로 만듬.\n",
    "\n",
    "    # 이후 tokenizer를 활용하여 모델에 입력할 데이터셋을 구축하게 됩니다.\n",
    "    tensor = tokenizer.texts_to_sequences(corpus)   # corpus를 Tensor(숫자)로 바꾼다\n",
    "\n",
    "    # 입력 데이터의 시퀀스 길이를 일정하게 맞추기 위한 padding  메소드를 제공합니다.\n",
    "    tensor = tf.keras.preprocessing.sequence.pad_sequences(tensor, \n",
    "                                                           maxlen=max_len,\n",
    "                                                           padding='post')  \n",
    "\n",
    "    print(tensor,tokenizer)\n",
    "    return tensor, tokenizer #뒤에 제터레이터를 해줘야해서 tokenizer 추가 \n",
    "\n",
    "tensor, tokenizer = tokenize(corpus) "
   ]
  },
  {
   "cell_type": "code",
   "execution_count": 75,
   "metadata": {},
   "outputs": [
    {
     "name": "stdout",
     "output_type": "stream",
     "text": [
      "[[   2 1704 1319    3    0    0    0    0    0    0]\n",
      " [   2    8  171   65  230    3    0    0    0    0]\n",
      " [   2   20    8   40    8 1994   16   82    3    0]]\n"
     ]
    }
   ],
   "source": [
    "print(tensor[:3, :10]) #8번째 행, 13번째 열까지 출력"
   ]
  },
  {
   "cell_type": "code",
   "execution_count": 76,
   "metadata": {},
   "outputs": [
    {
     "name": "stdout",
     "output_type": "stream",
     "text": [
      "1 : <unk>\n",
      "2 : <start>\n",
      "3 : <end>\n",
      "4 : end\n",
      "5 : start\n",
      "6 : i\n",
      "7 : ,\n",
      "8 : you\n",
      "9 : the\n",
      "10 : and\n"
     ]
    }
   ],
   "source": [
    "#단어 사전이 어떻게 구성됐는지 확인\n",
    "for idx in tokenizer.index_word:\n",
    "    print(idx, \":\", tokenizer.index_word[idx])\n",
    "\n",
    "    if idx >= 10: break"
   ]
  },
  {
   "cell_type": "markdown",
   "metadata": {},
   "source": [
    "# step 6. 데이터 분리"
   ]
  },
  {
   "cell_type": "code",
   "execution_count": 135,
   "metadata": {},
   "outputs": [
    {
     "name": "stdout",
     "output_type": "stream",
     "text": [
      "[   2    9  103    8   40    8 1994   16   82   13    7    3    0    0]\n",
      "[1704 1319    3    0    0    0    0    0    0    0    0    0    0    0]\n",
      "940816\n",
      "940816\n"
     ]
    }
   ],
   "source": [
    "src_input = tensor[:, :-1] #x값\n",
    "tgt_input = tensor[:, 1:]  #y값\n",
    "\n",
    "print(src_input[3])\n",
    "print(tgt_input[0])\n",
    "print(len(src_input))\n",
    "print(len(tgt_input))"
   ]
  },
  {
   "cell_type": "code",
   "execution_count": 117,
   "metadata": {},
   "outputs": [
    {
     "name": "stdout",
     "output_type": "stream",
     "text": [
      "[[  2  13   1 ...   0   0   0]\n",
      " [  2  80  57 ...   0   0   0]\n",
      " [  2   5   5 ...   0   0   0]\n",
      " ...\n",
      " [  2  78   6 ...   0   0   0]\n",
      " [  2   5   5 ...   0   0   0]\n",
      " [  2  76 534 ...   0   0   0]]\n",
      "[[ 2  5 55 ...  0  0  0]\n",
      " [ 2  3  0 ...  0  0  0]\n",
      " [ 2 10 33 ...  0  0  0]\n",
      " ...\n",
      " [ 2  5 79 ...  0  0  0]\n",
      " [ 2  5 53 ...  0  0  0]\n",
      " [ 2  6 40 ...  0  0  0]]\n",
      "[[ 13   1 162 ...   0   0   0]\n",
      " [ 80  57  13 ...   0   0   0]\n",
      " [  5   5   4 ...   0   0   0]\n",
      " ...\n",
      " [ 78   6  83 ...   0   0   0]\n",
      " [  5   5   4 ...   0   0   0]\n",
      " [ 76 534  13 ...   0   0   0]]\n",
      "[[  5  55 158 ...   0   0   0]\n",
      " [  3   0   0 ...   0   0   0]\n",
      " [ 10  33 920 ...   0   0   0]\n",
      " ...\n",
      " [  5  79 719 ...   0   0   0]\n",
      " [  5  53  22 ...   0   0   0]\n",
      " [  6  40  20 ...   0   0   0]]\n"
     ]
    }
   ],
   "source": [
    "# 데이터 분리 \n",
    "from sklearn.model_selection import train_test_split\n",
    "enc_train, enc_val, dec_train, dec_val = train_test_split(src_input,tgt_input, test_size = 0.2)\n",
    "\n",
    "print(enc_train)\n",
    "print(enc_val)\n",
    "print(dec_train)\n",
    "print(dec_val)"
   ]
  },
  {
   "cell_type": "code",
   "execution_count": 118,
   "metadata": {},
   "outputs": [
    {
     "name": "stdout",
     "output_type": "stream",
     "text": [
      "enc data :  (752652, 14)\n",
      "enc labels :  (188164, 14)\n",
      "dec data :  (752652, 14)\n",
      "dec labels :  (188164, 14)\n"
     ]
    }
   ],
   "source": [
    "print(\"enc data : \", enc_train.shape)\n",
    "print(\"enc labels : \", enc_val.shape)\n",
    "print(\"dec data : \", dec_train.shape)\n",
    "print(\"dec labels : \", dec_val.shape)"
   ]
  },
  {
   "cell_type": "code",
   "execution_count": 119,
   "metadata": {},
   "outputs": [
    {
     "data": {
      "text/plain": [
       "'/home/aiffel-dj54/aiffel/lyricist/data/lyrics/*'"
      ]
     },
     "execution_count": 119,
     "metadata": {},
     "output_type": "execute_result"
    }
   ],
   "source": [
    "#하이퍼파라미터 \n",
    "\n",
    "batch_size = 256\n",
    "max_epochs = 10\n",
    "\n",
    "# the save point\n",
    "checkpoint_dir = os.getenv('HOME')+'/aiffel/lyricist/data/lyrics/*'\n",
    "\n",
    "checkpoint_dir"
   ]
  },
  {
   "cell_type": "markdown",
   "metadata": {},
   "source": [
    "# step 7. 데이터 셋 만들기\n",
    "\n",
    "#### 두번째 문제: 데이터 셋 만들기 \n",
    "* numpy array 데이터셋을 만들어서 모델에 제공하는 형태는 익숙했지만 텐서플로우는 좀 헷갈렸다.\n",
    "* 어떤 함수를 사용해서 데이터를 분리하고 데이터 셋을 만들어야 하는지 알지만 어떤 순서에 써야하는지 내가 맞게 하고 있는건지 확신이 없어서 더 오래 걸렸다.\n",
    "* 처음엔 numpy array 방식으로 모델을 만들려고 새롭게 프로젝트를 작성했지만 text generator를 진행할때 데이터셋을 지정하는 부분에서 다시 막혔다.\n",
    "\n",
    "__ 해결책: 프로젝트 5 참고! tf.data.dataset을 만듬 tf.data.Dataset.from_tensor_slices, map 함수 사용함 \n",
    "\n",
    "__ 프로젝트 6에서 제시한 tf.data.dataset 만드는 형식이 좀 다르지만 더 이해하기 쉬운 방법 선택 "
   ]
  },
  {
   "cell_type": "code",
   "execution_count": 120,
   "metadata": {},
   "outputs": [
    {
     "name": "stdout",
     "output_type": "stream",
     "text": [
      "✅\n"
     ]
    }
   ],
   "source": [
    "# data setting\n",
    "def one_hot_label(src_input, tgt_input):\n",
    "    label = tf.one_hot(tgt_input, depth=12)\n",
    "    return src_input, tgt_input\n",
    "print(\"✅\")"
   ]
  },
  {
   "cell_type": "code",
   "execution_count": 121,
   "metadata": {},
   "outputs": [
    {
     "name": "stdout",
     "output_type": "stream",
     "text": [
      "<BatchDataset shapes: ((None, 14), (None, 14)), types: (tf.int32, tf.int32)>\n",
      "<BatchDataset shapes: ((None, 14), (None, 14)), types: (tf.int32, tf.int32)>\n",
      "✅\n"
     ]
    }
   ],
   "source": [
    "import tensorflow as tf\n",
    "\n",
    "# for train\n",
    "train_dataset = tf.data.Dataset.from_tensor_slices((enc_train, dec_train))\n",
    "train_dataset = train_dataset.map(one_hot_label)\n",
    "train_dataset = train_dataset.repeat().batch(batch_size=batch_size)\n",
    "print(train_dataset)\n",
    "\n",
    "# for test\n",
    "test_dataset = tf.data.Dataset.from_tensor_slices((enc_val, dec_val))\n",
    "test_dataset = test_dataset.map(one_hot_label)\n",
    "test_dataset = test_dataset.batch(batch_size=batch_size)\n",
    "print(test_dataset)\n",
    "print(\"✅\")"
   ]
  },
  {
   "cell_type": "markdown",
   "metadata": {},
   "source": [
    "# step 8. 모델 구현"
   ]
  },
  {
   "cell_type": "code",
   "execution_count": 123,
   "metadata": {},
   "outputs": [],
   "source": [
    "class TextGenerator(tf.keras.Model):\n",
    "    def __init__(self, vocab_size, embedding_size, hidden_size):\n",
    "        super(TextGenerator, self).__init__()\n",
    "        \n",
    "        self.embedding = tf.keras.layers.Embedding(vocab_size, embedding_size)\n",
    "        self.rnn_1 = tf.keras.layers.LSTM(hidden_size, return_sequences=True)\n",
    "        self.rnn_2 = tf.keras.layers.LSTM(hidden_size, return_sequences=True)\n",
    "        self.linear = tf.keras.layers.Dense(vocab_size)\n",
    "        \n",
    "    def call(self, x):\n",
    "        out = self.embedding(x)\n",
    "        out = self.rnn_1(out)\n",
    "        out = self.rnn_2(out)\n",
    "        out = self.linear(out)\n",
    "        \n",
    "        return out\n",
    "    \n",
    "embedding_size = 256 # 차원 \n",
    "hidden_size = 1034 # 모델에 얼마나 많은 일꾼을 둘지 결정\n",
    "model = TextGenerator(tokenizer.num_words + 1, embedding_size , hidden_size)"
   ]
  },
  {
   "cell_type": "code",
   "execution_count": 124,
   "metadata": {},
   "outputs": [
    {
     "data": {
      "text/plain": [
       "<tf.Tensor: shape=(256, 14, 12001), dtype=float32, numpy=\n",
       "array([[[-5.78423133e-05,  6.74076582e-05,  2.18122204e-06, ...,\n",
       "          3.02713452e-05,  1.82290620e-04,  1.04690007e-04],\n",
       "        [-9.00110099e-05,  2.88701376e-05,  1.86472462e-04, ...,\n",
       "          1.18490847e-04,  2.37519649e-04, -5.70957163e-05],\n",
       "        [-1.78647009e-04,  1.11766431e-05,  3.77038989e-04, ...,\n",
       "         -1.15140465e-04,  2.86991795e-04, -2.80097447e-04],\n",
       "        ...,\n",
       "        [-9.19712420e-06,  5.17933979e-04, -3.09934956e-04, ...,\n",
       "          2.23352708e-05,  3.18776583e-04,  1.28103129e-03],\n",
       "        [ 3.23068030e-04,  7.71530962e-04, -3.86432454e-04, ...,\n",
       "          2.45713833e-04,  4.33428097e-04,  1.66961655e-03],\n",
       "        [ 6.75959862e-04,  1.05538685e-03, -4.39028983e-04, ...,\n",
       "          4.51820000e-04,  5.63853770e-04,  2.04637088e-03]],\n",
       "\n",
       "       [[-5.78423133e-05,  6.74076582e-05,  2.18122204e-06, ...,\n",
       "          3.02713452e-05,  1.82290620e-04,  1.04690007e-04],\n",
       "        [ 4.92699437e-05,  1.63016637e-04, -4.80044837e-05, ...,\n",
       "          2.45503761e-04,  2.62627691e-05,  4.76295449e-04],\n",
       "        [ 1.57494898e-04,  2.65585171e-04, -1.94270469e-05, ...,\n",
       "          3.62733874e-04, -1.20129356e-04,  5.46440715e-04],\n",
       "        ...,\n",
       "        [ 1.03890517e-04,  6.09824259e-04,  5.04042255e-04, ...,\n",
       "          1.12854608e-03, -5.63018431e-04,  1.36795279e-03],\n",
       "        [ 4.25424078e-04,  9.16520599e-04,  3.12643184e-04, ...,\n",
       "          1.14993250e-03, -4.42294346e-04,  1.80909585e-03],\n",
       "        [ 7.74428016e-04,  1.23360939e-03,  1.55218877e-04, ...,\n",
       "          1.17636984e-03, -2.85273447e-04,  2.22800160e-03]],\n",
       "\n",
       "       [[-5.78423133e-05,  6.74076582e-05,  2.18122204e-06, ...,\n",
       "          3.02713452e-05,  1.82290620e-04,  1.04690007e-04],\n",
       "        [-3.89432302e-04,  3.46248184e-04, -1.16529363e-05, ...,\n",
       "         -2.23771349e-06,  6.68659341e-05, -5.32703161e-05],\n",
       "        [-8.52274592e-04,  7.03011407e-04, -1.08628947e-05, ...,\n",
       "         -6.24333552e-05, -1.97971734e-04, -3.74087365e-04],\n",
       "        ...,\n",
       "        [ 7.24031241e-04,  1.83375075e-03,  4.80060873e-04, ...,\n",
       "          4.16247552e-04,  4.58990726e-05,  1.24374917e-03],\n",
       "        [ 1.06639904e-03,  2.06373422e-03,  3.23126413e-04, ...,\n",
       "          5.92641358e-04,  2.44825700e-04,  1.70016487e-03],\n",
       "        [ 1.40181032e-03,  2.29159719e-03,  2.06129480e-04, ...,\n",
       "          7.56859721e-04,  4.34006797e-04,  2.12009368e-03]],\n",
       "\n",
       "       ...,\n",
       "\n",
       "       [[-5.78423133e-05,  6.74076582e-05,  2.18122204e-06, ...,\n",
       "          3.02713452e-05,  1.82290620e-04,  1.04690007e-04],\n",
       "        [-7.46875594e-05,  2.08215333e-05, -3.79962206e-04, ...,\n",
       "          1.26438434e-04,  2.54658342e-04,  3.30316514e-04],\n",
       "        [ 1.68528743e-04,  3.04213841e-04, -4.36518021e-04, ...,\n",
       "          2.98170169e-04,  3.68681271e-04,  5.16006257e-04],\n",
       "        ...,\n",
       "        [-1.83762517e-04,  6.27611807e-05, -3.35898018e-04, ...,\n",
       "          1.78206203e-04,  7.47224476e-05, -4.48502717e-04],\n",
       "        [-5.69713826e-04,  2.27543336e-04, -2.42893526e-04, ...,\n",
       "          1.17352422e-04, -3.45216504e-05, -2.18090659e-04],\n",
       "        [-7.45724363e-04,  3.78528552e-04, -1.74137953e-04, ...,\n",
       "          1.48137566e-04, -9.47312874e-05,  9.93255253e-06]],\n",
       "\n",
       "       [[-5.78423133e-05,  6.74076582e-05,  2.18122204e-06, ...,\n",
       "          3.02713452e-05,  1.82290620e-04,  1.04690007e-04],\n",
       "        [ 4.32306479e-05,  9.26916910e-05, -2.37364540e-04, ...,\n",
       "          2.71343742e-05,  2.22068615e-04,  3.90691537e-04],\n",
       "        [ 1.97880305e-04,  9.73016067e-05, -5.73894999e-04, ...,\n",
       "         -7.18676574e-06,  2.18207439e-04,  7.54547538e-04],\n",
       "        ...,\n",
       "        [ 1.42724451e-03,  2.24242220e-03, -1.83507291e-04, ...,\n",
       "          7.11975095e-04,  9.04599903e-04,  3.09889251e-03],\n",
       "        [ 1.73708226e-03,  2.48646922e-03, -1.45741244e-04, ...,\n",
       "          8.37531115e-04,  1.00052496e-03,  3.31202662e-03],\n",
       "        [ 2.02842918e-03,  2.70585739e-03, -9.53518174e-05, ...,\n",
       "          9.52302595e-04,  1.08653354e-03,  3.50238523e-03]],\n",
       "\n",
       "       [[-5.78423133e-05,  6.74076582e-05,  2.18122204e-06, ...,\n",
       "          3.02713452e-05,  1.82290620e-04,  1.04690007e-04],\n",
       "        [-3.89432302e-04,  3.46248184e-04, -1.16529363e-05, ...,\n",
       "         -2.23771349e-06,  6.68659341e-05, -5.32703161e-05],\n",
       "        [-3.83222708e-04,  6.70656562e-04, -1.98607275e-04, ...,\n",
       "         -9.81768389e-05,  2.78285552e-05, -3.24850000e-04],\n",
       "        ...,\n",
       "        [ 1.82868273e-04,  1.20811316e-03,  5.25319367e-04, ...,\n",
       "         -2.95639620e-04, -9.48954621e-05,  6.91386114e-04],\n",
       "        [ 3.75619304e-04,  1.37443130e-03,  3.40502273e-04, ...,\n",
       "         -8.92242242e-05,  5.32381709e-05,  1.06227712e-03],\n",
       "        [ 6.30146184e-04,  1.56760518e-03,  1.68784289e-04, ...,\n",
       "          1.24115337e-04,  2.14858592e-04,  1.45125424e-03]]],\n",
       "      dtype=float32)>"
      ]
     },
     "execution_count": 124,
     "metadata": {},
     "output_type": "execute_result"
    }
   ],
   "source": [
    "#모델을 태워서 input shape결정\n",
    "#12001개의 단어 중 어느 단어의 확률이 가장 높은지 모델링해야한다. \n",
    "#1개의 배치당 256개의 문장 데이터 가져옴\n",
    "\n",
    "for src_sample, tgt_sample in train_dataset.take(1): break\n",
    "model(src_sample)"
   ]
  },
  {
   "cell_type": "code",
   "execution_count": 125,
   "metadata": {},
   "outputs": [
    {
     "name": "stdout",
     "output_type": "stream",
     "text": [
      "Model: \"text_generator_5\"\n",
      "_________________________________________________________________\n",
      "Layer (type)                 Output Shape              Param #   \n",
      "=================================================================\n",
      "embedding_5 (Embedding)      multiple                  3072256   \n",
      "_________________________________________________________________\n",
      "lstm_10 (LSTM)               multiple                  5339576   \n",
      "_________________________________________________________________\n",
      "lstm_11 (LSTM)               multiple                  8557384   \n",
      "_________________________________________________________________\n",
      "dense_5 (Dense)              multiple                  12421035  \n",
      "=================================================================\n",
      "Total params: 29,390,251\n",
      "Trainable params: 29,390,251\n",
      "Non-trainable params: 0\n",
      "_________________________________________________________________\n"
     ]
    }
   ],
   "source": [
    "model.summary()"
   ]
  },
  {
   "cell_type": "markdown",
   "metadata": {},
   "source": [
    "# 모델 학습"
   ]
  },
  {
   "cell_type": "code",
   "execution_count": 126,
   "metadata": {},
   "outputs": [
    {
     "name": "stdout",
     "output_type": "stream",
     "text": [
      "✅\n"
     ]
    }
   ],
   "source": [
    "optimizer=tf.keras.optimizers.Adam()\n",
    "loss = tf.keras.losses.SparseCategoricalCrossentropy(\n",
    "    from_logits=True, reduction='none')\n",
    "\n",
    "model.compile(loss=loss,\n",
    "              optimizer=optimizer,\n",
    "              metrics=['accuracy'])\n",
    "print(\"✅\")"
   ]
  },
  {
   "cell_type": "markdown",
   "metadata": {},
   "source": [
    "#### Call back 함수\n",
    "* model. fit 함수 사용할때, callback 함수 이용해서 중간에 원하는 동작하도록 설정할 수 있다.\n",
    "* 모델을 재사용하기 위해서 모델 가중치를 저장하는 함수다. "
   ]
  },
  {
   "cell_type": "code",
   "execution_count": 127,
   "metadata": {},
   "outputs": [
    {
     "name": "stdout",
     "output_type": "stream",
     "text": [
      "✅\n"
     ]
    }
   ],
   "source": [
    "#val_loss를 모니터하고 loss가 낮아지면 모델 파라미터를 자동 저장\n",
    "cp_callback = tf.keras.callbacks.ModelCheckpoint(checkpoint_dir,\n",
    "                                                 save_weights_only=True,\n",
    "                                                 monitor='val_loss',\n",
    "                                                 mode='auto',\n",
    "                                                 save_best_only=True,\n",
    "                                                 verbose=1)\n",
    "print(\"✅\")"
   ]
  },
  {
   "cell_type": "code",
   "execution_count": 128,
   "metadata": {},
   "outputs": [
    {
     "name": "stdout",
     "output_type": "stream",
     "text": [
      "Epoch 1/10\n",
      "2940/2940 [==============================] - ETA: 0s - loss: 2.1097 - accuracy: 0.6635\n",
      "Epoch 00001: val_loss improved from inf to 1.85044, saving model to /home/aiffel-dj54/aiffel/lyricist/data/lyrics/*\n",
      "2940/2940 [==============================] - 519s 176ms/step - loss: 2.1097 - accuracy: 0.6635 - val_loss: 1.8504 - val_accuracy: 0.6868\n",
      "Epoch 2/10\n",
      "2940/2940 [==============================] - ETA: 0s - loss: 1.7190 - accuracy: 0.6998\n",
      "Epoch 00002: val_loss improved from 1.85044 to 1.61856, saving model to /home/aiffel-dj54/aiffel/lyricist/data/lyrics/*\n",
      "2940/2940 [==============================] - 480s 163ms/step - loss: 1.7190 - accuracy: 0.6998 - val_loss: 1.6186 - val_accuracy: 0.7125\n",
      "Epoch 3/10\n",
      "2940/2940 [==============================] - ETA: 0s - loss: 1.5044 - accuracy: 0.7264\n",
      "Epoch 00003: val_loss improved from 1.61856 to 1.45569, saving model to /home/aiffel-dj54/aiffel/lyricist/data/lyrics/*\n",
      "2940/2940 [==============================] - 506s 172ms/step - loss: 1.5044 - accuracy: 0.7264 - val_loss: 1.4557 - val_accuracy: 0.7363\n",
      "Epoch 4/10\n",
      "2940/2940 [==============================] - ETA: 0s - loss: 1.3404 - accuracy: 0.7511\n",
      "Epoch 00004: val_loss improved from 1.45569 to 1.33798, saving model to /home/aiffel-dj54/aiffel/lyricist/data/lyrics/*\n",
      "2940/2940 [==============================] - 531s 180ms/step - loss: 1.3404 - accuracy: 0.7511 - val_loss: 1.3380 - val_accuracy: 0.7568\n",
      "Epoch 5/10\n",
      "2940/2940 [==============================] - ETA: 0s - loss: 1.2148 - accuracy: 0.7724\n",
      "Epoch 00005: val_loss improved from 1.33798 to 1.25484, saving model to /home/aiffel-dj54/aiffel/lyricist/data/lyrics/*\n",
      "2940/2940 [==============================] - 495s 168ms/step - loss: 1.2148 - accuracy: 0.7724 - val_loss: 1.2548 - val_accuracy: 0.7724\n",
      "Epoch 6/10\n",
      "2940/2940 [==============================] - ETA: 0s - loss: 1.1198 - accuracy: 0.7893\n",
      "Epoch 00006: val_loss improved from 1.25484 to 1.19582, saving model to /home/aiffel-dj54/aiffel/lyricist/data/lyrics/*\n",
      "2940/2940 [==============================] - 480s 163ms/step - loss: 1.1198 - accuracy: 0.7893 - val_loss: 1.1958 - val_accuracy: 0.7841\n",
      "Epoch 7/10\n",
      "2940/2940 [==============================] - ETA: 0s - loss: 1.0478 - accuracy: 0.8023\n",
      "Epoch 00007: val_loss improved from 1.19582 to 1.15483, saving model to /home/aiffel-dj54/aiffel/lyricist/data/lyrics/*\n",
      "2940/2940 [==============================] - 504s 172ms/step - loss: 1.0478 - accuracy: 0.8023 - val_loss: 1.1548 - val_accuracy: 0.7927\n",
      "Epoch 8/10\n",
      "2940/2940 [==============================] - ETA: 0s - loss: 0.9928 - accuracy: 0.8120\n",
      "Epoch 00008: val_loss improved from 1.15483 to 1.12706, saving model to /home/aiffel-dj54/aiffel/lyricist/data/lyrics/*\n",
      "2940/2940 [==============================] - 462s 157ms/step - loss: 0.9928 - accuracy: 0.8120 - val_loss: 1.1271 - val_accuracy: 0.7987\n",
      "Epoch 9/10\n",
      "2940/2940 [==============================] - ETA: 0s - loss: 0.9504 - accuracy: 0.8194\n",
      "Epoch 00009: val_loss improved from 1.12706 to 1.11039, saving model to /home/aiffel-dj54/aiffel/lyricist/data/lyrics/*\n",
      "2940/2940 [==============================] - 478s 162ms/step - loss: 0.9504 - accuracy: 0.8194 - val_loss: 1.1104 - val_accuracy: 0.8030\n",
      "Epoch 10/10\n",
      "2940/2940 [==============================] - ETA: 0s - loss: 0.9172 - accuracy: 0.8251\n",
      "Epoch 00010: val_loss improved from 1.11039 to 1.09761, saving model to /home/aiffel-dj54/aiffel/lyricist/data/lyrics/*\n",
      "2940/2940 [==============================] - 458s 156ms/step - loss: 0.9172 - accuracy: 0.8251 - val_loss: 1.0976 - val_accuracy: 0.8062\n",
      "✅\n"
     ]
    }
   ],
   "source": [
    "# 모델 학습코드\n",
    "\n",
    "history= model.fit(train_dataset, epochs=max_epochs,\n",
    "                    steps_per_epoch=len(enc_train) // batch_size,\n",
    "                    validation_data=test_dataset,\n",
    "                    validation_steps=len(enc_val) // batch_size,\n",
    "                    callbacks=[cp_callback]\n",
    "                    )\n",
    "print(\"✅\")"
   ]
  },
  {
   "cell_type": "markdown",
   "metadata": {},
   "source": [
    "# step 9. 학습결과 plot"
   ]
  },
  {
   "cell_type": "code",
   "execution_count": 130,
   "metadata": {},
   "outputs": [
    {
     "data": {
      "image/png": "[encoded data removed]",
      "text/plain": [
       "<Figure size 576x576 with 2 Axes>"
      ]
     },
     "metadata": {
      "needs_background": "light"
     },
     "output_type": "display_data"
    },
    {
     "name": "stdout",
     "output_type": "stream",
     "text": [
      "✅\n"
     ]
    }
   ],
   "source": [
    "import matplotlib.pyplot as plt\n",
    "\n",
    "acc = history.history['accuracy']\n",
    "val_acc = history.history['val_accuracy']\n",
    "\n",
    "loss=history.history['loss']\n",
    "val_loss=history.history['val_loss']\n",
    "\n",
    "epochs_range = range(len(acc))\n",
    "\n",
    "plt.figure(figsize=(8, 8))\n",
    "plt.subplot(1, 2, 1)\n",
    "plt.plot(epochs_range, acc, label='Training Accuracy')\n",
    "plt.plot(epochs_range, val_acc, label='Validation Accuracy')\n",
    "plt.legend(loc='lower right')\n",
    "plt.title('Training and Validation Accuracy')\n",
    "\n",
    "plt.subplot(1, 2, 2)\n",
    "plt.plot(epochs_range, loss, label='Training Loss')\n",
    "plt.plot(epochs_range, val_loss, label='Validation Loss')\n",
    "plt.legend(loc='upper right')\n",
    "plt.title('Training and Validation Loss')\n",
    "plt.show()\n",
    "print(\"✅\")"
   ]
  },
  {
   "cell_type": "markdown",
   "metadata": {},
   "source": [
    "# step 10. 모델 평가"
   ]
  },
  {
   "cell_type": "code",
   "execution_count": 131,
   "metadata": {},
   "outputs": [],
   "source": [
    "# 이후에 generate text 다시 한다. max_len 원하는 길이로 조절\n",
    "\n",
    "def generate_text(model, tokenizer, init_sentence=\"<start>\", max_len=20):\n",
    "    # 테스트를 위해서 입력받은 init_sentence도 일단 텐서로 변환합니다.\n",
    "    test_input = tokenizer.texts_to_sequences([init_sentence])\n",
    "    test_tensor = tf.convert_to_tensor(test_input, dtype=tf.int64)\n",
    "    end_token = tokenizer.word_index[\"<end>\"]\n",
    "\n",
    "    # 텍스트를 실제로 생성할때는 루프를 돌면서 단어 하나씩 생성해야 합니다. \n",
    "    while True:\n",
    "        predict = model(test_tensor)  # 입력받은 문장의 텐서를 입력합니다. \n",
    "        predict_word = tf.argmax(tf.nn.softmax(predict, axis=-1), axis=-1)[:, -1]   # 우리 모델이 예측한 마지막 단어가 바로 새롭게 생성한 단어가 됩니다. \n",
    "\n",
    "        # 우리 모델이 새롭게 예측한 단어를 입력 문장의 뒤에 붙여 줍니다. \n",
    "        test_tensor = tf.concat([test_tensor,tf.expand_dims(predict_word, axis=0)], axis=-1)\n",
    "\n",
    "        # 우리 모델이 <end>를 예측했거나, max_len에 도달하지 않았다면  while 루프를 또 돌면서 다음 단어를 예측해야 합니다.\n",
    "        if predict_word.numpy()[0] == end_token: break\n",
    "        if test_tensor.shape[1] >= max_len: break\n",
    "\n",
    "    generated = \"\"\n",
    "    # 생성된 tensor 안에 있는 word index를 tokenizer.index_word 사전을 통해 실제 단어로 하나씩 변환합니다. \n",
    "    for word_index in test_tensor[0].numpy():\n",
    "        generated += tokenizer.index_word[word_index] + \" \"\n",
    "\n",
    "    return generated   # 이것이 최종적으로 모델이 생성한 자연어 문장입니다."
   ]
  },
  {
   "cell_type": "code",
   "execution_count": 132,
   "metadata": {},
   "outputs": [
    {
     "data": {
      "text/plain": [
       "'<start> he s got a gold watch <end> '"
      ]
     },
     "execution_count": 132,
     "metadata": {},
     "output_type": "execute_result"
    }
   ],
   "source": [
    "generate_text(model, tokenizer, init_sentence=\"<start> he\")"
   ]
  },
  {
   "cell_type": "markdown",
   "metadata": {},
   "source": [
    "# 회고"
   ]
  },
  {
   "cell_type": "markdown",
   "metadata": {},
   "source": [
    "1. 초반에 토큰 길이를 정하는 부분에서 토큰화 다음에 해야하는지 앞에 해야하는지 혼란스러웠다.\n",
    "2. 어떤 함수를 사용해야하는지 알아도 어떤 순서에 해야할지 몰라서 시간낭비를 많이 했다...\n",
    "3. 크게 2가지 문제가 있었다. 토큰 최대 길이 지정과 데이터셋 만들기 - 여러 노드와 프로젝트를 참고하면서 문제를 해결했다.\n",
    "이 과정에서 데이터셋과 모델 만드는 두가지 방법을 익힐 수 있었다.\n",
    "4. 인공지능 모델을 만들어도 노드와 프로젝트마다 방법이 달라서 아직은 머리에 정리가 안되고 혼란스럽지만,\n",
    "이번 프로젝트 이후에 다시 복습하면서 정리할 필요를 느꼈다."
   ]
  }
 ],
 "metadata": {
  "kernelspec": {
   "display_name": "aiffel",
   "language": "python",
   "name": "aiffel"
  }
 },
 "nbformat": 4,
 "nbformat_minor": 4
}
