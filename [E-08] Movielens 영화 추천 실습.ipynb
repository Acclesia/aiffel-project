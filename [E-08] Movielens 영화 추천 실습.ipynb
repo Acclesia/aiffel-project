{
 "cells": [
  {
   "cell_type": "markdown",
   "metadata": {},
   "source": [
    "# [E-08] Movielens 영화 추천 실습"
   ]
  },
  {
   "cell_type": "markdown",
   "metadata": {},
   "source": [
    "## 목차\n",
    "1. 데이터 준비와 전처리\n",
    "2. 데이터 탐색\n",
    "3. CSR Matrix\n",
    "4. MF 모델 학습\n",
    "5. 비슷한 영화 찾기\n",
    "6. 내가 좋아할만한 영화 추천"
   ]
  },
  {
   "cell_type": "markdown",
   "metadata": {},
   "source": [
    "# 루브릭 평가기준\n",
    "1. CSR matrix가 정상적으로 만들어졌다. 사용자와 아이템 개수를 바탕으로 정확한 사이즈로 만들었다.\n",
    "\n",
    "\n",
    "* 첫번째: 6039*3631 - 메트릭스 크기가 안맞아서 오류\n",
    "* 두번째: 6041*3958 -\n",
    "\n",
    "\n",
    "2. MF 모델이 정상적으로 훈련되어 그럴듯한 추천이 이루어졌다. 사용자와 아이템 벡터 내적수치가 의미있게 형성되었다.\n",
    "\n",
    "\n",
    "* 수치 계산은 됐으나 높진않다. factors, iterations 를 몇번 변경해도 0.01을 넘지 않았다 (0.014919596)\n",
    "* 원인은 선호하는 영화 5가지가 개연성이 없어서 그런것으로 판단하고 액션 영화 위주로 변경했지만 딱히 유사성이 높은 영화는 아닌가보다...(0.2888981)\n",
    "\n",
    "\n",
    "3. 비슷한 영화 찾기와 유저에게 추천하기의 과정이 정상적으로 진행되었다. MF모델이 예측한 유저 선호도 및 아이템간 유사도, 기여도가 의미있게 측정되었다.\n",
    "\n",
    "\n",
    " 비슷한 영화와 내가 좋아할 만한 영화는 꽤 근접하게 추천하는거 같다. \n",
    "\n",
    "* terminator와 비슷한 영화:  'killer','woman in the dunes'\n",
    "* men in black 선호 유저가 좋아할만한 영화: \n",
    "star wars: episode vi - return of the jedi','alien'\n"
   ]
  },
  {
   "cell_type": "markdown",
   "metadata": {},
   "source": [
    "# 1) 데이터 준비와 전처리"
   ]
  },
  {
   "cell_type": "code",
   "execution_count": 1,
   "metadata": {},
   "outputs": [
    {
     "data": {
      "text/html": [
       "<div>\n",
       "<style scoped>\n",
       "    .dataframe tbody tr th:only-of-type {\n",
       "        vertical-align: middle;\n",
       "    }\n",
       "\n",
       "    .dataframe tbody tr th {\n",
       "        vertical-align: top;\n",
       "    }\n",
       "\n",
       "    .dataframe thead th {\n",
       "        text-align: right;\n",
       "    }\n",
       "</style>\n",
       "<table border=\"1\" class=\"dataframe\">\n",
       "  <thead>\n",
       "    <tr style=\"text-align: right;\">\n",
       "      <th></th>\n",
       "      <th>user_id</th>\n",
       "      <th>movie_id</th>\n",
       "      <th>rating</th>\n",
       "      <th>timestamp</th>\n",
       "    </tr>\n",
       "  </thead>\n",
       "  <tbody>\n",
       "    <tr>\n",
       "      <th>0</th>\n",
       "      <td>1</td>\n",
       "      <td>1193</td>\n",
       "      <td>5</td>\n",
       "      <td>978300760</td>\n",
       "    </tr>\n",
       "    <tr>\n",
       "      <th>1</th>\n",
       "      <td>1</td>\n",
       "      <td>661</td>\n",
       "      <td>3</td>\n",
       "      <td>978302109</td>\n",
       "    </tr>\n",
       "    <tr>\n",
       "      <th>2</th>\n",
       "      <td>1</td>\n",
       "      <td>914</td>\n",
       "      <td>3</td>\n",
       "      <td>978301968</td>\n",
       "    </tr>\n",
       "    <tr>\n",
       "      <th>3</th>\n",
       "      <td>1</td>\n",
       "      <td>3408</td>\n",
       "      <td>4</td>\n",
       "      <td>978300275</td>\n",
       "    </tr>\n",
       "    <tr>\n",
       "      <th>4</th>\n",
       "      <td>1</td>\n",
       "      <td>2355</td>\n",
       "      <td>5</td>\n",
       "      <td>978824291</td>\n",
       "    </tr>\n",
       "  </tbody>\n",
       "</table>\n",
       "</div>"
      ],
      "text/plain": [
       "   user_id  movie_id  rating  timestamp\n",
       "0        1      1193       5  978300760\n",
       "1        1       661       3  978302109\n",
       "2        1       914       3  978301968\n",
       "3        1      3408       4  978300275\n",
       "4        1      2355       5  978824291"
      ]
     },
     "execution_count": 1,
     "metadata": {},
     "output_type": "execute_result"
    }
   ],
   "source": [
    "import pandas as pd\n",
    "import os\n",
    "rating_file_path=os.getenv('HOME') + '/aiffel/aiffel_exp_data/recommendata_iu/data/ml-1m/ratings.dat'\n",
    "ratings_cols = ['user_id', 'movie_id', 'rating', 'timestamp']\n",
    "ratings = pd.read_csv(rating_file_path, sep='::', names=ratings_cols, engine='python')\n",
    "orginal_data_size = len(ratings)\n",
    "ratings.head()"
   ]
  },
  {
   "cell_type": "code",
   "execution_count": 2,
   "metadata": {},
   "outputs": [
    {
     "name": "stdout",
     "output_type": "stream",
     "text": [
      "orginal_data_size: 1000209, filtered_data_size: 836478\n",
      "Ratio of Remaining Data is 83.63%\n"
     ]
    }
   ],
   "source": [
    "# 3점 이상만 남깁니다.\n",
    "ratings = ratings[ratings['rating']>=3]\n",
    "filtered_data_size = len(ratings)\n",
    "\n",
    "print(f'orginal_data_size: {orginal_data_size}, filtered_data_size: {filtered_data_size}')\n",
    "print(f'Ratio of Remaining Data is {filtered_data_size / orginal_data_size:.2%}')"
   ]
  },
  {
   "cell_type": "code",
   "execution_count": 3,
   "metadata": {},
   "outputs": [
    {
     "data": {
      "text/plain": [
       "0          5\n",
       "1          3\n",
       "2          3\n",
       "3          4\n",
       "4          5\n",
       "          ..\n",
       "1000203    3\n",
       "1000205    5\n",
       "1000206    5\n",
       "1000207    4\n",
       "1000208    4\n",
       "Name: view_count, Length: 836478, dtype: int64"
      ]
     },
     "execution_count": 3,
     "metadata": {},
     "output_type": "execute_result"
    }
   ],
   "source": [
    "# rating 컬럼의 이름을 count로 바꿉니다.\n",
    "ratings.rename(columns={'rating':'view_count'}, inplace=True)\n",
    "ratings['view_count']"
   ]
  },
  {
   "cell_type": "code",
   "execution_count": 4,
   "metadata": {},
   "outputs": [
    {
     "data": {
      "text/html": [
       "<div>\n",
       "<style scoped>\n",
       "    .dataframe tbody tr th:only-of-type {\n",
       "        vertical-align: middle;\n",
       "    }\n",
       "\n",
       "    .dataframe tbody tr th {\n",
       "        vertical-align: top;\n",
       "    }\n",
       "\n",
       "    .dataframe thead th {\n",
       "        text-align: right;\n",
       "    }\n",
       "</style>\n",
       "<table border=\"1\" class=\"dataframe\">\n",
       "  <thead>\n",
       "    <tr style=\"text-align: right;\">\n",
       "      <th></th>\n",
       "      <th>user_id</th>\n",
       "      <th>movie_id</th>\n",
       "      <th>view_count</th>\n",
       "    </tr>\n",
       "  </thead>\n",
       "  <tbody>\n",
       "    <tr>\n",
       "      <th>0</th>\n",
       "      <td>1</td>\n",
       "      <td>1193</td>\n",
       "      <td>5</td>\n",
       "    </tr>\n",
       "    <tr>\n",
       "      <th>1</th>\n",
       "      <td>1</td>\n",
       "      <td>661</td>\n",
       "      <td>3</td>\n",
       "    </tr>\n",
       "    <tr>\n",
       "      <th>2</th>\n",
       "      <td>1</td>\n",
       "      <td>914</td>\n",
       "      <td>3</td>\n",
       "    </tr>\n",
       "    <tr>\n",
       "      <th>3</th>\n",
       "      <td>1</td>\n",
       "      <td>3408</td>\n",
       "      <td>4</td>\n",
       "    </tr>\n",
       "    <tr>\n",
       "      <th>4</th>\n",
       "      <td>1</td>\n",
       "      <td>2355</td>\n",
       "      <td>5</td>\n",
       "    </tr>\n",
       "    <tr>\n",
       "      <th>5</th>\n",
       "      <td>1</td>\n",
       "      <td>1197</td>\n",
       "      <td>3</td>\n",
       "    </tr>\n",
       "    <tr>\n",
       "      <th>6</th>\n",
       "      <td>1</td>\n",
       "      <td>1287</td>\n",
       "      <td>5</td>\n",
       "    </tr>\n",
       "    <tr>\n",
       "      <th>7</th>\n",
       "      <td>1</td>\n",
       "      <td>2804</td>\n",
       "      <td>5</td>\n",
       "    </tr>\n",
       "    <tr>\n",
       "      <th>8</th>\n",
       "      <td>1</td>\n",
       "      <td>594</td>\n",
       "      <td>4</td>\n",
       "    </tr>\n",
       "    <tr>\n",
       "      <th>9</th>\n",
       "      <td>1</td>\n",
       "      <td>919</td>\n",
       "      <td>4</td>\n",
       "    </tr>\n",
       "  </tbody>\n",
       "</table>\n",
       "</div>"
      ],
      "text/plain": [
       "   user_id  movie_id  view_count\n",
       "0        1      1193           5\n",
       "1        1       661           3\n",
       "2        1       914           3\n",
       "3        1      3408           4\n",
       "4        1      2355           5\n",
       "5        1      1197           3\n",
       "6        1      1287           5\n",
       "7        1      2804           5\n",
       "8        1       594           4\n",
       "9        1       919           4"
      ]
     },
     "execution_count": 4,
     "metadata": {},
     "output_type": "execute_result"
    }
   ],
   "source": [
    "#timestemp는 필요없는 칼럼이라 삭제 \n",
    "ratings_cols = ['user_id', 'movie_id','view_count']\n",
    "ratings = ratings[ratings_cols]\n",
    "ratings.head(10)"
   ]
  },
  {
   "cell_type": "code",
   "execution_count": 5,
   "metadata": {},
   "outputs": [
    {
     "data": {
      "text/html": [
       "<div>\n",
       "<style scoped>\n",
       "    .dataframe tbody tr th:only-of-type {\n",
       "        vertical-align: middle;\n",
       "    }\n",
       "\n",
       "    .dataframe tbody tr th {\n",
       "        vertical-align: top;\n",
       "    }\n",
       "\n",
       "    .dataframe thead th {\n",
       "        text-align: right;\n",
       "    }\n",
       "</style>\n",
       "<table border=\"1\" class=\"dataframe\">\n",
       "  <thead>\n",
       "    <tr style=\"text-align: right;\">\n",
       "      <th></th>\n",
       "      <th>user_id</th>\n",
       "      <th>movie_id</th>\n",
       "      <th>view_count</th>\n",
       "    </tr>\n",
       "  </thead>\n",
       "  <tbody>\n",
       "    <tr>\n",
       "      <th>0</th>\n",
       "      <td>1</td>\n",
       "      <td>1193</td>\n",
       "      <td>5</td>\n",
       "    </tr>\n",
       "    <tr>\n",
       "      <th>1</th>\n",
       "      <td>1</td>\n",
       "      <td>661</td>\n",
       "      <td>3</td>\n",
       "    </tr>\n",
       "    <tr>\n",
       "      <th>2</th>\n",
       "      <td>1</td>\n",
       "      <td>914</td>\n",
       "      <td>3</td>\n",
       "    </tr>\n",
       "    <tr>\n",
       "      <th>3</th>\n",
       "      <td>1</td>\n",
       "      <td>3408</td>\n",
       "      <td>4</td>\n",
       "    </tr>\n",
       "    <tr>\n",
       "      <th>4</th>\n",
       "      <td>1</td>\n",
       "      <td>2355</td>\n",
       "      <td>5</td>\n",
       "    </tr>\n",
       "  </tbody>\n",
       "</table>\n",
       "</div>"
      ],
      "text/plain": [
       "   user_id  movie_id  view_count\n",
       "0        1      1193           5\n",
       "1        1       661           3\n",
       "2        1       914           3\n",
       "3        1      3408           4\n",
       "4        1      2355           5"
      ]
     },
     "execution_count": 5,
     "metadata": {},
     "output_type": "execute_result"
    }
   ],
   "source": [
    "ratings.head(5)"
   ]
  },
  {
   "cell_type": "code",
   "execution_count": 6,
   "metadata": {},
   "outputs": [
    {
     "data": {
      "text/html": [
       "<div>\n",
       "<style scoped>\n",
       "    .dataframe tbody tr th:only-of-type {\n",
       "        vertical-align: middle;\n",
       "    }\n",
       "\n",
       "    .dataframe tbody tr th {\n",
       "        vertical-align: top;\n",
       "    }\n",
       "\n",
       "    .dataframe thead th {\n",
       "        text-align: right;\n",
       "    }\n",
       "</style>\n",
       "<table border=\"1\" class=\"dataframe\">\n",
       "  <thead>\n",
       "    <tr style=\"text-align: right;\">\n",
       "      <th></th>\n",
       "      <th>movie_id</th>\n",
       "      <th>title</th>\n",
       "      <th>genre</th>\n",
       "    </tr>\n",
       "  </thead>\n",
       "  <tbody>\n",
       "    <tr>\n",
       "      <th>0</th>\n",
       "      <td>1</td>\n",
       "      <td>Toy Story (1995)</td>\n",
       "      <td>Animation|Children's|Comedy</td>\n",
       "    </tr>\n",
       "    <tr>\n",
       "      <th>1</th>\n",
       "      <td>2</td>\n",
       "      <td>Jumanji (1995)</td>\n",
       "      <td>Adventure|Children's|Fantasy</td>\n",
       "    </tr>\n",
       "    <tr>\n",
       "      <th>2</th>\n",
       "      <td>3</td>\n",
       "      <td>Grumpier Old Men (1995)</td>\n",
       "      <td>Comedy|Romance</td>\n",
       "    </tr>\n",
       "    <tr>\n",
       "      <th>3</th>\n",
       "      <td>4</td>\n",
       "      <td>Waiting to Exhale (1995)</td>\n",
       "      <td>Comedy|Drama</td>\n",
       "    </tr>\n",
       "    <tr>\n",
       "      <th>4</th>\n",
       "      <td>5</td>\n",
       "      <td>Father of the Bride Part II (1995)</td>\n",
       "      <td>Comedy</td>\n",
       "    </tr>\n",
       "  </tbody>\n",
       "</table>\n",
       "</div>"
      ],
      "text/plain": [
       "   movie_id                               title                         genre\n",
       "0         1                    Toy Story (1995)   Animation|Children's|Comedy\n",
       "1         2                      Jumanji (1995)  Adventure|Children's|Fantasy\n",
       "2         3             Grumpier Old Men (1995)                Comedy|Romance\n",
       "3         4            Waiting to Exhale (1995)                  Comedy|Drama\n",
       "4         5  Father of the Bride Part II (1995)                        Comedy"
      ]
     },
     "execution_count": 6,
     "metadata": {},
     "output_type": "execute_result"
    }
   ],
   "source": [
    "# 영화 제목을 보기 위해 메타 데이터를 읽어옵니다.\n",
    "movie_file_path=os.getenv('HOME') + '/aiffel/aiffel_exp_data/recommendata_iu/data/ml-1m/movies.dat'\n",
    "cols = ['movie_id', 'title', 'genre'] \n",
    "movies = pd.read_csv(movie_file_path, sep='::', names=cols, engine='python')\n",
    "movies.head()"
   ]
  },
  {
   "cell_type": "code",
   "execution_count": 7,
   "metadata": {},
   "outputs": [
    {
     "data": {
      "text/html": [
       "<div>\n",
       "<style scoped>\n",
       "    .dataframe tbody tr th:only-of-type {\n",
       "        vertical-align: middle;\n",
       "    }\n",
       "\n",
       "    .dataframe tbody tr th {\n",
       "        vertical-align: top;\n",
       "    }\n",
       "\n",
       "    .dataframe thead th {\n",
       "        text-align: right;\n",
       "    }\n",
       "</style>\n",
       "<table border=\"1\" class=\"dataframe\">\n",
       "  <thead>\n",
       "    <tr style=\"text-align: right;\">\n",
       "      <th></th>\n",
       "      <th>movie_id</th>\n",
       "      <th>title</th>\n",
       "    </tr>\n",
       "  </thead>\n",
       "  <tbody>\n",
       "    <tr>\n",
       "      <th>0</th>\n",
       "      <td>1</td>\n",
       "      <td>Toy Story (1995)</td>\n",
       "    </tr>\n",
       "    <tr>\n",
       "      <th>1</th>\n",
       "      <td>2</td>\n",
       "      <td>Jumanji (1995)</td>\n",
       "    </tr>\n",
       "    <tr>\n",
       "      <th>2</th>\n",
       "      <td>3</td>\n",
       "      <td>Grumpier Old Men (1995)</td>\n",
       "    </tr>\n",
       "    <tr>\n",
       "      <th>3</th>\n",
       "      <td>4</td>\n",
       "      <td>Waiting to Exhale (1995)</td>\n",
       "    </tr>\n",
       "    <tr>\n",
       "      <th>4</th>\n",
       "      <td>5</td>\n",
       "      <td>Father of the Bride Part II (1995)</td>\n",
       "    </tr>\n",
       "    <tr>\n",
       "      <th>5</th>\n",
       "      <td>6</td>\n",
       "      <td>Heat (1995)</td>\n",
       "    </tr>\n",
       "    <tr>\n",
       "      <th>6</th>\n",
       "      <td>7</td>\n",
       "      <td>Sabrina (1995)</td>\n",
       "    </tr>\n",
       "    <tr>\n",
       "      <th>7</th>\n",
       "      <td>8</td>\n",
       "      <td>Tom and Huck (1995)</td>\n",
       "    </tr>\n",
       "    <tr>\n",
       "      <th>8</th>\n",
       "      <td>9</td>\n",
       "      <td>Sudden Death (1995)</td>\n",
       "    </tr>\n",
       "    <tr>\n",
       "      <th>9</th>\n",
       "      <td>10</td>\n",
       "      <td>GoldenEye (1995)</td>\n",
       "    </tr>\n",
       "  </tbody>\n",
       "</table>\n",
       "</div>"
      ],
      "text/plain": [
       "   movie_id                               title\n",
       "0         1                    Toy Story (1995)\n",
       "1         2                      Jumanji (1995)\n",
       "2         3             Grumpier Old Men (1995)\n",
       "3         4            Waiting to Exhale (1995)\n",
       "4         5  Father of the Bride Part II (1995)\n",
       "5         6                         Heat (1995)\n",
       "6         7                      Sabrina (1995)\n",
       "7         8                 Tom and Huck (1995)\n",
       "8         9                 Sudden Death (1995)\n",
       "9        10                    GoldenEye (1995)"
      ]
     },
     "execution_count": 7,
     "metadata": {},
     "output_type": "execute_result"
    }
   ],
   "source": [
    "# # 사용하는 컬럼만 남겨줍니다. 장르는 필요가 없는거 같음\n",
    "cols = ['movie_id', 'title'] \n",
    "movies = movies[cols]\n",
    "movies.head(10)"
   ]
  },
  {
   "cell_type": "code",
   "execution_count": 8,
   "metadata": {},
   "outputs": [
    {
     "data": {
      "text/html": [
       "<div>\n",
       "<style scoped>\n",
       "    .dataframe tbody tr th:only-of-type {\n",
       "        vertical-align: middle;\n",
       "    }\n",
       "\n",
       "    .dataframe tbody tr th {\n",
       "        vertical-align: top;\n",
       "    }\n",
       "\n",
       "    .dataframe thead th {\n",
       "        text-align: right;\n",
       "    }\n",
       "</style>\n",
       "<table border=\"1\" class=\"dataframe\">\n",
       "  <thead>\n",
       "    <tr style=\"text-align: right;\">\n",
       "      <th></th>\n",
       "      <th>movie_id</th>\n",
       "      <th>title</th>\n",
       "    </tr>\n",
       "  </thead>\n",
       "  <tbody>\n",
       "    <tr>\n",
       "      <th>0</th>\n",
       "      <td>1</td>\n",
       "      <td>toy story (1995)</td>\n",
       "    </tr>\n",
       "    <tr>\n",
       "      <th>1</th>\n",
       "      <td>2</td>\n",
       "      <td>jumanji (1995)</td>\n",
       "    </tr>\n",
       "    <tr>\n",
       "      <th>2</th>\n",
       "      <td>3</td>\n",
       "      <td>grumpier old men (1995)</td>\n",
       "    </tr>\n",
       "    <tr>\n",
       "      <th>3</th>\n",
       "      <td>4</td>\n",
       "      <td>waiting to exhale (1995)</td>\n",
       "    </tr>\n",
       "    <tr>\n",
       "      <th>4</th>\n",
       "      <td>5</td>\n",
       "      <td>father of the bride part ii (1995)</td>\n",
       "    </tr>\n",
       "    <tr>\n",
       "      <th>5</th>\n",
       "      <td>6</td>\n",
       "      <td>heat (1995)</td>\n",
       "    </tr>\n",
       "    <tr>\n",
       "      <th>6</th>\n",
       "      <td>7</td>\n",
       "      <td>sabrina (1995)</td>\n",
       "    </tr>\n",
       "    <tr>\n",
       "      <th>7</th>\n",
       "      <td>8</td>\n",
       "      <td>tom and huck (1995)</td>\n",
       "    </tr>\n",
       "    <tr>\n",
       "      <th>8</th>\n",
       "      <td>9</td>\n",
       "      <td>sudden death (1995)</td>\n",
       "    </tr>\n",
       "    <tr>\n",
       "      <th>9</th>\n",
       "      <td>10</td>\n",
       "      <td>goldeneye (1995)</td>\n",
       "    </tr>\n",
       "  </tbody>\n",
       "</table>\n",
       "</div>"
      ],
      "text/plain": [
       "   movie_id                               title\n",
       "0         1                    toy story (1995)\n",
       "1         2                      jumanji (1995)\n",
       "2         3             grumpier old men (1995)\n",
       "3         4            waiting to exhale (1995)\n",
       "4         5  father of the bride part ii (1995)\n",
       "5         6                         heat (1995)\n",
       "6         7                      sabrina (1995)\n",
       "7         8                 tom and huck (1995)\n",
       "8         9                 sudden death (1995)\n",
       "9        10                    goldeneye (1995)"
      ]
     },
     "execution_count": 8,
     "metadata": {},
     "output_type": "execute_result"
    }
   ],
   "source": [
    "movies['title'] = movies['title'].str.lower() # 검색을 쉽게하기 위해 아티스트 문자열을 소문자로 바꿔줍시다.\n",
    "movies.head(10)"
   ]
  },
  {
   "cell_type": "code",
   "execution_count": 9,
   "metadata": {},
   "outputs": [
    {
     "data": {
      "text/html": [
       "<div>\n",
       "<style scoped>\n",
       "    .dataframe tbody tr th:only-of-type {\n",
       "        vertical-align: middle;\n",
       "    }\n",
       "\n",
       "    .dataframe tbody tr th {\n",
       "        vertical-align: top;\n",
       "    }\n",
       "\n",
       "    .dataframe thead th {\n",
       "        text-align: right;\n",
       "    }\n",
       "</style>\n",
       "<table border=\"1\" class=\"dataframe\">\n",
       "  <thead>\n",
       "    <tr style=\"text-align: right;\">\n",
       "      <th></th>\n",
       "      <th>user_id</th>\n",
       "      <th>movie_id</th>\n",
       "      <th>view_count</th>\n",
       "      <th>title</th>\n",
       "    </tr>\n",
       "  </thead>\n",
       "  <tbody>\n",
       "    <tr>\n",
       "      <th>0</th>\n",
       "      <td>1</td>\n",
       "      <td>914</td>\n",
       "      <td>3</td>\n",
       "      <td>my fair lady (1964)</td>\n",
       "    </tr>\n",
       "    <tr>\n",
       "      <th>1</th>\n",
       "      <td>6</td>\n",
       "      <td>914</td>\n",
       "      <td>5</td>\n",
       "      <td>my fair lady (1964)</td>\n",
       "    </tr>\n",
       "    <tr>\n",
       "      <th>2</th>\n",
       "      <td>10</td>\n",
       "      <td>914</td>\n",
       "      <td>5</td>\n",
       "      <td>my fair lady (1964)</td>\n",
       "    </tr>\n",
       "    <tr>\n",
       "      <th>3</th>\n",
       "      <td>33</td>\n",
       "      <td>914</td>\n",
       "      <td>5</td>\n",
       "      <td>my fair lady (1964)</td>\n",
       "    </tr>\n",
       "    <tr>\n",
       "      <th>4</th>\n",
       "      <td>35</td>\n",
       "      <td>914</td>\n",
       "      <td>3</td>\n",
       "      <td>my fair lady (1964)</td>\n",
       "    </tr>\n",
       "    <tr>\n",
       "      <th>...</th>\n",
       "      <td>...</td>\n",
       "      <td>...</td>\n",
       "      <td>...</td>\n",
       "      <td>...</td>\n",
       "    </tr>\n",
       "    <tr>\n",
       "      <th>834350</th>\n",
       "      <td>5851</td>\n",
       "      <td>3607</td>\n",
       "      <td>5</td>\n",
       "      <td>one little indian (1973)</td>\n",
       "    </tr>\n",
       "    <tr>\n",
       "      <th>834351</th>\n",
       "      <td>5854</td>\n",
       "      <td>3026</td>\n",
       "      <td>4</td>\n",
       "      <td>slaughterhouse (1987)</td>\n",
       "    </tr>\n",
       "    <tr>\n",
       "      <th>834352</th>\n",
       "      <td>5854</td>\n",
       "      <td>690</td>\n",
       "      <td>3</td>\n",
       "      <td>promise, the (versprechen, das) (1994)</td>\n",
       "    </tr>\n",
       "    <tr>\n",
       "      <th>834353</th>\n",
       "      <td>5938</td>\n",
       "      <td>2909</td>\n",
       "      <td>4</td>\n",
       "      <td>five wives, three secretaries and me (1998)</td>\n",
       "    </tr>\n",
       "    <tr>\n",
       "      <th>834354</th>\n",
       "      <td>5948</td>\n",
       "      <td>1360</td>\n",
       "      <td>5</td>\n",
       "      <td>identification of a woman (identificazione di ...</td>\n",
       "    </tr>\n",
       "  </tbody>\n",
       "</table>\n",
       "<p>834355 rows × 4 columns</p>\n",
       "</div>"
      ],
      "text/plain": [
       "        user_id  movie_id  view_count  \\\n",
       "0             1       914           3   \n",
       "1             6       914           5   \n",
       "2            10       914           5   \n",
       "3            33       914           5   \n",
       "4            35       914           3   \n",
       "...         ...       ...         ...   \n",
       "834350     5851      3607           5   \n",
       "834351     5854      3026           4   \n",
       "834352     5854       690           3   \n",
       "834353     5938      2909           4   \n",
       "834354     5948      1360           5   \n",
       "\n",
       "                                                    title  \n",
       "0                                     my fair lady (1964)  \n",
       "1                                     my fair lady (1964)  \n",
       "2                                     my fair lady (1964)  \n",
       "3                                     my fair lady (1964)  \n",
       "4                                     my fair lady (1964)  \n",
       "...                                                   ...  \n",
       "834350                           one little indian (1973)  \n",
       "834351                              slaughterhouse (1987)  \n",
       "834352             promise, the (versprechen, das) (1994)  \n",
       "834353        five wives, three secretaries and me (1998)  \n",
       "834354  identification of a woman (identificazione di ...  \n",
       "\n",
       "[834355 rows x 4 columns]"
      ]
     },
     "execution_count": 9,
     "metadata": {},
     "output_type": "execute_result"
    }
   ],
   "source": [
    "# 두 데이터프레임 병합! 한번에 보자\n",
    "rating= pd.merge(ratings,movies)\n",
    "rating"
   ]
  },
  {
   "cell_type": "code",
   "execution_count": 10,
   "metadata": {},
   "outputs": [
    {
     "data": {
      "text/html": [
       "<div>\n",
       "<style scoped>\n",
       "    .dataframe tbody tr th:only-of-type {\n",
       "        vertical-align: middle;\n",
       "    }\n",
       "\n",
       "    .dataframe tbody tr th {\n",
       "        vertical-align: top;\n",
       "    }\n",
       "\n",
       "    .dataframe thead th {\n",
       "        text-align: right;\n",
       "    }\n",
       "</style>\n",
       "<table border=\"1\" class=\"dataframe\">\n",
       "  <thead>\n",
       "    <tr style=\"text-align: right;\">\n",
       "      <th></th>\n",
       "      <th>user_id</th>\n",
       "      <th>movie_id</th>\n",
       "      <th>view_count</th>\n",
       "      <th>title</th>\n",
       "    </tr>\n",
       "  </thead>\n",
       "  <tbody>\n",
       "    <tr>\n",
       "      <th>0</th>\n",
       "      <td>1</td>\n",
       "      <td>914</td>\n",
       "      <td>3</td>\n",
       "      <td>my fair lady (1964)</td>\n",
       "    </tr>\n",
       "    <tr>\n",
       "      <th>1</th>\n",
       "      <td>6</td>\n",
       "      <td>914</td>\n",
       "      <td>5</td>\n",
       "      <td>my fair lady (1964)</td>\n",
       "    </tr>\n",
       "    <tr>\n",
       "      <th>2</th>\n",
       "      <td>10</td>\n",
       "      <td>914</td>\n",
       "      <td>5</td>\n",
       "      <td>my fair lady (1964)</td>\n",
       "    </tr>\n",
       "    <tr>\n",
       "      <th>3</th>\n",
       "      <td>33</td>\n",
       "      <td>914</td>\n",
       "      <td>5</td>\n",
       "      <td>my fair lady (1964)</td>\n",
       "    </tr>\n",
       "    <tr>\n",
       "      <th>4</th>\n",
       "      <td>35</td>\n",
       "      <td>914</td>\n",
       "      <td>3</td>\n",
       "      <td>my fair lady (1964)</td>\n",
       "    </tr>\n",
       "    <tr>\n",
       "      <th>...</th>\n",
       "      <td>...</td>\n",
       "      <td>...</td>\n",
       "      <td>...</td>\n",
       "      <td>...</td>\n",
       "    </tr>\n",
       "    <tr>\n",
       "      <th>834355</th>\n",
       "      <td>12000</td>\n",
       "      <td>2910</td>\n",
       "      <td>5</td>\n",
       "      <td>star wars: episode iv - a new hope (1977)</td>\n",
       "    </tr>\n",
       "    <tr>\n",
       "      <th>834356</th>\n",
       "      <td>12000</td>\n",
       "      <td>2885</td>\n",
       "      <td>4</td>\n",
       "      <td>star wars: episode v - the empire strikes back...</td>\n",
       "    </tr>\n",
       "    <tr>\n",
       "      <th>834357</th>\n",
       "      <td>12000</td>\n",
       "      <td>2434</td>\n",
       "      <td>5</td>\n",
       "      <td>matrix, the (1999)</td>\n",
       "    </tr>\n",
       "    <tr>\n",
       "      <th>834358</th>\n",
       "      <td>12000</td>\n",
       "      <td>2019</td>\n",
       "      <td>4</td>\n",
       "      <td>terminator, the (1984)</td>\n",
       "    </tr>\n",
       "    <tr>\n",
       "      <th>834359</th>\n",
       "      <td>12000</td>\n",
       "      <td>2297</td>\n",
       "      <td>5</td>\n",
       "      <td>men in black (1997)</td>\n",
       "    </tr>\n",
       "  </tbody>\n",
       "</table>\n",
       "<p>834360 rows × 4 columns</p>\n",
       "</div>"
      ],
      "text/plain": [
       "        user_id  movie_id  view_count  \\\n",
       "0             1       914           3   \n",
       "1             6       914           5   \n",
       "2            10       914           5   \n",
       "3            33       914           5   \n",
       "4            35       914           3   \n",
       "...         ...       ...         ...   \n",
       "834355    12000      2910           5   \n",
       "834356    12000      2885           4   \n",
       "834357    12000      2434           5   \n",
       "834358    12000      2019           4   \n",
       "834359    12000      2297           5   \n",
       "\n",
       "                                                    title  \n",
       "0                                     my fair lady (1964)  \n",
       "1                                     my fair lady (1964)  \n",
       "2                                     my fair lady (1964)  \n",
       "3                                     my fair lady (1964)  \n",
       "4                                     my fair lady (1964)  \n",
       "...                                                   ...  \n",
       "834355          star wars: episode iv - a new hope (1977)  \n",
       "834356  star wars: episode v - the empire strikes back...  \n",
       "834357                                 matrix, the (1999)  \n",
       "834358                             terminator, the (1984)  \n",
       "834359                                men in black (1997)  \n",
       "\n",
       "[834360 rows x 4 columns]"
      ]
     },
     "execution_count": 10,
     "metadata": {},
     "output_type": "execute_result"
    }
   ],
   "source": [
    "rating.loc[834355]=[12000,2910,5,'star wars: episode iv - a new hope (1977)']  \n",
    "rating.loc[834356]=[12000,2885,4,'star wars: episode v - the empire strikes back (1980)']\n",
    "rating.loc[834357]=[12000,2434,5,'matrix, the (1999)']\n",
    "rating.loc[834358]=[12000,2019,4,'terminator, the (1984)']\n",
    "rating.loc[834359]=[12000,2297,5,'men in black (1997)']\n",
    "rating"
   ]
  },
  {
   "cell_type": "markdown",
   "metadata": {},
   "source": [
    "# 2) 데이터 탐색"
   ]
  },
  {
   "cell_type": "code",
   "execution_count": 11,
   "metadata": {},
   "outputs": [
    {
     "data": {
      "text/plain": [
       "6040"
      ]
     },
     "execution_count": 11,
     "metadata": {},
     "output_type": "execute_result"
    }
   ],
   "source": [
    "#유저수\n",
    "rating['user_id'].nunique()"
   ]
  },
  {
   "cell_type": "code",
   "execution_count": 12,
   "metadata": {},
   "outputs": [
    {
     "data": {
      "text/plain": [
       "3627"
      ]
     },
     "execution_count": 12,
     "metadata": {},
     "output_type": "execute_result"
    }
   ],
   "source": [
    "#영화 수 \n",
    "rating['movie_id'].nunique()"
   ]
  },
  {
   "cell_type": "code",
   "execution_count": 13,
   "metadata": {},
   "outputs": [
    {
     "data": {
      "text/plain": [
       "title\n",
       "american beauty (1999)                                   3211\n",
       "star wars: episode iv - a new hope (1977)                2911\n",
       "star wars: episode v - the empire strikes back (1980)    2886\n",
       "star wars: episode vi - return of the jedi (1983)        2716\n",
       "saving private ryan (1998)                               2561\n",
       "terminator 2: judgment day (1991)                        2509\n",
       "silence of the lambs, the (1991)                         2498\n",
       "raiders of the lost ark (1981)                           2473\n",
       "back to the future (1985)                                2460\n",
       "matrix, the (1999)                                       2435\n",
       "jurassic park (1993)                                     2413\n",
       "sixth sense, the (1999)                                  2385\n",
       "fargo (1996)                                             2371\n",
       "braveheart (1995)                                        2314\n",
       "men in black (1997)                                      2298\n",
       "schindler's list (1993)                                  2257\n",
       "princess bride, the (1987)                               2252\n",
       "shakespeare in love (1998)                               2213\n",
       "l.a. confidential (1997)                                 2210\n",
       "shawshank redemption, the (1994)                         2194\n",
       "godfather, the (1972)                                    2167\n",
       "groundhog day (1993)                                     2121\n",
       "e.t. the extra-terrestrial (1982)                        2102\n",
       "being john malkovich (1999)                              2066\n",
       "ghostbusters (1984)                                      2051\n",
       "pulp fiction (1994)                                      2030\n",
       "forrest gump (1994)                                      2022\n",
       "terminator, the (1984)                                   2020\n",
       "toy story (1995)                                         2000\n",
       "fugitive, the (1993)                                     1941\n",
       "Name: movie_id, dtype: int64"
      ]
     },
     "execution_count": 13,
     "metadata": {},
     "output_type": "execute_result"
    }
   ],
   "source": [
    "#인기있는 영화 30개 \n",
    "popular_movie = rating.groupby('title')['movie_id'].count()\n",
    "popular_movie.sort_values(ascending=False).head(30)"
   ]
  },
  {
   "cell_type": "code",
   "execution_count": 14,
   "metadata": {},
   "outputs": [
    {
     "data": {
      "text/plain": [
       "count    6040.000000\n",
       "mean      138.139073\n",
       "std       156.009227\n",
       "min         1.000000\n",
       "25%        37.000000\n",
       "50%        81.000000\n",
       "75%       176.000000\n",
       "max      1966.000000\n",
       "Name: title, dtype: float64"
      ]
     },
     "execution_count": 14,
     "metadata": {},
     "output_type": "execute_result"
    }
   ],
   "source": [
    "# 유저별 몇개의 영화를 보고 있는지에 대한 통계\n",
    "user_count = rating.groupby('user_id')['title'].count()\n",
    "user_count.describe()"
   ]
  },
  {
   "cell_type": "code",
   "execution_count": 15,
   "metadata": {},
   "outputs": [
    {
     "data": {
      "text/plain": [
       "user_id\n",
       "1        4.196078\n",
       "2        3.913043\n",
       "3        4.130435\n",
       "4        4.473684\n",
       "5        3.720280\n",
       "           ...   \n",
       "6037     3.845745\n",
       "6038     4.055556\n",
       "6039     3.949153\n",
       "6040     4.047273\n",
       "12000    4.600000\n",
       "Name: view_count, Length: 6040, dtype: float64"
      ]
     },
     "execution_count": 15,
     "metadata": {},
     "output_type": "execute_result"
    }
   ],
   "source": [
    "# 유저별 평점의 평균\n",
    "user_mean = rating.groupby('user_id')['view_count'].mean()\n",
    "user_mean "
   ]
  },
  {
   "cell_type": "code",
   "execution_count": 16,
   "metadata": {},
   "outputs": [
    {
     "data": {
      "text/plain": [
       "user_id       0\n",
       "movie_id      0\n",
       "view_count    0\n",
       "title         0\n",
       "dtype: int64"
      ]
     },
     "execution_count": 16,
     "metadata": {},
     "output_type": "execute_result"
    }
   ],
   "source": [
    "#결측치\n",
    "rating.isnull().sum()"
   ]
  },
  {
   "cell_type": "code",
   "execution_count": 17,
   "metadata": {},
   "outputs": [
    {
     "data": {
      "text/plain": [
       "0"
      ]
     },
     "execution_count": 17,
     "metadata": {},
     "output_type": "execute_result"
    }
   ],
   "source": [
    "#중복데이터\n",
    "rating.duplicated().sum()"
   ]
  },
  {
   "cell_type": "code",
   "execution_count": 18,
   "metadata": {},
   "outputs": [
    {
     "name": "stdout",
     "output_type": "stream",
     "text": [
      "<class 'pandas.core.frame.DataFrame'>\n",
      "Int64Index: 834360 entries, 0 to 834359\n",
      "Data columns (total 4 columns):\n",
      " #   Column      Non-Null Count   Dtype \n",
      "---  ------      --------------   ----- \n",
      " 0   user_id     834360 non-null  int64 \n",
      " 1   movie_id    834360 non-null  int64 \n",
      " 2   view_count  834360 non-null  int64 \n",
      " 3   title       834360 non-null  object\n",
      "dtypes: int64(3), object(1)\n",
      "memory usage: 31.8+ MB\n"
     ]
    }
   ],
   "source": [
    "#결측치와 중복데이터 모두 없음\n",
    "rating.info()"
   ]
  },
  {
   "cell_type": "markdown",
   "metadata": {},
   "source": [
    "* 어려웠던 부분!\n",
    "\n",
    "모델 학습 목적: 영화에 대한 나의 선호도를 예측하고 선호하는 영화나 비슷한 영화를 추천하는 것!!   이때 영화이름을 idx로 바꿔서 함수를 적용하고 다시 이름으로 출력한다. \n",
    "\n",
    "Problem 1. 무엇을 인덱싱할건가?\n",
    "\n",
    "-user id : user id는 숫자로 표시되서 인덱싱 하지 않아도 된다. \n",
    "\n",
    "-movie id: 결국 title을 쳐서 예측하기 때문에 csr matrix 에서만 사용한다. \n",
    "\n",
    "-title : str인 제목을 숫자로 바꿔서 계산 후 다시 제목으로 출력해야해서 inx 필요 \n",
    "\n",
    "Problem 2. inx to someting도 하고 someting to inx도 하고 이 과정이 복잡해보인다. \n",
    "이 과정에서 흐름이 계속 헷갈려서 헤맸다.\n",
    "\n",
    "Solution: @shate 도움을 받아 movie id 넣으면 제목 나오도록 딕셔너리를 만들었다. 인덱싱을 만들지 않아도 제목을 치면 딕셔너리에서 찾을 수 있다!"
   ]
  },
  {
   "cell_type": "code",
   "execution_count": 19,
   "metadata": {},
   "outputs": [
    {
     "name": "stdout",
     "output_type": "stream",
     "text": [
      "quiz show (1994)\n",
      "3408\n"
     ]
    }
   ],
   "source": [
    "idx_to_title = {} #movie id -> 제목\n",
    "title_to_idx = {} #제목 -> movie id   \n",
    "\n",
    "for i in range(rating.shape[0]): \n",
    "    idx_to_title[rating['movie_id'][i]] = rating['title'][i] \n",
    "    title_to_idx[rating['title'][i]] = rating['movie_id'][i] \n",
    "    \n",
    "print(idx_to_title[300]) \n",
    "print(title_to_idx['erin brockovich (2000)'])   "
   ]
  },
  {
   "cell_type": "markdown",
   "metadata": {},
   "source": [
    "# 3) CSR matrix"
   ]
  },
  {
   "cell_type": "code",
   "execution_count": 20,
   "metadata": {},
   "outputs": [
    {
     "data": {
      "text/plain": [
       "<12001x3953 sparse matrix of type '<class 'numpy.int64'>'\n",
       "\twith 834360 stored elements in Compressed Sparse Row format>"
      ]
     },
     "execution_count": 20,
     "metadata": {},
     "output_type": "execute_result"
    }
   ],
   "source": [
    "from scipy.sparse import csr_matrix\n",
    "\n",
    "num_user_id = rating['user_id'].nunique() #사용자\n",
    "num_movie_id = rating['movie_id'].nunique() # 유저\n",
    "\n",
    "csr_data = csr_matrix((rating.view_count,(rating.user_id, rating.movie_id)))\n",
    "csr_data"
   ]
  },
  {
   "cell_type": "markdown",
   "metadata": {},
   "source": [
    "* Error\n",
    "\n",
    "1.row index exceeds matrix dimensions : row을 user_id로 했을때 변수 행렬 범위에 벗어난 값을 출력한다고 오류 \n",
    "\n",
    "try 1: 6039*3631 sparse matrix \n",
    "\n",
    "problem: self.row.max() >= self.shape[0] self.cal.max() >= self.shape[1] 라서 더 커서 shape크기가 안맞아서 오류가 났다.\n",
    "\n",
    "solution: csr_data 뒤에 있던 shape(m,n) 를 삭제 -> 12001x3953 로 출력됐다. 이후 self.row.max() < self.shape 로 크기가 더 커져서 오류가 사라졌다 (helper @vg-rlo)\n",
    "\n",
    "2.invalid literal for int() with base 10: 'my fair lady (1964)' columns가 title일 경우 형변환 오류 \n",
    "\n",
    "정수는 정수로 받고 실수는 실수로 받고 문자는 문자로 받는데 지금 형이 일치하지 않음 imput으로 받은 값이 문자형이라서 문자형을 실수로 바꾸고 정수로 변경"
   ]
  },
  {
   "cell_type": "markdown",
   "metadata": {},
   "source": [
    "# 4) als_model = AlternatingLeastSquares 모델훈련"
   ]
  },
  {
   "cell_type": "code",
   "execution_count": 21,
   "metadata": {},
   "outputs": [
    {
     "data": {
      "application/vnd.jupyter.widget-view+json": {
       "model_id": "cf2cae0080864839aa2553d9abf60acf",
       "version_major": 2,
       "version_minor": 0
      },
      "text/plain": [
       "  0%|          | 0/10 [00:00<?, ?it/s]"
      ]
     },
     "metadata": {},
     "output_type": "display_data"
    }
   ],
   "source": [
    "from implicit.als import AlternatingLeastSquares\n",
    "import os\n",
    "import numpy as np\n",
    "\n",
    "os.environ['OPENBLAS_NUM_THREADS']='1'\n",
    "os.environ['KMP_DUPLICATE_LIB_OK']='True'\n",
    "os.environ['MKL_NUM_THREADS']='1'\n",
    "\n",
    "#factor와 iteration을 늘릴 수록 잘 학습하지만 과적합될수 있음\n",
    "# Implicit AlternatingLeastSquares 모델의 선언\n",
    "als_model = AlternatingLeastSquares(factors=100, #유저와 아이템벡터의차원\n",
    "                                    regularization=0.01,  #과적합방지를 이한 정규화값\n",
    "                                    use_gpu=False,        # gpu사용\n",
    "                                    iterations=10, dtype=np.float32) #epochs 반복\n",
    "\n",
    "# als 모델은 input으로 (item X user 꼴의 matrix를 받기 때문에 Transpose해줍니다.)\n",
    "csr_data_transpose = csr_data.T\n",
    "csr_data_transpose\n",
    "\n",
    "# 모델 훈련\n",
    "als_model.fit(csr_data_transpose)"
   ]
  },
  {
   "cell_type": "code",
   "execution_count": 32,
   "metadata": {},
   "outputs": [
    {
     "name": "stdout",
     "output_type": "stream",
     "text": [
      "슝=3\n"
     ]
    }
   ],
   "source": [
    "#모델이 사용자벡터와 영화의 백터를 어떻게 만들었는지 확인\n",
    "sumin, movie = 12000, title_to_idx['star wars: episode v - the empire strikes back (1980)']\n",
    "sumin_vector, movie_vector = als_model.user_factors[sumin], als_model.item_factors[movie]\n",
    "\n",
    "print('슝=3')"
   ]
  },
  {
   "cell_type": "code",
   "execution_count": 33,
   "metadata": {},
   "outputs": [
    {
     "data": {
      "text/plain": [
       "array([-8.69553611e-02,  4.62328136e-01,  1.94764450e-01,  2.51078397e-01,\n",
       "       -7.66682476e-02,  4.67802852e-01,  6.55333698e-01, -2.23028779e-01,\n",
       "       -5.07821679e-01, -1.17142826e-01,  1.39750198e-01,  9.34254825e-02,\n",
       "        3.83408010e-01,  6.16218507e-01, -4.66494486e-02,  4.64689493e-01,\n",
       "        4.19279039e-01, -1.18135720e-01,  3.34662139e-01, -3.41355316e-02,\n",
       "        1.65418219e-02, -4.06748243e-02,  3.28425527e-01,  5.21083951e-01,\n",
       "        4.61953990e-02, -4.96805131e-01,  1.07986122e-01, -3.29110622e-01,\n",
       "        1.13064043e-01,  8.65219012e-02,  4.80946362e-01, -1.99407101e-01,\n",
       "       -3.87720227e-01,  3.54696676e-04,  2.27788568e-01, -2.13446453e-01,\n",
       "       -4.00653630e-02,  6.83629187e-03,  1.51795566e-01,  2.52825946e-01,\n",
       "        1.09216822e-02,  4.77818459e-01,  5.46530411e-02, -6.56888425e-01,\n",
       "        2.72090107e-01,  6.59790486e-02, -1.16227649e-01, -1.85851216e-01,\n",
       "       -6.23836555e-02, -2.32575685e-01, -3.18660498e-01,  4.58637476e-02,\n",
       "       -2.76986331e-01, -9.07613784e-02, -2.68649668e-01, -4.32639271e-01,\n",
       "        2.50921458e-01, -1.09184682e-01, -1.65439453e-02,  1.04779549e-01,\n",
       "       -5.78699782e-02,  1.23701595e-01, -1.51926607e-01, -5.06864548e-01,\n",
       "        5.78821957e-01,  1.38196386e-02, -2.55909283e-02, -2.37623304e-02,\n",
       "       -2.49577999e-01,  1.06037214e-01, -2.36124732e-02,  7.32556731e-03,\n",
       "        1.66288704e-01, -7.33019710e-02,  3.78164887e-01,  3.70155066e-01,\n",
       "        5.15915453e-01, -3.28815877e-01, -4.59987730e-01,  2.56976098e-01,\n",
       "       -7.99604058e-01, -1.64943531e-01, -4.79139656e-01, -5.43433368e-01,\n",
       "        9.48289707e-02, -4.74276662e-01, -2.88033158e-01, -9.15178061e-02,\n",
       "        2.26244126e-02, -9.68714729e-02, -2.92820513e-01,  1.41062811e-01,\n",
       "        5.51003814e-01, -1.59848079e-01,  4.56657648e-01,  2.56928056e-01,\n",
       "       -3.78436670e-02, -1.02745913e-01,  3.31607722e-02, -6.73450828e-02],\n",
       "      dtype=float32)"
      ]
     },
     "execution_count": 33,
     "metadata": {},
     "output_type": "execute_result"
    }
   ],
   "source": [
    "sumin_vector"
   ]
  },
  {
   "cell_type": "code",
   "execution_count": 34,
   "metadata": {},
   "outputs": [
    {
     "data": {
      "text/plain": [
       "array([ 0.00292718,  0.01020302,  0.0037518 ,  0.00937351,  0.00757699,\n",
       "        0.0048654 ,  0.00458821,  0.00631593, -0.00272934,  0.0113969 ,\n",
       "        0.00183964, -0.00135471,  0.00478551,  0.00872335,  0.00447393,\n",
       "        0.00500825,  0.01177121,  0.01137177,  0.00583835,  0.00588378,\n",
       "        0.00669222,  0.01311548,  0.01474808,  0.00665352,  0.00158688,\n",
       "       -0.00425113,  0.00535899,  0.00620911,  0.00382255, -0.00587785,\n",
       "        0.01013273, -0.00208428, -0.00213334,  0.0016412 ,  0.01588398,\n",
       "        0.00415222,  0.00641405,  0.00330035,  0.00627914,  0.00268771,\n",
       "        0.0107316 ,  0.00653605,  0.01812242,  0.00554415,  0.00171044,\n",
       "        0.00228737,  0.00851386, -0.00599412,  0.00321029,  0.00234158,\n",
       "        0.00779626,  0.00725316,  0.00488134,  0.00204944,  0.00182669,\n",
       "        0.00749556,  0.01515541,  0.00142117,  0.00827589, -0.00156722,\n",
       "        0.01173163,  0.00101726,  0.00671083, -0.00364452,  0.00713096,\n",
       "        0.01203797,  0.00570547,  0.00674185, -0.0015549 ,  0.01029707,\n",
       "        0.00396475,  0.00173173,  0.00393569,  0.00430263,  0.00936486,\n",
       "        0.01057462,  0.00605273,  0.01118245,  0.01533732,  0.00476076,\n",
       "       -0.00327619,  0.01071996,  0.00367267,  0.00412535,  0.0039427 ,\n",
       "        0.00578128, -0.00067457,  0.00514658,  0.01666403,  0.00410477,\n",
       "        0.0099272 ,  0.00518784,  0.00519488,  0.00207848,  0.00927279,\n",
       "        0.00130148,  0.00829363, -0.00184197,  0.00469487,  0.00665473],\n",
       "      dtype=float32)"
      ]
     },
     "execution_count": 34,
     "metadata": {},
     "output_type": "execute_result"
    }
   ],
   "source": [
    "movie_vector"
   ]
  },
  {
   "cell_type": "code",
   "execution_count": 36,
   "metadata": {},
   "outputs": [
    {
     "data": {
      "text/plain": [
       "0.046743922"
      ]
     },
     "execution_count": 36,
     "metadata": {},
     "output_type": "execute_result"
    }
   ],
   "source": [
    "#모델이 예측한 men in black (1997)에 대한 나의 선호도\n",
    "np.dot(sumin_vector,movie_vector) "
   ]
  },
  {
   "cell_type": "code",
   "execution_count": 37,
   "metadata": {},
   "outputs": [
    {
     "data": {
      "text/plain": [
       "0.2888981"
      ]
     },
     "execution_count": 37,
     "metadata": {},
     "output_type": "execute_result"
    }
   ],
   "source": [
    "# 모델이 예측한 terminator, the (1984)에 대한 나의 선호도\n",
    "terminator = title_to_idx['terminator, the (1984)']\n",
    "terminator_vector = als_model.item_factors[terminator]\n",
    "np.dot(sumin_vector,terminator_vector)"
   ]
  },
  {
   "cell_type": "markdown",
   "metadata": {},
   "source": [
    "# 5) 비슷한 영화 찾기"
   ]
  },
  {
   "cell_type": "markdown",
   "metadata": {},
   "source": [
    "* Error\n",
    "\n",
    "비슷한 영화를 찾을때 내가 추가한 영화를 넣으면 그런 영화는 없다고 오류가 났다.\n",
    "하지만, 기존에 있는 영화제목을 넣으면 오류가 나지 않았다. \n",
    "\n",
    "* Problem\n",
    "\n",
    "사용자 초기 세팅할때 좋아하는 영화를 5개 추가하는 부분이었다.\n",
    "영화 이름을 데이터셋 안에 있는걸로 했어야 하는데 나는 완전 새로운 영화 제목을 추가해서 기존 데이터와 나의 선호데이터가 분리돼서 \n",
    "기존 데이터에는 나의 선호 데이터가 없는게 당연했다!\n",
    "\n",
    "* Solution\n",
    "\n",
    "전처리를 다시!! 기존에 있는 영화제목으로 loc함수 사용해서 추가했다. "
   ]
  },
  {
   "cell_type": "code",
   "execution_count": 54,
   "metadata": {},
   "outputs": [
    {
     "name": "stdout",
     "output_type": "stream",
     "text": [
      "슝=3\n"
     ]
    }
   ],
   "source": [
    "def get_similar_movie(title_name: str):\n",
    "    title = title_to_idx[title_name]\n",
    "    similar_movie = als_model.similar_items(title)\n",
    "    similar_movie = [idx_to_title[i[0]] for i in similar_movie]\n",
    "    return similar_movie\n",
    "\n",
    "print(\"슝=3\")"
   ]
  },
  {
   "cell_type": "code",
   "execution_count": 57,
   "metadata": {},
   "outputs": [
    {
     "data": {
      "text/plain": [
       "['terminator, the (1984)',\n",
       " 'yojimbo (1961)',\n",
       " 'kagemusha (1980)',\n",
       " 'ran (1985)',\n",
       " 'seventh seal, the (sjunde inseglet, det) (1957)',\n",
       " 'dersu uzala (1974)',\n",
       " '8 1/2 (1963)',\n",
       " 'sanjuro (1962)',\n",
       " 'killer, the (die xue shuang xiong) (1989)',\n",
       " 'woman in the dunes (suna no onna) (1964)']"
      ]
     },
     "execution_count": 57,
     "metadata": {},
     "output_type": "execute_result"
    }
   ],
   "source": [
    "get_similar_movie('terminator, the (1984)')"
   ]
  },
  {
   "cell_type": "markdown",
   "metadata": {},
   "source": [
    "# 6) 내가 좋아할만한 영화 추천"
   ]
  },
  {
   "cell_type": "code",
   "execution_count": 56,
   "metadata": {},
   "outputs": [
    {
     "data": {
      "text/plain": [
       "[(1210, 0.83339745),\n",
       " (1214, 0.78835696),\n",
       " (1036, 0.7351739),\n",
       " (1198, 0.7330272),\n",
       " (318, 0.72307456),\n",
       " (1250, 0.6955453),\n",
       " (924, 0.6877521),\n",
       " (2762, 0.65749806),\n",
       " (750, 0.64573586),\n",
       " (1240, 0.63954043),\n",
       " (1287, 0.6286545),\n",
       " (1387, 0.6199415),\n",
       " (1954, 0.6153136),\n",
       " (1204, 0.5884041),\n",
       " (1252, 0.5754151),\n",
       " (1233, 0.5669621),\n",
       " (608, 0.56136966),\n",
       " (1272, 0.5398108),\n",
       " (1208, 0.52568084),\n",
       " (110, 0.51781774)]"
      ]
     },
     "execution_count": 56,
     "metadata": {},
     "output_type": "execute_result"
    }
   ],
   "source": [
    "user = title_to_idx[ 'men in black (1997)']\n",
    "# recommend에서는 user*item CSR Matrix를 가져온다\n",
    "artist_recommended = als_model.recommend(user, csr_data, N=20, filter_already_liked_items=True)\n",
    "artist_recommended"
   ]
  },
  {
   "cell_type": "code",
   "execution_count": 42,
   "metadata": {},
   "outputs": [
    {
     "data": {
      "text/plain": [
       "['star wars: episode vi - return of the jedi (1983)',\n",
       " 'alien (1979)',\n",
       " 'die hard (1988)',\n",
       " 'raiders of the lost ark (1981)',\n",
       " 'shawshank redemption, the (1994)',\n",
       " 'bridge on the river kwai, the (1957)',\n",
       " '2001: a space odyssey (1968)',\n",
       " 'sixth sense, the (1999)',\n",
       " 'dr. strangelove or: how i learned to stop worrying and love the bomb (1963)',\n",
       " 'terminator, the (1984)',\n",
       " 'ben-hur (1959)',\n",
       " 'jaws (1975)',\n",
       " 'rocky (1976)',\n",
       " 'lawrence of arabia (1962)',\n",
       " 'chinatown (1974)',\n",
       " 'boat, the (das boot) (1981)',\n",
       " 'fargo (1996)',\n",
       " 'patton (1970)',\n",
       " 'apocalypse now (1979)',\n",
       " 'braveheart (1995)']"
      ]
     },
     "execution_count": 42,
     "metadata": {},
     "output_type": "execute_result"
    }
   ],
   "source": [
    "[idx_to_title[i[0]] for i in artist_recommended]"
   ]
  },
  {
   "cell_type": "code",
   "execution_count": 50,
   "metadata": {},
   "outputs": [],
   "source": [
    "#matrix, the (1999)가 추천된 이유\n",
    "matrix = title_to_idx['rocky (1976)']\n",
    "explain = als_model.explain(user, csr_data, itemid=matrix)"
   ]
  },
  {
   "cell_type": "code",
   "execution_count": 51,
   "metadata": {},
   "outputs": [
    {
     "data": {
      "text/plain": [
       "[('glory (1989)', 0.09400417851275256),\n",
       " ('hunt for red october, the (1990)', 0.07937036308297601),\n",
       " ('french connection, the (1971)', 0.0734335261359395),\n",
       " ('close encounters of the third kind (1977)', 0.06622210602126491),\n",
       " ('goldfinger (1964)', 0.06525011999638214),\n",
       " ('papillon (1973)', 0.05384852107509325),\n",
       " ('godfather, the (1972)', 0.04766840472473263),\n",
       " ('fugitive, the (1993)', 0.038380091073609617),\n",
       " ('godfather: part ii, the (1974)', 0.03595728777316295),\n",
       " ('dirty dozen, the (1967)', 0.0358952853935667)]"
      ]
     },
     "execution_count": 51,
     "metadata": {},
     "output_type": "execute_result"
    }
   ],
   "source": [
    "[(idx_to_title[i[0]], i[1]) for i in explain[1]]"
   ]
  },
  {
   "cell_type": "markdown",
   "metadata": {},
   "source": [
    "# 회고"
   ]
  },
  {
   "cell_type": "markdown",
   "metadata": {},
   "source": [
    "* 알게된 개념 \n",
    "\n",
    "\n",
    "1.추천시스템 모델 중 MF(행렬분해)모델을 사용 \n",
    "\n",
    "행렬분해는 (m,n) 사이즈의 행렬R 을 (m,k)사이즈 행렬P과 (k,n) 사이즈 행렬Q로 분해한다.\n",
    "두 행렬의 벡터를 내적해서 얻은 값이 R과 같은지(비슷한지) 계산한다. \n",
    "\n",
    "E8을 기반으로 보면 아래를 계산하는 것\n",
    "M = 유저수(사용자 벡터) N = 영화수(영화벡터) P와 Q의 내적값(P*Q) = R(유저가 영화를 평가한 수치:별점) \n",
    "\n",
    "2.CSR Matrix \n",
    "* Sparse Matrix\n",
    "\n",
    "P*Q 는 유저가 보지 않은 영화의 정보까지 행렬에 0으로 포함되어 있 다. 메모리만 늘어나고 필요는 없다! (Sparse Matrix) \n",
    "\n",
    "* CSR Matrix\n",
    "\n",
    "그래서 유저가 본 영화 정보의 값만 인덱스를 표시해서 행렬로 만든다\n",
    "(sparse matrix를 압축해서 유효한 데이터의 값과 데이터가 있는 위치만으로 된 행렬을 만든다.)\n",
    "\n",
    "3.마무리\n",
    "\n",
    " 가장 자주 접하는 기술인 추천시스템을 직접 만들어봐서 신기했다. \n",
    "실제로는 고려해야할 column이 더 많겠지만 흐름은 의외로 이해하기 쉬웠다. \n",
    "\n",
    "아직 복잡한 흐름이 나오면 헷갈려하지만 명절에 노드를 복습하면서 기본적인 함수는 이해해서 이전보다 더 잘 이해하면서 진행했다"
   ]
  }
 ],
 "metadata": {
  "kernelspec": {
   "display_name": "aiffel",
   "language": "python",
   "name": "aiffel"
  },
  "language_info": {
   "codemirror_mode": {
    "name": "ipython",
    "version": 3
   },
   "file_extension": ".py",
   "mimetype": "text/x-python",
   "name": "python",
   "nbconvert_exporter": "python",
   "pygments_lexer": "ipython3",
   "version": "3.7.9"
  }
 },
 "nbformat": 4,
 "nbformat_minor": 4
}
