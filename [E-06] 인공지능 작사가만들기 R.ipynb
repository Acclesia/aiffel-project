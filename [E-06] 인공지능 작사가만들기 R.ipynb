{
 "cells": [
  {
   "cell_type": "markdown",
   "id": "according-conflict",
   "metadata": {},
   "source": [
    "# [E-06] 인공지능 작사가 만들기"
   ]
  },
  {
   "cell_type": "markdown",
   "id": "accessory-failing",
   "metadata": {},
   "source": [
    "루브릭\n",
    "\n",
    "1. 가사 텍스트 생성 모델이 정상적으로 동작하는가?\n",
    "   * 텍스트 제너레이션 결과가 그럴듯한 문장으로 생성되는가?\n",
    "__ 그런거 같다..\n",
    "\n",
    "2. 데이터의 전처리와 데이터셋 구성 과정이 체계적으로 진행되었는가?\n",
    "   * 특수문자 제거, 토크나이저 생성, 패딩처리 등의 과정이 빠짐없이 진행되었는가?\n",
    "__ 그렇다\n",
    "\n",
    "3. 텍스트 생성모델이 안정적으로 학습되었는가?\n",
    "   * 텍스트 생성모델의 validation loss가 2.2 이하로 낮아졌는가?\n",
    "__ val_loss : 1.8265 - val_accuracy: 0.7027 나왔다!"
   ]
  },
  {
   "cell_type": "markdown",
   "id": "fossil-anniversary",
   "metadata": {},
   "source": [
    "## 목록\n",
    "1. 데이터 다운로드\n",
    "2. 데이터 정제\n",
    "3. 데이터셋 내 길이 분포\n",
    "4. 데이터셋 구축하기\n",
    "5. 데이터셋팅\n",
    "6. 모델 구성\n",
    "7. 모델 훈련 - 훈련결과 시각화\n",
    "8. 모델 평가\n",
    "9. 회고"
   ]
  },
  {
   "cell_type": "markdown",
   "id": "democratic-carry",
   "metadata": {},
   "source": [
    "# 1. 데이터 다운로드\n",
    "$ wget https://aiffelstaticprd.blob.core.windows.net/media/documents/song_lyrics.zip\n",
    "$ unzip song_lyrics.zip -d ~/aiffel/lyricist/data/lyrics  #lyrics 폴더에 압축풀기"
   ]
  },
  {
   "cell_type": "code",
   "execution_count": 3,
   "id": "unusual-correlation",
   "metadata": {},
   "outputs": [
    {
     "name": "stdout",
     "output_type": "stream",
     "text": [
      "데이터 크기: 187090\n",
      "Examples:\n",
      " ['', '', '[Spoken Intro:]']\n"
     ]
    }
   ],
   "source": [
    "import glob\n",
    "import os\n",
    "import re\n",
    "import numpy as np\n",
    "\n",
    "txt_file_path = os.getenv('HOME')+'/aiffel/lyricist/data/lyrics/*'\n",
    "\n",
    "txt_list = glob.glob(txt_file_path)\n",
    "\n",
    "raw_corpus = []\n",
    "\n",
    "# 여러개의 txt 파일을 모두 읽어서 raw_corpus 에 담습니다.\n",
    "for txt_file in txt_list:\n",
    "    with open(txt_file, \"r\") as f:\n",
    "        raw = f.read().splitlines()\n",
    "        raw_corpus.extend(raw)\n",
    "\n",
    "print(\"데이터 크기:\", len(raw_corpus))\n",
    "print(\"Examples:\\n\", raw_corpus[:3])"
   ]
  },
  {
   "cell_type": "markdown",
   "id": "indirect-proposal",
   "metadata": {},
   "source": [
    "# 2. 데이터 정제"
   ]
  },
  {
   "cell_type": "code",
   "execution_count": 4,
   "id": "experimental-chick",
   "metadata": {},
   "outputs": [
    {
     "name": "stdout",
     "output_type": "stream",
     "text": [
      "[Spoken Intro:]\n",
      "You ever want something \n",
      "that you know you shouldn't have \n",
      "The more you know you shouldn't have it, \n",
      "The more you want it \n",
      "And then one day you get it, \n",
      "It's so good too \n",
      "But it's just like my girl \n"
     ]
    }
   ],
   "source": [
    "for idx, sentence in enumerate(raw_corpus):\n",
    "    if len(sentence) == 0: continue   # 길이가 0인 문장은 건너뜁니다.\n",
    "#     if sentence[-1] == \":\": continue  # 문장의 끝이 : 인 문장은 건너뜁니다.\n",
    "\n",
    "    if idx > 9: break   # 일단 문장 10개만 확인해 볼 겁니다.\n",
    "        \n",
    "    print(sentence)"
   ]
  },
  {
   "cell_type": "code",
   "execution_count": 5,
   "id": "banned-poker",
   "metadata": {},
   "outputs": [
    {
     "name": "stdout",
     "output_type": "stream",
     "text": [
      "<start> it s so good too <end>\n"
     ]
    }
   ],
   "source": [
    "def preprocess_sentence(sentence):\n",
    "    sentence = sentence.lower().strip()       # 소문자로 바꾸고 양쪽 공백을 삭제\n",
    "  \n",
    "    # 아래 3단계를 거쳐 sentence는 스페이스 1개를 delimeter로 하는 소문자 단어 시퀀스로 바뀝니다.\n",
    "    sentence = re.sub(r\"([?.!,¿])\", r\" \\1 \", sentence)        # 패턴의 특수문자를 만나면 특수문자 양쪽에 공백을 추가\n",
    "    sentence = re.sub(r'[\" \"]+', \" \", sentence)                  # 공백 패턴을 만나면 스페이스 1개로 치환\n",
    "    sentence = re.sub(r\"[^a-zA-Z?.!,¿]+\", \" \", sentence)  # a-zA-Z?.!,¿ 패턴을 제외한 모든 문자(공백문자까지도)를 스페이스 1개로 치환\n",
    "\n",
    "    sentence = sentence.strip()\n",
    "\n",
    "    sentence = '<start> ' + sentence + ' <end>'      # 이전 스텝에서 본 것처럼 문장 앞뒤로 <start>와 <end>를 단어처럼 붙여 줍니다\n",
    "    \n",
    "    return sentence\n",
    "\n",
    "print(preprocess_sentence(\"It's so good too\"))   # 이 문장이 어떻게 필터링되는지 확인해 보세요."
   ]
  },
  {
   "cell_type": "code",
   "execution_count": 6,
   "id": "amber-workstation",
   "metadata": {},
   "outputs": [
    {
     "data": {
      "text/plain": [
       "['<start> spoken intro <end>',\n",
       " '<start> you ever want something <end>',\n",
       " '<start> the more you want it <end>',\n",
       " '<start> and then one day you get it , <end>',\n",
       " '<start> it s so good too <end>',\n",
       " '<start> but it s just like my girl <end>',\n",
       " '<start> when she s around me <end>',\n",
       " '<start> i just feel so good , so good <end>',\n",
       " '<start> right down to my bones <end>',\n",
       " '<start> cause ooh . . . <end>']"
      ]
     },
     "execution_count": 6,
     "metadata": {},
     "output_type": "execute_result"
    }
   ],
   "source": [
    "corpus = [] #정제한 데이터를 corpus에 담고 다시 확인!\n",
    "\n",
    "for sentence in raw_corpus:\n",
    "    if len(sentence) == 0: continue\n",
    "    if len(sentence) > 30: continue \n",
    "        \n",
    "    corpus.append(preprocess_sentence(sentence))\n",
    "        \n",
    "corpus[:10]"
   ]
  },
  {
   "cell_type": "code",
   "execution_count": 11,
   "id": "owned-surfing",
   "metadata": {},
   "outputs": [
    {
     "name": "stdout",
     "output_type": "stream",
     "text": [
      "14\n"
     ]
    }
   ],
   "source": [
    "print(len(\"<start>  <end>\"))"
   ]
  },
  {
   "cell_type": "markdown",
   "id": "geological-northern",
   "metadata": {},
   "source": [
    "# 3. 데이터셋 내 길이 분포"
   ]
  },
  {
   "cell_type": "code",
   "execution_count": 12,
   "id": "informational-identification",
   "metadata": {},
   "outputs": [
    {
     "name": "stdout",
     "output_type": "stream",
     "text": [
      "문장 길이:  26\n",
      " 문장 길이:  37\n"
     ]
    }
   ],
   "source": [
    "print('문장 길이: ', len(corpus[0]))\n",
    "print(' 문장 길이: ', len(corpus[1]))"
   ]
  },
  {
   "cell_type": "code",
   "execution_count": 13,
   "id": "coastal-composition",
   "metadata": {},
   "outputs": [
    {
     "name": "stdout",
     "output_type": "stream",
     "text": [
      "문장길이 평균 :  35.167973462002415\n",
      "문장길이 최대 :  55\n",
      "문장길이 표준편차 :  6.669175250734627\n"
     ]
    }
   ],
   "source": [
    "num_tokens = [len(tokens) for tokens in corpus]\n",
    "num_tokens = np.array(num_tokens)\n",
    "# 문장길이의 평균값, 최대값, 표준편차를 계산해 본다. \n",
    "print('문장길이 평균 : ', np.mean(num_tokens))\n",
    "print('문장길이 최대 : ', np.max(num_tokens))\n",
    "print('문장길이 표준편차 : ', np.std(num_tokens))"
   ]
  },
  {
   "cell_type": "code",
   "execution_count": 14,
   "id": "aggregate-opera",
   "metadata": {},
   "outputs": [
    {
     "name": "stdout",
     "output_type": "stream",
     "text": [
      "리뷰의 최대 길이 : 55\n",
      "리뷰의 평균 길이 : 35.167973462002415\n"
     ]
    },
    {
     "data": {
      "image/png": "[encoded data removed]",
      "text/plain": [
       "<Figure size 432x288 with 1 Axes>"
      ]
     },
     "metadata": {
      "needs_background": "light"
     },
     "output_type": "display_data"
    }
   ],
   "source": [
    "import matplotlib.pyplot as plt\n",
    "print('리뷰의 최대 길이 :', np.max(num_tokens))\n",
    "print('리뷰의 평균 길이 :', np.mean(num_tokens))\n",
    "plt.hist([len(s) for s in corpus], bins=10)\n",
    "plt.xlabel('length of samples')\n",
    "plt.ylabel('number of samples')\n",
    "plt.show()"
   ]
  },
  {
   "cell_type": "code",
   "execution_count": 15,
   "id": "expired-result",
   "metadata": {},
   "outputs": [
    {
     "name": "stdout",
     "output_type": "stream",
     "text": [
      "pad_sequences maxlen :  15\n",
      "전체 문장의 0.9996298936286874%가 maxlen 설정값 이내에 포함됩니다. \n"
     ]
    }
   ],
   "source": [
    "# 적절한 최대 문장길이 지정\n",
    "max_tokens = np.mean(num_tokens) + 2 * np.std(num_tokens)\n",
    "max_len = 15\n",
    "print('pad_sequences maxlen : ', max_len)\n",
    "print('전체 문장의 {}%가 maxlen 설정값 이내에 포함됩니다. '.format(np.sum(num_tokens < max_tokens) / len(num_tokens)))"
   ]
  },
  {
   "cell_type": "code",
   "execution_count": 16,
   "id": "political-luther",
   "metadata": {},
   "outputs": [
    {
     "name": "stdout",
     "output_type": "stream",
     "text": [
      "[[   2 1762 1408 ...    0    0    0]\n",
      " [   2    6  181 ...    0    0    0]\n",
      " [   2    7  108 ...    0    0    0]\n",
      " ...\n",
      " [   2   30   31 ...    0    0    0]\n",
      " [   2    4   43 ...    0    0    0]\n",
      " [   2   19   16 ...    0    0    0]] <keras_preprocessing.text.Tokenizer object at 0x7fac5da4e6d0>\n"
     ]
    }
   ],
   "source": [
    "# 토큰화\n",
    "import tensorflow as tf\n",
    "\n",
    "def tokenize(corpus):\n",
    "    # 텐서플로우에서 제공하는 Tokenizer 패키지를 생성\n",
    "    tokenizer = tf.keras.preprocessing.text.Tokenizer(\n",
    "        num_words=12000,  # 전체 단어의 개수 \n",
    "        filters=' ',   \n",
    "        oov_token=\"<unk>\"  # out-of-vocabulary, 사전에 없었던 단어는 어떤 토큰으로 대체할지\n",
    "    )\n",
    "    tokenizer.fit_on_texts(corpus)   #corpus로부터 Tokenizer가 단어사전 자동생성.\n",
    "\n",
    "    # 이후 tokenizer를 활용하여 모델에 입력할 데이터셋을 구축하게 됩니다.\n",
    "    tensor = tokenizer.texts_to_sequences(corpus)   # 사전에서 corpus를 해석해 Tensor로 변환합니다.\n",
    "\n",
    "    tensor = tf.keras.preprocessing.sequence.pad_sequences(tensor, padding='post',maxlen=max_len)  \n",
    "\n",
    "    print(tensor,tokenizer)\n",
    "    return tensor, tokenizer\n",
    "\n",
    "tensor, tokenizer = tokenize(corpus)"
   ]
  },
  {
   "cell_type": "code",
   "execution_count": 17,
   "id": "fatal-second",
   "metadata": {},
   "outputs": [
    {
     "name": "stdout",
     "output_type": "stream",
     "text": [
      "[[   2 1762 1408    3    0    0    0    0    0    0]\n",
      " [   2    6  181   61  245    3    0    0    0    0]\n",
      " [   2    7  108    6   61   11    3    0    0    0]]\n"
     ]
    }
   ],
   "source": [
    "print(tensor[:3, :10])"
   ]
  },
  {
   "cell_type": "code",
   "execution_count": 18,
   "id": "invalid-teens",
   "metadata": {},
   "outputs": [
    {
     "name": "stdout",
     "output_type": "stream",
     "text": [
      "1 : <unk>\n",
      "2 : <start>\n",
      "3 : <end>\n",
      "4 : i\n",
      "5 : ,\n",
      "6 : you\n",
      "7 : the\n",
      "8 : and\n",
      "9 : a\n",
      "10 : to\n"
     ]
    }
   ],
   "source": [
    "for idx in tokenizer.index_word:\n",
    "    print(idx, \":\", tokenizer.index_word[idx])\n",
    "\n",
    "    if idx >= 10: break"
   ]
  },
  {
   "cell_type": "markdown",
   "id": "corrected-estonia",
   "metadata": {},
   "source": [
    "# 4. 데이터 셋 구축하기"
   ]
  },
  {
   "cell_type": "code",
   "execution_count": 19,
   "id": "prepared-hazard",
   "metadata": {},
   "outputs": [
    {
     "name": "stdout",
     "output_type": "stream",
     "text": [
      "[   2 1762 1408    3    0    0    0    0    0    0    0    0    0    0]\n",
      "[1762 1408    3    0    0    0    0    0    0    0    0    0    0    0]\n"
     ]
    }
   ],
   "source": [
    "src_input = tensor[:, :-1]  # tensor에서 마지막 토큰을 잘라내서 소스 문장을 생성합니다. 마지막 토큰은 <end>가 아니라 <pad>일 가능성이 높습니다.\n",
    "tgt_input = tensor[:, 1:]    # tensor에서 <start>를 잘라내서 타겟 문장을 생성합니다.\n",
    "\n",
    "print(src_input[0])\n",
    "print(tgt_input[0])"
   ]
  },
  {
   "cell_type": "code",
   "execution_count": 20,
   "id": "incident-retail",
   "metadata": {},
   "outputs": [
    {
     "name": "stdout",
     "output_type": "stream",
     "text": [
      "Source Train: (58361, 14)\n",
      "Target Train: (14591, 14)\n",
      "Source Test: (58361, 14)\n",
      "Target Test: (14591, 14)\n"
     ]
    }
   ],
   "source": [
    "from sklearn.model_selection import train_test_split\n",
    "enc_train, enc_val, dec_train, dec_val = train_test_split(src_input,tgt_input,test_size=0.2,shuffle=True) \n",
    "print(\"Source Train:\", enc_train.shape)\n",
    "print(\"Target Train:\", enc_val.shape)\n",
    "print(\"Source Test:\", dec_train.shape)\n",
    "print(\"Target Test:\", dec_val.shape)"
   ]
  },
  {
   "cell_type": "code",
   "execution_count": 21,
   "id": "comprehensive-drilling",
   "metadata": {},
   "outputs": [
    {
     "data": {
      "text/plain": [
       "'/home/aiffel-dj54/aiffel/lyricist/models/check'"
      ]
     },
     "execution_count": 21,
     "metadata": {},
     "output_type": "execute_result"
    }
   ],
   "source": [
    "# Hyper-parameters setting\n",
    "buffer_size = len(src_input)\n",
    "batch_size = 256\n",
    "max_epochs = 10\n",
    "\n",
    "# the save point\n",
    "checkpoint_dir = os.getenv('HOME')+'/aiffel/lyricist/models/check'\n",
    "\n",
    "checkpoint_dir"
   ]
  },
  {
   "cell_type": "markdown",
   "id": "relative-solomon",
   "metadata": {},
   "source": [
    "# 5. DATA SETTING"
   ]
  },
  {
   "cell_type": "code",
   "execution_count": 22,
   "id": "tight-bailey",
   "metadata": {},
   "outputs": [
    {
     "data": {
      "text/plain": [
       "(<BatchDataset shapes: ((256, 14), (256, 14)), types: (tf.int32, tf.int32)>,\n",
       " <BatchDataset shapes: ((256, 14), (256, 14)), types: (tf.int32, tf.int32)>)"
      ]
     },
     "execution_count": 22,
     "metadata": {},
     "output_type": "execute_result"
    }
   ],
   "source": [
    "train_dataset = tf.data.Dataset.from_tensor_slices((enc_train, dec_train)).shuffle(buffer_size)\n",
    "train_dataset = train_dataset.batch(batch_size, drop_remainder=True)\n",
    "test_dataset = tf.data.Dataset.from_tensor_slices((enc_val, dec_val)).shuffle(buffer_size)\n",
    "test_dataset = test_dataset.batch(batch_size, drop_remainder=True)\n",
    "train_dataset, test_dataset"
   ]
  },
  {
   "cell_type": "markdown",
   "id": "functioning-glossary",
   "metadata": {},
   "source": [
    "# 6. 모델 구성"
   ]
  },
  {
   "cell_type": "code",
   "execution_count": 23,
   "id": "piano-junior",
   "metadata": {},
   "outputs": [],
   "source": [
    "class TextGenerator(tf.keras.Model):\n",
    "    def __init__(self, vocab_size, embedding_size, hidden_size):\n",
    "        super(TextGenerator, self).__init__()\n",
    "        \n",
    "        self.embedding = tf.keras.layers.Embedding(vocab_size, embedding_size)\n",
    "        self.rnn_1 = tf.keras.layers.LSTM(hidden_size, return_sequences=True)\n",
    "        self.rnn_2 = tf.keras.layers.LSTM(hidden_size, return_sequences=True)\n",
    "        self.linear = tf.keras.layers.Dense(vocab_size)\n",
    "        \n",
    "    def call(self, x):\n",
    "        out = self.embedding(x)\n",
    "        out = self.rnn_1(out)\n",
    "        out = self.rnn_2(out)\n",
    "        out = self.linear(out)\n",
    "        \n",
    "        return out\n",
    "    \n",
    "embedding_size = 256 #차원을 결정 , vocab size와 같음\n",
    "hidden_size = 1024 #몇명의 일꾼을 둘것인지 결정\n",
    "model = TextGenerator(tokenizer.num_words + 1, embedding_size , hidden_size)"
   ]
  },
  {
   "cell_type": "code",
   "execution_count": 24,
   "id": "compliant-legislation",
   "metadata": {},
   "outputs": [
    {
     "data": {
      "text/plain": [
       "<tf.Tensor: shape=(256, 14, 12001), dtype=float32, numpy=\n",
       "array([[[ 8.7232283e-06, -1.2839813e-04,  8.4584208e-05, ...,\n",
       "          1.4149012e-04, -1.6323544e-04, -1.4181418e-04],\n",
       "        [-2.1486057e-04, -2.3602067e-04,  6.8523645e-05, ...,\n",
       "          3.5888347e-04, -2.3425973e-04, -1.2104704e-04],\n",
       "        [-1.8673635e-04, -5.7022291e-04, -3.4830315e-05, ...,\n",
       "          3.4845163e-04, -3.3159921e-04, -2.3493401e-04],\n",
       "        ...,\n",
       "        [-2.4230129e-03,  1.4113135e-03, -1.2717377e-03, ...,\n",
       "         -6.0748495e-04, -3.3056608e-03,  1.0182577e-03],\n",
       "        [-2.6658690e-03,  1.6097085e-03, -1.5722472e-03, ...,\n",
       "         -6.0291507e-04, -3.6445900e-03,  1.2006443e-03],\n",
       "        [-2.8842932e-03,  1.7718320e-03, -1.8443369e-03, ...,\n",
       "         -5.7277386e-04, -3.9421031e-03,  1.3659653e-03]],\n",
       "\n",
       "       [[ 8.7232283e-06, -1.2839813e-04,  8.4584208e-05, ...,\n",
       "          1.4149012e-04, -1.6323544e-04, -1.4181418e-04],\n",
       "        [-1.1350843e-04, -3.1707069e-04,  4.3900032e-05, ...,\n",
       "          2.2120957e-04, -2.6196011e-04, -2.2514899e-04],\n",
       "        [-2.4575877e-04, -2.7143484e-04, -1.3312105e-04, ...,\n",
       "          1.7353390e-05, -8.1589598e-05,  9.1729955e-05],\n",
       "        ...,\n",
       "        [-2.0399233e-03,  6.1675219e-04, -1.1571927e-03, ...,\n",
       "         -1.3258775e-03, -3.2113746e-03,  9.3049556e-04],\n",
       "        [-2.3541318e-03,  9.3473960e-04, -1.3666414e-03, ...,\n",
       "         -1.2917958e-03, -3.6440515e-03,  1.0284550e-03],\n",
       "        [-2.6316489e-03,  1.2190919e-03, -1.5787333e-03, ...,\n",
       "         -1.2209263e-03, -4.0065730e-03,  1.1271228e-03]],\n",
       "\n",
       "       [[ 8.7232283e-06, -1.2839813e-04,  8.4584208e-05, ...,\n",
       "          1.4149012e-04, -1.6323544e-04, -1.4181418e-04],\n",
       "        [-2.2792465e-04, -1.9211172e-04,  2.0128781e-04, ...,\n",
       "          2.7869531e-04, -1.3116343e-04, -3.0407231e-04],\n",
       "        [-2.4473699e-04, -3.1424311e-04,  2.7698508e-04, ...,\n",
       "          1.0991100e-04, -1.1394646e-04, -6.5093482e-04],\n",
       "        ...,\n",
       "        [-1.9472683e-03,  1.1954508e-03, -3.6975797e-04, ...,\n",
       "         -2.0225507e-03, -2.5972899e-03,  9.8576151e-05],\n",
       "        [-2.2215582e-03,  1.3454818e-03, -7.9857669e-04, ...,\n",
       "         -1.9253154e-03, -3.0394518e-03,  3.3811506e-04],\n",
       "        [-2.4796794e-03,  1.4877232e-03, -1.2011603e-03, ...,\n",
       "         -1.7887844e-03, -3.4382413e-03,  5.7427469e-04]],\n",
       "\n",
       "       ...,\n",
       "\n",
       "       [[ 8.7232283e-06, -1.2839813e-04,  8.4584208e-05, ...,\n",
       "          1.4149012e-04, -1.6323544e-04, -1.4181418e-04],\n",
       "        [-7.3679090e-05,  1.1977310e-04,  2.4635979e-04, ...,\n",
       "          5.2854524e-04, -2.5168483e-04,  5.0405091e-05],\n",
       "        [-5.2377676e-05,  2.4974809e-04,  5.4014364e-04, ...,\n",
       "          5.0480774e-04, -3.1853406e-04,  8.7464199e-05],\n",
       "        ...,\n",
       "        [-2.1558735e-03,  9.9118543e-04, -1.1909307e-03, ...,\n",
       "         -1.2413305e-03, -2.9918763e-03,  8.5360813e-04],\n",
       "        [-2.4275123e-03,  1.2167135e-03, -1.5006107e-03, ...,\n",
       "         -1.2323600e-03, -3.4069035e-03,  1.0073404e-03],\n",
       "        [-2.6743410e-03,  1.4227944e-03, -1.7820359e-03, ...,\n",
       "         -1.1841275e-03, -3.7683500e-03,  1.1495713e-03]],\n",
       "\n",
       "       [[ 8.7232283e-06, -1.2839813e-04,  8.4584208e-05, ...,\n",
       "          1.4149012e-04, -1.6323544e-04, -1.4181418e-04],\n",
       "        [-2.8390532e-05, -1.9528379e-04,  2.0012238e-04, ...,\n",
       "          2.8093116e-04, -8.2154082e-05,  3.5015983e-05],\n",
       "        [ 6.6825189e-05, -2.7143580e-04,  1.0257122e-04, ...,\n",
       "          2.1763626e-04, -4.4702228e-05,  3.2209570e-04],\n",
       "        ...,\n",
       "        [-2.6370294e-03,  1.0869590e-03, -1.7893491e-03, ...,\n",
       "         -1.3396924e-03, -3.7407654e-03,  1.5785138e-03],\n",
       "        [-2.8750240e-03,  1.2786189e-03, -2.0150333e-03, ...,\n",
       "         -1.2950122e-03, -4.0863492e-03,  1.6335358e-03],\n",
       "        [-3.0821816e-03,  1.4499156e-03, -2.2150304e-03, ...,\n",
       "         -1.2206871e-03, -4.3779435e-03,  1.6856616e-03]],\n",
       "\n",
       "       [[ 8.7232283e-06, -1.2839813e-04,  8.4584208e-05, ...,\n",
       "          1.4149012e-04, -1.6323544e-04, -1.4181418e-04],\n",
       "        [-8.8621848e-05, -2.8650524e-04, -1.6454732e-04, ...,\n",
       "          6.0455117e-05, -2.0767044e-04, -3.2654492e-04],\n",
       "        [-2.7298132e-05, -3.7459173e-04, -5.7399966e-04, ...,\n",
       "          1.9089581e-04, -1.2739190e-04, -2.2420233e-04],\n",
       "        ...,\n",
       "        [-2.5002514e-03,  1.3667615e-03, -1.9025153e-03, ...,\n",
       "         -1.3531459e-03, -3.4451836e-03,  3.8496533e-04],\n",
       "        [-2.7549283e-03,  1.5381362e-03, -2.1231249e-03, ...,\n",
       "         -1.3288169e-03, -3.8480591e-03,  5.8836245e-04],\n",
       "        [-2.9778001e-03,  1.6910580e-03, -2.3251411e-03, ...,\n",
       "         -1.2658304e-03, -4.1850121e-03,  7.8117335e-04]]], dtype=float32)>"
      ]
     },
     "execution_count": 24,
     "metadata": {},
     "output_type": "execute_result"
    }
   ],
   "source": [
    "#총 12001개의 정보를 1batch에 256개를 넣어서 계산\n",
    "\n",
    "for src_sample, tgt_sample in train_dataset.take(1): break\n",
    "model(src_sample)"
   ]
  },
  {
   "cell_type": "code",
   "execution_count": 25,
   "id": "existing-azerbaijan",
   "metadata": {},
   "outputs": [
    {
     "name": "stdout",
     "output_type": "stream",
     "text": [
      "Model: \"text_generator\"\n",
      "_________________________________________________________________\n",
      "Layer (type)                 Output Shape              Param #   \n",
      "=================================================================\n",
      "embedding (Embedding)        multiple                  3072256   \n",
      "_________________________________________________________________\n",
      "lstm (LSTM)                  multiple                  5246976   \n",
      "_________________________________________________________________\n",
      "lstm_1 (LSTM)                multiple                  8392704   \n",
      "_________________________________________________________________\n",
      "dense (Dense)                multiple                  12301025  \n",
      "=================================================================\n",
      "Total params: 29,012,961\n",
      "Trainable params: 29,012,961\n",
      "Non-trainable params: 0\n",
      "_________________________________________________________________\n"
     ]
    }
   ],
   "source": [
    "model.summary()"
   ]
  },
  {
   "cell_type": "code",
   "execution_count": 26,
   "id": "manufactured-toolbox",
   "metadata": {},
   "outputs": [
    {
     "name": "stdout",
     "output_type": "stream",
     "text": [
      "✅\n"
     ]
    }
   ],
   "source": [
    "optimizer=tf.keras.optimizers.Adam()\n",
    "loss = tf.keras.losses.SparseCategoricalCrossentropy(\n",
    "    from_logits=True, reduction='none')\n",
    "\n",
    "model.compile(loss=loss,\n",
    "             optimizer=optimizer,\n",
    "             metrics=['accuracy'])\n",
    "print(\"✅\")"
   ]
  },
  {
   "cell_type": "code",
   "execution_count": 27,
   "id": "pacific-nevada",
   "metadata": {},
   "outputs": [
    {
     "name": "stdout",
     "output_type": "stream",
     "text": [
      "✅\n"
     ]
    }
   ],
   "source": [
    "#val loss를 모니터하고 loss가 낮아지면 자동을 모델파라미터 저장\n",
    "cp_callback = tf.keras.callbacks.ModelCheckpoint(checkpoint_dir,\n",
    "                                                 save_weights_only=True,\n",
    "                                                 monitor='val_loss',\n",
    "                                                 mode='auto',\n",
    "                                                 save_best_only=True,\n",
    "                                                 verbose=1)\n",
    "print(\"✅\")"
   ]
  },
  {
   "cell_type": "markdown",
   "id": "municipal-citation",
   "metadata": {},
   "source": [
    "# 7. 모델 훈련\n",
    "  call back 함수\n",
    "- 모델 fit 함수 쓸때, call back 함수로 중간에 원하는 동작하도록 설정\n",
    "- 모델 재사용하기 위해 모델 가중치 저장"
   ]
  },
  {
   "cell_type": "code",
   "execution_count": 28,
   "id": "sealed-survival",
   "metadata": {},
   "outputs": [
    {
     "name": "stdout",
     "output_type": "stream",
     "text": [
      "Epoch 1/10\n",
      "227/227 [==============================] - ETA: 0s - loss: 2.7298 - accuracy: 0.6243\n",
      "Epoch 00001: val_loss improved from inf to 2.30776, saving model to /home/aiffel-dj54/aiffel/lyricist/models/check\n",
      "227/227 [==============================] - 33s 147ms/step - loss: 2.7298 - accuracy: 0.6243 - val_loss: 2.3078 - val_accuracy: 0.6583\n",
      "Epoch 2/10\n",
      "227/227 [==============================] - ETA: 0s - loss: 2.2231 - accuracy: 0.6607\n",
      "Epoch 00002: val_loss improved from 2.30776 to 2.18391, saving model to /home/aiffel-dj54/aiffel/lyricist/models/check\n",
      "227/227 [==============================] - 34s 148ms/step - loss: 2.2231 - accuracy: 0.6607 - val_loss: 2.1839 - val_accuracy: 0.6650\n",
      "Epoch 3/10\n",
      "227/227 [==============================] - ETA: 0s - loss: 2.0919 - accuracy: 0.6699\n",
      "Epoch 00003: val_loss improved from 2.18391 to 2.08324, saving model to /home/aiffel-dj54/aiffel/lyricist/models/check\n",
      "227/227 [==============================] - 34s 149ms/step - loss: 2.0919 - accuracy: 0.6699 - val_loss: 2.0832 - val_accuracy: 0.6732\n",
      "Epoch 4/10\n",
      "227/227 [==============================] - ETA: 0s - loss: 1.9846 - accuracy: 0.6784\n",
      "Epoch 00004: val_loss improved from 2.08324 to 2.01555, saving model to /home/aiffel-dj54/aiffel/lyricist/models/check\n",
      "227/227 [==============================] - 35s 154ms/step - loss: 1.9846 - accuracy: 0.6784 - val_loss: 2.0155 - val_accuracy: 0.6791\n",
      "Epoch 5/10\n",
      "227/227 [==============================] - ETA: 0s - loss: 1.9039 - accuracy: 0.6839\n",
      "Epoch 00005: val_loss improved from 2.01555 to 1.97341, saving model to /home/aiffel-dj54/aiffel/lyricist/models/check\n",
      "227/227 [==============================] - 34s 151ms/step - loss: 1.9039 - accuracy: 0.6839 - val_loss: 1.9734 - val_accuracy: 0.6833\n",
      "Epoch 6/10\n",
      "227/227 [==============================] - ETA: 0s - loss: 1.8346 - accuracy: 0.6889\n",
      "Epoch 00006: val_loss improved from 1.97341 to 1.93281, saving model to /home/aiffel-dj54/aiffel/lyricist/models/check\n",
      "227/227 [==============================] - 34s 151ms/step - loss: 1.8346 - accuracy: 0.6889 - val_loss: 1.9328 - val_accuracy: 0.6875\n",
      "Epoch 7/10\n",
      "227/227 [==============================] - ETA: 0s - loss: 1.7706 - accuracy: 0.6940\n",
      "Epoch 00007: val_loss improved from 1.93281 to 1.90122, saving model to /home/aiffel-dj54/aiffel/lyricist/models/check\n",
      "227/227 [==============================] - 34s 150ms/step - loss: 1.7706 - accuracy: 0.6940 - val_loss: 1.9012 - val_accuracy: 0.6908\n",
      "Epoch 8/10\n",
      "227/227 [==============================] - ETA: 0s - loss: 1.7107 - accuracy: 0.6991\n",
      "Epoch 00008: val_loss improved from 1.90122 to 1.87171, saving model to /home/aiffel-dj54/aiffel/lyricist/models/check\n",
      "227/227 [==============================] - 34s 150ms/step - loss: 1.7107 - accuracy: 0.6991 - val_loss: 1.8717 - val_accuracy: 0.6954\n",
      "Epoch 9/10\n",
      "227/227 [==============================] - ETA: 0s - loss: 1.6543 - accuracy: 0.7049\n",
      "Epoch 00009: val_loss improved from 1.87171 to 1.84674, saving model to /home/aiffel-dj54/aiffel/lyricist/models/check\n",
      "227/227 [==============================] - 34s 151ms/step - loss: 1.6543 - accuracy: 0.7049 - val_loss: 1.8467 - val_accuracy: 0.6989\n",
      "Epoch 10/10\n",
      "227/227 [==============================] - ETA: 0s - loss: 1.6020 - accuracy: 0.7103\n",
      "Epoch 00010: val_loss improved from 1.84674 to 1.82651, saving model to /home/aiffel-dj54/aiffel/lyricist/models/check\n",
      "227/227 [==============================] - 34s 151ms/step - loss: 1.6020 - accuracy: 0.7103 - val_loss: 1.8265 - val_accuracy: 0.7027\n",
      "✅\n"
     ]
    }
   ],
   "source": [
    "history= model.fit(train_dataset, epochs=max_epochs,\n",
    "        steps_per_epoch=len(enc_train) // batch_size,\n",
    "        validation_data=test_dataset,\n",
    "        validation_steps=len(enc_val) // batch_size,\n",
    "        callbacks=[cp_callback]\n",
    "                    )\n",
    "print(\"✅\")"
   ]
  },
  {
   "cell_type": "markdown",
   "id": "dangerous-choir",
   "metadata": {},
   "source": [
    "# 8. 훈련 결과"
   ]
  },
  {
   "cell_type": "code",
   "execution_count": 30,
   "id": "urban-sword",
   "metadata": {},
   "outputs": [
    {
     "data": {
      "image/png": "[encoded data removed]",
      "text/plain": [
       "<Figure size 576x576 with 2 Axes>"
      ]
     },
     "metadata": {
      "needs_background": "light"
     },
     "output_type": "display_data"
    },
    {
     "name": "stdout",
     "output_type": "stream",
     "text": [
      "✅\n"
     ]
    }
   ],
   "source": [
    "import matplotlib.pyplot as plt\n",
    "\n",
    "acc = history.history['accuracy']\n",
    "val_acc = history.history['val_accuracy']\n",
    "\n",
    "loss=history.history['loss']\n",
    "val_loss=history.history['val_loss']\n",
    "\n",
    "epochs_range = range(len(acc))\n",
    "\n",
    "plt.figure(figsize=(8, 8))\n",
    "plt.subplot(1, 2, 1)\n",
    "plt.plot(epochs_range, acc, label='Training Accuracy')\n",
    "plt.plot(epochs_range, val_acc, label='Validation Accuracy')\n",
    "plt.legend(loc='lower right')\n",
    "plt.title('Training and Validation Accuracy')\n",
    "\n",
    "plt.subplot(1, 2, 2)\n",
    "plt.plot(epochs_range, loss, label='Training Loss')\n",
    "plt.plot(epochs_range, val_loss, label='Validation Loss')\n",
    "plt.legend(loc='upper right')\n",
    "plt.title('Training and Validation Loss')\n",
    "plt.show()\n",
    "print(\"✅\")"
   ]
  },
  {
   "cell_type": "code",
   "execution_count": 34,
   "id": "wrapped-incidence",
   "metadata": {},
   "outputs": [],
   "source": [
    "def generate_text(model, tokenizer, init_sentence=\"<start>\", max_len=30):\n",
    "    # 테스트를 위해서 입력받은 init_sentence도 일단 텐서로 변환합니다.\n",
    "    test_input = tokenizer.texts_to_sequences([init_sentence])\n",
    "    test_tensor = tf.convert_to_tensor(test_input, dtype=tf.int64)\n",
    "    end_token = tokenizer.word_index[\"<end>\"]\n",
    "\n",
    "    # 텍스트를 실제로 생성할때는 루프를 돌면서 단어 하나씩 생성해야 합니다. \n",
    "    while True:\n",
    "        predict = model(test_tensor)   \n",
    "        predict_word = tf.argmax(tf.nn.softmax(predict, axis=-1), axis=-1)[:, -1]   # 우리 모델이 예측한 마지막 단어가 바로 새롭게 생성한 단어가 됩니다. \n",
    "\n",
    "        \n",
    "        test_tensor = tf.concat([test_tensor, tf.expand_dims(predict_word, axis=0)], axis=-1)\n",
    "\n",
    "        # 우리 모델이 <end>를 예측했거나, max_len에 도달하지 않았다면  while 루프를 또 돌면서 다음 단어를 예측해야 합니다.\n",
    "        if predict_word.numpy()[0] == end_token: break\n",
    "        if test_tensor.shape[1] >= max_len: break\n",
    "\n",
    "    generated = \"\"\n",
    "    # 생성된 tensor 안에 있는 word index를 tokenizer.index_word 사전을 통해 실제 단어로 하나씩 변환합니다. \n",
    "    for word_index in test_tensor[0].numpy():\n",
    "        generated += tokenizer.index_word[word_index] + \" \"\n",
    "\n",
    "    return generated   # 이것이 최종적으로 모델이 생성한 자연어 문장입니다."
   ]
  },
  {
   "cell_type": "code",
   "execution_count": 36,
   "id": "macro-accounting",
   "metadata": {},
   "outputs": [
    {
     "data": {
      "text/plain": [
       "'<start> i love you <end> '"
      ]
     },
     "execution_count": 36,
     "metadata": {},
     "output_type": "execute_result"
    }
   ],
   "source": [
    "generate_text(model, tokenizer, init_sentence=\"<start> i love\", max_len=30)"
   ]
  },
  {
   "cell_type": "markdown",
   "id": "current-debut",
   "metadata": {},
   "source": [
    "# 9. 회고"
   ]
  },
  {
   "cell_type": "markdown",
   "id": "virgin-mason",
   "metadata": {},
   "source": [
    "## 프로젝트하면서 생긴 문제점\n",
    "1. 토큰길이 줄이기\n",
    "* 토큰의 길이를 15로 줄이는 과정이 너무 헷갈렸다.\n",
    "* 토큰의 길이를 줄여야하는데 문장길이를 줄이는 방법만 알고 있어서 어떤 함수를 사용해야할지 몰랐었다. \n",
    "* 프로젝트 4를 참고해서 토큰 길이 지정하는 방법을 알았지만 토큰전에 하는지 후에 하는지 몰라서 헤멨다. (토큰화 공부 더 필요함을 느꼈다)\n",
    "\n",
    "해결: 프로젝트 4를 참고해서 문장길이 확인- 적절한 문장길이 지정(여기서 max_len을 지정한다)- 토큰화 \n",
    "\n",
    "2. 데이터셋 구축하기\n",
    "* 프로젝트 6에서 데이터를 나누는 부분이 명확하게 이해가 안됐다. 여태 numpy array 형식으로 진행해서 프로젝트6를 참고하지 않고 프로젝트4를 보고 데이터를 나눴다. 데이터 셋을 안만들고 모델에 적용하려고 했지만 text generator를 사용할때 데이터 셋을 만들어야해서 \n",
    "* tf.data.Dataset에서 data.dataset.from_tensor_slice()메소드 사용해서 dataset 생성\n",
    "\n",
    "3. git hub에 push 하는 과정에서 프로젝트가 날라갔다...\n",
    "* 결국 기한을 넘기고 밤에 다시 만들었다...\n",
    "* 같은 코드를 사용했지만 오류를 엄청나게 많이 만났다.\n",
    "\n",
    "4. 오류1) 첫번째 코드에서 유니코드 오류(utf-8' codec can't decode byte 0xdf in position 1: invalid continuation byte)가 떴다.  \n",
    "\n",
    "* with open(txt_file, \"r\")- 여기서 r -->rb 로 바꾸거나 encoding으로 조절을 해줘야한다.\n",
    "\n",
    "* 오류2) 데이터 불러올때 데이터 크기가 9만개가 나왔다...\n",
    "* 문제: check point 자료를 파일에 넣어서 파일의 양이 엄청 많았었다. \n",
    "* 파일 경로 설정이 중요함을 다시 느꼈다. \n",
    "\n",
    "5. 데이터 정제에서  if len(sentence) > 30: continue  sentence 길이를 제한했다. \n",
    "하지만 문장길이가 55다... \n",
    "start와 end 길이는 15정도인데 왜 55가 나왔는지 의문이었다. \n",
    "\n",
    "고민 끝에 알게 된점은 max_len이 전처리를 거치면서 토큰단위로 공백을 추가해서 문장 길이가 증가했다. \n"
   ]
  }
 ],
 "metadata": {
  "kernelspec": {
   "display_name": "aiffel",
   "language": "python",
   "name": "aiffel"
  },
  "language_info": {
   "codemirror_mode": {
    "name": "ipython",
    "version": 3
   },
   "file_extension": ".py",
   "mimetype": "text/x-python",
   "name": "python",
   "nbconvert_exporter": "python",
   "pygments_lexer": "ipython3",
   "version": "3.7.9"
  }
 },
 "nbformat": 4,
 "nbformat_minor": 5
}
